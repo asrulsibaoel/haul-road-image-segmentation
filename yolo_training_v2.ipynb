{
 "cells": [
  {
   "cell_type": "code",
   "execution_count": 1,
   "metadata": {},
   "outputs": [],
   "source": [
    "from ultralytics import YOLO\n",
    "import os"
   ]
  },
  {
   "cell_type": "code",
   "execution_count": 2,
   "metadata": {},
   "outputs": [],
   "source": [
    "# Step 1: Define Dataset YAML Path\n",
    "DATASET_YAML = \"/mnt/e/pekerjaan/simas/road/data/splitted/deepglobe/dataset.yaml\""
   ]
  },
  {
   "cell_type": "code",
   "execution_count": 3,
   "metadata": {},
   "outputs": [],
   "source": [
    "# Step 2: Train the Model\n",
    "def train_yolo_segmentation():\n",
    "    # Load the YOLO model\n",
    "    model = YOLO(\"yolo11l-seg.pt\")  # Pre-trained YOLOv8 segmentation model\n",
    "\n",
    "    # Train the model\n",
    "    model.train(\n",
    "        data=DATASET_YAML,\n",
    "        epochs=50,\n",
    "        imgsz=640,\n",
    "        batch=8,\n",
    "        name=\"haul_road_segmentation\",\n",
    "        device=0  # Use GPU (set to \"cpu\" if GPU is unavailable)\n",
    "    )\n",
    "\n"
   ]
  },
  {
   "cell_type": "code",
   "execution_count": 8,
   "metadata": {},
   "outputs": [],
   "source": [
    "# Step 3: Validate the Model\n",
    "def validate_yolo_segmentation():\n",
    "    model = YOLO(\"runs/segment/haul_road_segmentation8/weights/best.pt\")\n",
    "    metrics = model.val(data=DATASET_YAML)  # Validate on validation set\n",
    "    print(\"Validation Metrics:\", metrics)\n",
    "\n"
   ]
  },
  {
   "cell_type": "code",
   "execution_count": 2,
   "metadata": {},
   "outputs": [],
   "source": [
    "# Step 4: Inference\n",
    "def infer_image(image_path):\n",
    "    model = YOLO(\"runs/segment/haul_road_segmentation8/weights/best.pt\")\n",
    "    results = model(image_path, save=True, save_txt=True)  # Save predictions and masks\n",
    "    print(\"Inference Complete. Check runs/predict directory.\")\n",
    "\n"
   ]
  },
  {
   "cell_type": "code",
   "execution_count": 6,
   "metadata": {},
   "outputs": [
    {
     "name": "stdout",
     "output_type": "stream",
     "text": [
      "New https://pypi.org/project/ultralytics/8.3.62 available 😃 Update with 'pip install -U ultralytics'\n",
      "Ultralytics 8.3.55 🚀 Python-3.12.8 torch-2.5.1 CUDA:0 (NVIDIA GeForce RTX 3060 Ti, 8192MiB)\n",
      "\u001b[34m\u001b[1mengine/trainer: \u001b[0mtask=segment, mode=train, model=yolo11l-seg.pt, data=/mnt/e/pekerjaan/simas/road/data/splitted/deepglobe/dataset.yaml, epochs=50, time=None, patience=100, batch=8, imgsz=640, save=True, save_period=-1, cache=False, device=0, workers=8, project=None, name=haul_road_segmentation8, exist_ok=False, pretrained=True, optimizer=auto, verbose=True, seed=0, deterministic=True, single_cls=False, rect=False, cos_lr=False, close_mosaic=10, resume=False, amp=True, fraction=1.0, profile=False, freeze=None, multi_scale=False, overlap_mask=True, mask_ratio=4, dropout=0.0, val=True, split=val, save_json=False, save_hybrid=False, conf=None, iou=0.7, max_det=300, half=False, dnn=False, plots=True, source=None, vid_stride=1, stream_buffer=False, visualize=False, augment=False, agnostic_nms=False, classes=None, retina_masks=False, embed=None, show=False, save_frames=False, save_txt=False, save_conf=False, save_crop=False, show_labels=True, show_conf=True, show_boxes=True, line_width=None, format=torchscript, keras=False, optimize=False, int8=False, dynamic=False, simplify=True, opset=None, workspace=None, nms=False, lr0=0.01, lrf=0.01, momentum=0.937, weight_decay=0.0005, warmup_epochs=3.0, warmup_momentum=0.8, warmup_bias_lr=0.1, box=7.5, cls=0.5, dfl=1.5, pose=12.0, kobj=1.0, nbs=64, hsv_h=0.015, hsv_s=0.7, hsv_v=0.4, degrees=0.0, translate=0.1, scale=0.5, shear=0.0, perspective=0.0, flipud=0.0, fliplr=0.5, bgr=0.0, mosaic=1.0, mixup=0.0, copy_paste=0.0, copy_paste_mode=flip, auto_augment=randaugment, erasing=0.4, crop_fraction=1.0, cfg=None, tracker=botsort.yaml, save_dir=runs/segment/haul_road_segmentation8\n",
      "Overriding model.yaml nc=80 with nc=1\n",
      "\n",
      "                   from  n    params  module                                       arguments                     \n",
      "  0                  -1  1      1856  ultralytics.nn.modules.conv.Conv             [3, 64, 3, 2]                 \n",
      "  1                  -1  1     73984  ultralytics.nn.modules.conv.Conv             [64, 128, 3, 2]               \n",
      "  2                  -1  2    173824  ultralytics.nn.modules.block.C3k2            [128, 256, 2, True, 0.25]     \n",
      "  3                  -1  1    590336  ultralytics.nn.modules.conv.Conv             [256, 256, 3, 2]              \n",
      "  4                  -1  2    691712  ultralytics.nn.modules.block.C3k2            [256, 512, 2, True, 0.25]     \n",
      "  5                  -1  1   2360320  ultralytics.nn.modules.conv.Conv             [512, 512, 3, 2]              \n",
      "  6                  -1  2   2234368  ultralytics.nn.modules.block.C3k2            [512, 512, 2, True]           \n",
      "  7                  -1  1   2360320  ultralytics.nn.modules.conv.Conv             [512, 512, 3, 2]              \n",
      "  8                  -1  2   2234368  ultralytics.nn.modules.block.C3k2            [512, 512, 2, True]           \n",
      "  9                  -1  1    656896  ultralytics.nn.modules.block.SPPF            [512, 512, 5]                 \n",
      " 10                  -1  2   1455616  ultralytics.nn.modules.block.C2PSA           [512, 512, 2]                 \n",
      " 11                  -1  1         0  torch.nn.modules.upsampling.Upsample         [None, 2, 'nearest']          \n",
      " 12             [-1, 6]  1         0  ultralytics.nn.modules.conv.Concat           [1]                           \n",
      " 13                  -1  2   2496512  ultralytics.nn.modules.block.C3k2            [1024, 512, 2, True]          \n",
      " 14                  -1  1         0  torch.nn.modules.upsampling.Upsample         [None, 2, 'nearest']          \n",
      " 15             [-1, 4]  1         0  ultralytics.nn.modules.conv.Concat           [1]                           \n",
      " 16                  -1  2    756736  ultralytics.nn.modules.block.C3k2            [1024, 256, 2, True]          \n",
      " 17                  -1  1    590336  ultralytics.nn.modules.conv.Conv             [256, 256, 3, 2]              \n",
      " 18            [-1, 13]  1         0  ultralytics.nn.modules.conv.Concat           [1]                           \n",
      " 19                  -1  2   2365440  ultralytics.nn.modules.block.C3k2            [768, 512, 2, True]           \n",
      " 20                  -1  1   2360320  ultralytics.nn.modules.conv.Conv             [512, 512, 3, 2]              \n",
      " 21            [-1, 10]  1         0  ultralytics.nn.modules.conv.Concat           [1]                           \n",
      " 22                  -1  2   2496512  ultralytics.nn.modules.block.C3k2            [1024, 512, 2, True]          \n",
      " 23        [16, 19, 22]  1   3718003  ultralytics.nn.modules.head.Segment          [1, 32, 256, [256, 512, 512]] \n",
      "YOLO11l-seg summary: 667 layers, 27,617,459 parameters, 27,617,443 gradients, 142.7 GFLOPs\n",
      "\n",
      "Transferred 1071/1077 items from pretrained weights\n",
      "Freezing layer 'model.23.dfl.conv.weight'\n",
      "\u001b[34m\u001b[1mAMP: \u001b[0mrunning Automatic Mixed Precision (AMP) checks...\n",
      "\u001b[34m\u001b[1mAMP: \u001b[0mchecks passed ✅\n"
     ]
    },
    {
     "name": "stderr",
     "output_type": "stream",
     "text": [
      "\u001b[34m\u001b[1mtrain: \u001b[0mScanning /mnt/e/pekerjaan/simas/road/data/splitted/deepglobe/labels/train.cache... 4980 images, 0 backgrounds, 0 corrupt: 100%|██████████| 4980/4980 [00:00<?, ?it/s]\n"
     ]
    },
    {
     "name": "stdout",
     "output_type": "stream",
     "text": [
      "\u001b[34m\u001b[1malbumentations: \u001b[0mBlur(p=0.01, blur_limit=(3, 7)), MedianBlur(p=0.01, blur_limit=(3, 7)), ToGray(p=0.01, num_output_channels=3, method='weighted_average'), CLAHE(p=0.01, clip_limit=(1.0, 4.0), tile_grid_size=(8, 8))\n"
     ]
    },
    {
     "name": "stderr",
     "output_type": "stream",
     "text": [
      "/home/asrulsibaoel/miniconda3/lib/python3.12/site-packages/albumentations/__init__.py:24: UserWarning: A new version of Albumentations is available: 2.0.0 (you have 1.4.24). Upgrade using: pip install -U albumentations. To disable automatic update checks, set the environment variable NO_ALBUMENTATIONS_UPDATE to 1.\n",
      "  check_for_updates()\n",
      "\u001b[34m\u001b[1mval: \u001b[0mScanning /mnt/e/pekerjaan/simas/road/data/splitted/deepglobe/labels/val... 1246 images, 0 backgrounds, 0 corrupt: 100%|██████████| 1246/1246 [00:05<00:00, 212.29it/s]\n"
     ]
    },
    {
     "name": "stdout",
     "output_type": "stream",
     "text": [
      "\u001b[34m\u001b[1mval: \u001b[0mNew cache created: /mnt/e/pekerjaan/simas/road/data/splitted/deepglobe/labels/val.cache\n",
      "Plotting labels to runs/segment/haul_road_segmentation8/labels.jpg... \n",
      "\u001b[34m\u001b[1moptimizer:\u001b[0m 'optimizer=auto' found, ignoring 'lr0=0.01' and 'momentum=0.937' and determining best 'optimizer', 'lr0' and 'momentum' automatically... \n",
      "\u001b[34m\u001b[1moptimizer:\u001b[0m AdamW(lr=0.002, momentum=0.9) with parameter groups 176 weight(decay=0.0), 187 weight(decay=0.0005), 186 bias(decay=0.0)\n",
      "Image sizes 640 train, 640 val\n",
      "Using 4 dataloader workers\n",
      "Logging results to \u001b[1mruns/segment/haul_road_segmentation8\u001b[0m\n",
      "Starting training for 50 epochs...\n",
      "\n",
      "      Epoch    GPU_mem   box_loss   seg_loss   cls_loss   dfl_loss  Instances       Size\n"
     ]
    },
    {
     "name": "stderr",
     "output_type": "stream",
     "text": [
      "       1/50      6.66G       1.44      2.673      2.018      1.676         14        640: 100%|██████████| 623/623 [05:18<00:00,  1.96it/s]\n",
      "                 Class     Images  Instances      Box(P          R      mAP50  mAP50-95)     Mask(P          R      mAP50  mAP50-95): 100%|██████████| 78/78 [02:21<00:00,  1.81s/it]\n"
     ]
    },
    {
     "name": "stdout",
     "output_type": "stream",
     "text": [
      "                   all       1246       3052      0.497      0.236      0.253      0.146     0.0896      0.057     0.0192    0.00404\n",
      "\n",
      "      Epoch    GPU_mem   box_loss   seg_loss   cls_loss   dfl_loss  Instances       Size\n"
     ]
    },
    {
     "name": "stderr",
     "output_type": "stream",
     "text": [
      "       2/50      6.72G      1.386       2.52      1.905      1.646         14        640: 100%|██████████| 623/623 [04:53<00:00,  2.12it/s]\n",
      "                 Class     Images  Instances      Box(P          R      mAP50  mAP50-95)     Mask(P          R      mAP50  mAP50-95): 100%|██████████| 78/78 [01:05<00:00,  1.19it/s]\n"
     ]
    },
    {
     "name": "stdout",
     "output_type": "stream",
     "text": [
      "                   all       1246       3052      0.451      0.261      0.256      0.139      0.103     0.0832     0.0193    0.00425\n",
      "\n",
      "      Epoch    GPU_mem   box_loss   seg_loss   cls_loss   dfl_loss  Instances       Size\n"
     ]
    },
    {
     "name": "stderr",
     "output_type": "stream",
     "text": [
      "       3/50      6.52G      1.305      2.494      1.807      1.584         23        640: 100%|██████████| 623/623 [04:39<00:00,  2.23it/s]\n",
      "                 Class     Images  Instances      Box(P          R      mAP50  mAP50-95)     Mask(P          R      mAP50  mAP50-95): 100%|██████████| 78/78 [00:37<00:00,  2.07it/s]\n"
     ]
    },
    {
     "name": "stdout",
     "output_type": "stream",
     "text": [
      "                   all       1246       3052      0.532      0.313       0.33       0.21      0.125      0.115     0.0292    0.00582\n",
      "\n",
      "      Epoch    GPU_mem   box_loss   seg_loss   cls_loss   dfl_loss  Instances       Size\n"
     ]
    },
    {
     "name": "stderr",
     "output_type": "stream",
     "text": [
      "       4/50      6.74G      1.213      2.403      1.715      1.523         12        640: 100%|██████████| 623/623 [04:37<00:00,  2.24it/s]\n",
      "                 Class     Images  Instances      Box(P          R      mAP50  mAP50-95)     Mask(P          R      mAP50  mAP50-95): 100%|██████████| 78/78 [01:50<00:00,  1.42s/it]\n"
     ]
    },
    {
     "name": "stdout",
     "output_type": "stream",
     "text": [
      "                   all       1246       3052      0.555      0.351      0.365      0.222      0.216      0.142       0.06     0.0126\n",
      "\n",
      "      Epoch    GPU_mem   box_loss   seg_loss   cls_loss   dfl_loss  Instances       Size\n"
     ]
    },
    {
     "name": "stderr",
     "output_type": "stream",
     "text": [
      "       5/50      6.73G      1.134      2.313      1.609      1.468         13        640: 100%|██████████| 623/623 [04:37<00:00,  2.25it/s]\n",
      "                 Class     Images  Instances      Box(P          R      mAP50  mAP50-95)     Mask(P          R      mAP50  mAP50-95): 100%|██████████| 78/78 [02:16<00:00,  1.74s/it]\n"
     ]
    },
    {
     "name": "stdout",
     "output_type": "stream",
     "text": [
      "                   all       1246       3052      0.542      0.374      0.386      0.263      0.191      0.171     0.0669     0.0157\n",
      "\n",
      "      Epoch    GPU_mem   box_loss   seg_loss   cls_loss   dfl_loss  Instances       Size\n"
     ]
    },
    {
     "name": "stderr",
     "output_type": "stream",
     "text": [
      "       6/50      6.72G      1.102      2.248      1.578      1.442         20        640: 100%|██████████| 623/623 [04:36<00:00,  2.26it/s]\n",
      "                 Class     Images  Instances      Box(P          R      mAP50  mAP50-95)     Mask(P          R      mAP50  mAP50-95): 100%|██████████| 78/78 [02:04<00:00,  1.60s/it]\n"
     ]
    },
    {
     "name": "stdout",
     "output_type": "stream",
     "text": [
      "                   all       1246       3052      0.473      0.361      0.342      0.221      0.227      0.163     0.0804     0.0191\n",
      "\n",
      "      Epoch    GPU_mem   box_loss   seg_loss   cls_loss   dfl_loss  Instances       Size\n"
     ]
    },
    {
     "name": "stderr",
     "output_type": "stream",
     "text": [
      "       7/50      6.64G      1.053      2.177      1.518      1.416         19        640: 100%|██████████| 623/623 [04:10<00:00,  2.49it/s]\n",
      "                 Class     Images  Instances      Box(P          R      mAP50  mAP50-95)     Mask(P          R      mAP50  mAP50-95): 100%|██████████| 78/78 [01:56<00:00,  1.50s/it]\n"
     ]
    },
    {
     "name": "stdout",
     "output_type": "stream",
     "text": [
      "                   all       1246       3052       0.58      0.393      0.416      0.288      0.326      0.232      0.134     0.0329\n",
      "\n",
      "      Epoch    GPU_mem   box_loss   seg_loss   cls_loss   dfl_loss  Instances       Size\n"
     ]
    },
    {
     "name": "stderr",
     "output_type": "stream",
     "text": [
      "       8/50      6.53G      1.028      2.138      1.492      1.395         19        640: 100%|██████████| 623/623 [04:06<00:00,  2.53it/s]\n",
      "                 Class     Images  Instances      Box(P          R      mAP50  mAP50-95)     Mask(P          R      mAP50  mAP50-95): 100%|██████████| 78/78 [01:33<00:00,  1.20s/it]\n"
     ]
    },
    {
     "name": "stdout",
     "output_type": "stream",
     "text": [
      "                   all       1246       3052      0.571      0.364      0.394      0.265      0.288      0.179     0.0945     0.0245\n",
      "\n",
      "      Epoch    GPU_mem   box_loss   seg_loss   cls_loss   dfl_loss  Instances       Size\n"
     ]
    },
    {
     "name": "stderr",
     "output_type": "stream",
     "text": [
      "       9/50       6.7G      1.002      2.108      1.452       1.38         19        640: 100%|██████████| 623/623 [04:05<00:00,  2.54it/s]\n",
      "                 Class     Images  Instances      Box(P          R      mAP50  mAP50-95)     Mask(P          R      mAP50  mAP50-95): 100%|██████████| 78/78 [01:14<00:00,  1.05it/s]\n"
     ]
    },
    {
     "name": "stdout",
     "output_type": "stream",
     "text": [
      "                   all       1246       3052      0.626      0.413      0.464      0.317      0.376      0.244      0.159     0.0406\n",
      "\n",
      "      Epoch    GPU_mem   box_loss   seg_loss   cls_loss   dfl_loss  Instances       Size\n"
     ]
    },
    {
     "name": "stderr",
     "output_type": "stream",
     "text": [
      "      10/50      6.69G     0.9788      2.062      1.421      1.374         12        640: 100%|██████████| 623/623 [04:05<00:00,  2.54it/s]\n",
      "                 Class     Images  Instances      Box(P          R      mAP50  mAP50-95)     Mask(P          R      mAP50  mAP50-95): 100%|██████████| 78/78 [01:49<00:00,  1.40s/it]\n"
     ]
    },
    {
     "name": "stdout",
     "output_type": "stream",
     "text": [
      "                   all       1246       3052      0.572      0.414      0.436      0.301      0.327      0.251      0.148     0.0383\n",
      "\n",
      "      Epoch    GPU_mem   box_loss   seg_loss   cls_loss   dfl_loss  Instances       Size\n"
     ]
    },
    {
     "name": "stderr",
     "output_type": "stream",
     "text": [
      "      11/50       6.7G     0.9626      2.042      1.399      1.351         24        640: 100%|██████████| 623/623 [04:05<00:00,  2.54it/s]\n",
      "                 Class     Images  Instances      Box(P          R      mAP50  mAP50-95)     Mask(P          R      mAP50  mAP50-95): 100%|██████████| 78/78 [02:13<00:00,  1.71s/it]\n"
     ]
    },
    {
     "name": "stdout",
     "output_type": "stream",
     "text": [
      "                   all       1246       3052      0.564      0.443      0.459      0.321      0.336       0.26      0.167     0.0443\n",
      "\n",
      "      Epoch    GPU_mem   box_loss   seg_loss   cls_loss   dfl_loss  Instances       Size\n"
     ]
    },
    {
     "name": "stderr",
     "output_type": "stream",
     "text": [
      "      12/50      6.72G     0.9326      1.991      1.374      1.333         14        640: 100%|██████████| 623/623 [04:07<00:00,  2.52it/s]\n",
      "                 Class     Images  Instances      Box(P          R      mAP50  mAP50-95)     Mask(P          R      mAP50  mAP50-95): 100%|██████████| 78/78 [02:38<00:00,  2.03s/it]\n"
     ]
    },
    {
     "name": "stdout",
     "output_type": "stream",
     "text": [
      "                   all       1246       3052      0.621       0.42      0.432       0.31      0.378      0.259      0.162     0.0445\n",
      "\n",
      "      Epoch    GPU_mem   box_loss   seg_loss   cls_loss   dfl_loss  Instances       Size\n"
     ]
    },
    {
     "name": "stderr",
     "output_type": "stream",
     "text": [
      "      13/50      6.74G     0.9251      1.978      1.348      1.326         31        640: 100%|██████████| 623/623 [04:08<00:00,  2.50it/s]\n",
      "                 Class     Images  Instances      Box(P          R      mAP50  mAP50-95)     Mask(P          R      mAP50  mAP50-95): 100%|██████████| 78/78 [01:40<00:00,  1.29s/it]\n"
     ]
    },
    {
     "name": "stdout",
     "output_type": "stream",
     "text": [
      "                   all       1246       3052      0.594      0.445      0.479      0.347       0.38      0.293      0.203     0.0561\n",
      "\n",
      "      Epoch    GPU_mem   box_loss   seg_loss   cls_loss   dfl_loss  Instances       Size\n"
     ]
    },
    {
     "name": "stderr",
     "output_type": "stream",
     "text": [
      "      14/50      6.52G     0.8983       1.96      1.327      1.309         30        640: 100%|██████████| 623/623 [04:06<00:00,  2.53it/s]\n",
      "                 Class     Images  Instances      Box(P          R      mAP50  mAP50-95)     Mask(P          R      mAP50  mAP50-95): 100%|██████████| 78/78 [01:36<00:00,  1.24s/it]\n"
     ]
    },
    {
     "name": "stdout",
     "output_type": "stream",
     "text": [
      "                   all       1246       3052      0.634      0.452      0.497      0.361      0.399       0.29      0.195     0.0566\n",
      "\n",
      "      Epoch    GPU_mem   box_loss   seg_loss   cls_loss   dfl_loss  Instances       Size\n"
     ]
    },
    {
     "name": "stderr",
     "output_type": "stream",
     "text": [
      "      15/50      6.44G      0.898      1.939      1.304      1.311         12        640: 100%|██████████| 623/623 [04:05<00:00,  2.54it/s]\n",
      "                 Class     Images  Instances      Box(P          R      mAP50  mAP50-95)     Mask(P          R      mAP50  mAP50-95): 100%|██████████| 78/78 [00:33<00:00,  2.35it/s]\n"
     ]
    },
    {
     "name": "stdout",
     "output_type": "stream",
     "text": [
      "                   all       1246       3052      0.632      0.427      0.469      0.336      0.384      0.256      0.175     0.0487\n",
      "\n",
      "      Epoch    GPU_mem   box_loss   seg_loss   cls_loss   dfl_loss  Instances       Size\n"
     ]
    },
    {
     "name": "stderr",
     "output_type": "stream",
     "text": [
      "      16/50      6.68G      0.884      1.925      1.301      1.299         22        640: 100%|██████████| 623/623 [04:05<00:00,  2.54it/s]\n",
      "                 Class     Images  Instances      Box(P          R      mAP50  mAP50-95)     Mask(P          R      mAP50  mAP50-95): 100%|██████████| 78/78 [01:40<00:00,  1.28s/it]\n"
     ]
    },
    {
     "name": "stdout",
     "output_type": "stream",
     "text": [
      "                   all       1246       3052      0.621       0.46      0.505      0.361      0.444      0.317      0.235     0.0648\n",
      "\n",
      "      Epoch    GPU_mem   box_loss   seg_loss   cls_loss   dfl_loss  Instances       Size\n"
     ]
    },
    {
     "name": "stderr",
     "output_type": "stream",
     "text": [
      "      17/50      6.69G     0.8696      1.921      1.276      1.289         11        640: 100%|██████████| 623/623 [04:06<00:00,  2.52it/s]\n",
      "                 Class     Images  Instances      Box(P          R      mAP50  mAP50-95)     Mask(P          R      mAP50  mAP50-95): 100%|██████████| 78/78 [01:51<00:00,  1.43s/it]\n"
     ]
    },
    {
     "name": "stdout",
     "output_type": "stream",
     "text": [
      "                   all       1246       3052      0.603      0.461        0.5      0.363      0.366      0.263      0.174     0.0462\n",
      "\n",
      "      Epoch    GPU_mem   box_loss   seg_loss   cls_loss   dfl_loss  Instances       Size\n"
     ]
    },
    {
     "name": "stderr",
     "output_type": "stream",
     "text": [
      "      18/50      6.67G     0.8584      1.882      1.247      1.284         23        640: 100%|██████████| 623/623 [04:05<00:00,  2.54it/s]\n",
      "                 Class     Images  Instances      Box(P          R      mAP50  mAP50-95)     Mask(P          R      mAP50  mAP50-95): 100%|██████████| 78/78 [01:56<00:00,  1.49s/it]\n"
     ]
    },
    {
     "name": "stdout",
     "output_type": "stream",
     "text": [
      "                   all       1246       3052      0.638      0.476      0.527      0.389       0.46      0.332      0.256     0.0762\n",
      "\n",
      "      Epoch    GPU_mem   box_loss   seg_loss   cls_loss   dfl_loss  Instances       Size\n"
     ]
    },
    {
     "name": "stderr",
     "output_type": "stream",
     "text": [
      "      19/50      6.72G     0.8487      1.856      1.249      1.273         18        640: 100%|██████████| 623/623 [04:06<00:00,  2.53it/s]\n",
      "                 Class     Images  Instances      Box(P          R      mAP50  mAP50-95)     Mask(P          R      mAP50  mAP50-95): 100%|██████████| 78/78 [00:38<00:00,  2.02it/s]\n"
     ]
    },
    {
     "name": "stdout",
     "output_type": "stream",
     "text": [
      "                   all       1246       3052      0.676      0.469       0.53      0.394      0.453      0.321      0.243     0.0718\n",
      "\n",
      "      Epoch    GPU_mem   box_loss   seg_loss   cls_loss   dfl_loss  Instances       Size\n"
     ]
    },
    {
     "name": "stderr",
     "output_type": "stream",
     "text": [
      "      20/50      6.69G     0.8411      1.835      1.219      1.271         14        640: 100%|██████████| 623/623 [04:02<00:00,  2.57it/s]\n",
      "                 Class     Images  Instances      Box(P          R      mAP50  mAP50-95)     Mask(P          R      mAP50  mAP50-95): 100%|██████████| 78/78 [01:16<00:00,  1.02it/s]\n"
     ]
    },
    {
     "name": "stdout",
     "output_type": "stream",
     "text": [
      "                   all       1246       3052      0.649      0.482      0.537      0.391      0.452      0.351      0.268       0.08\n",
      "\n",
      "      Epoch    GPU_mem   box_loss   seg_loss   cls_loss   dfl_loss  Instances       Size\n"
     ]
    },
    {
     "name": "stderr",
     "output_type": "stream",
     "text": [
      "      21/50      6.71G     0.8352       1.83      1.221      1.272         20        640: 100%|██████████| 623/623 [04:01<00:00,  2.58it/s]\n",
      "                 Class     Images  Instances      Box(P          R      mAP50  mAP50-95)     Mask(P          R      mAP50  mAP50-95): 100%|██████████| 78/78 [01:17<00:00,  1.01it/s]\n"
     ]
    },
    {
     "name": "stdout",
     "output_type": "stream",
     "text": [
      "                   all       1246       3052       0.66       0.47      0.526      0.387       0.45      0.323      0.249      0.074\n",
      "\n",
      "      Epoch    GPU_mem   box_loss   seg_loss   cls_loss   dfl_loss  Instances       Size\n"
     ]
    },
    {
     "name": "stderr",
     "output_type": "stream",
     "text": [
      "      22/50      6.52G     0.8244      1.816      1.216      1.261         27        640: 100%|██████████| 623/623 [04:02<00:00,  2.57it/s]\n",
      "                 Class     Images  Instances      Box(P          R      mAP50  mAP50-95)     Mask(P          R      mAP50  mAP50-95): 100%|██████████| 78/78 [00:39<00:00,  1.98it/s]\n"
     ]
    },
    {
     "name": "stdout",
     "output_type": "stream",
     "text": [
      "                   all       1246       3052      0.635      0.495       0.54      0.405      0.421      0.325      0.235     0.0702\n",
      "\n",
      "      Epoch    GPU_mem   box_loss   seg_loss   cls_loss   dfl_loss  Instances       Size\n"
     ]
    },
    {
     "name": "stderr",
     "output_type": "stream",
     "text": [
      "      23/50      6.43G     0.8112       1.79      1.191       1.25         15        640: 100%|██████████| 623/623 [04:02<00:00,  2.57it/s]\n",
      "                 Class     Images  Instances      Box(P          R      mAP50  mAP50-95)     Mask(P          R      mAP50  mAP50-95): 100%|██████████| 78/78 [00:30<00:00,  2.55it/s]\n"
     ]
    },
    {
     "name": "stdout",
     "output_type": "stream",
     "text": [
      "                   all       1246       3052      0.647      0.489      0.533      0.389      0.454      0.333      0.262     0.0813\n",
      "\n",
      "      Epoch    GPU_mem   box_loss   seg_loss   cls_loss   dfl_loss  Instances       Size\n"
     ]
    },
    {
     "name": "stderr",
     "output_type": "stream",
     "text": [
      "      24/50      6.67G     0.7974      1.802      1.188      1.249         19        640: 100%|██████████| 623/623 [04:01<00:00,  2.57it/s]\n",
      "                 Class     Images  Instances      Box(P          R      mAP50  mAP50-95)     Mask(P          R      mAP50  mAP50-95): 100%|██████████| 78/78 [01:05<00:00,  1.19it/s]\n"
     ]
    },
    {
     "name": "stdout",
     "output_type": "stream",
     "text": [
      "                   all       1246       3052      0.671      0.498      0.561      0.419      0.503      0.373      0.308     0.0941\n",
      "\n",
      "      Epoch    GPU_mem   box_loss   seg_loss   cls_loss   dfl_loss  Instances       Size\n"
     ]
    },
    {
     "name": "stderr",
     "output_type": "stream",
     "text": [
      "      25/50       6.5G     0.7889      1.771      1.156      1.237         15        640: 100%|██████████| 623/623 [04:01<00:00,  2.58it/s]\n",
      "                 Class     Images  Instances      Box(P          R      mAP50  mAP50-95)     Mask(P          R      mAP50  mAP50-95): 100%|██████████| 78/78 [00:31<00:00,  2.48it/s]\n"
     ]
    },
    {
     "name": "stdout",
     "output_type": "stream",
     "text": [
      "                   all       1246       3052       0.66      0.489      0.551       0.42      0.482      0.358      0.293     0.0921\n",
      "\n",
      "      Epoch    GPU_mem   box_loss   seg_loss   cls_loss   dfl_loss  Instances       Size\n"
     ]
    },
    {
     "name": "stderr",
     "output_type": "stream",
     "text": [
      "      26/50      6.69G     0.7844      1.753      1.153      1.231         17        640: 100%|██████████| 623/623 [04:01<00:00,  2.58it/s]\n",
      "                 Class     Images  Instances      Box(P          R      mAP50  mAP50-95)     Mask(P          R      mAP50  mAP50-95): 100%|██████████| 78/78 [01:07<00:00,  1.15it/s]\n"
     ]
    },
    {
     "name": "stdout",
     "output_type": "stream",
     "text": [
      "                   all       1246       3052      0.675      0.499      0.564      0.414      0.511       0.36       0.31     0.0914\n",
      "\n",
      "      Epoch    GPU_mem   box_loss   seg_loss   cls_loss   dfl_loss  Instances       Size\n"
     ]
    },
    {
     "name": "stderr",
     "output_type": "stream",
     "text": [
      "      27/50      6.69G     0.7834      1.754      1.142      1.235         23        640: 100%|██████████| 623/623 [04:01<00:00,  2.58it/s]\n",
      "                 Class     Images  Instances      Box(P          R      mAP50  mAP50-95)     Mask(P          R      mAP50  mAP50-95): 100%|██████████| 78/78 [02:01<00:00,  1.56s/it]\n"
     ]
    },
    {
     "name": "stdout",
     "output_type": "stream",
     "text": [
      "                   all       1246       3052      0.672      0.513      0.576      0.432      0.522      0.387      0.333      0.106\n",
      "\n",
      "      Epoch    GPU_mem   box_loss   seg_loss   cls_loss   dfl_loss  Instances       Size\n"
     ]
    },
    {
     "name": "stderr",
     "output_type": "stream",
     "text": [
      "      28/50      6.67G     0.7663      1.722      1.116      1.222         14        640: 100%|██████████| 623/623 [04:03<00:00,  2.56it/s]\n",
      "                 Class     Images  Instances      Box(P          R      mAP50  mAP50-95)     Mask(P          R      mAP50  mAP50-95): 100%|██████████| 78/78 [01:28<00:00,  1.14s/it]\n"
     ]
    },
    {
     "name": "stdout",
     "output_type": "stream",
     "text": [
      "                   all       1246       3052      0.702      0.501      0.579      0.442      0.527      0.375      0.309      0.096\n",
      "\n",
      "      Epoch    GPU_mem   box_loss   seg_loss   cls_loss   dfl_loss  Instances       Size\n"
     ]
    },
    {
     "name": "stderr",
     "output_type": "stream",
     "text": [
      "      29/50      6.66G      0.771      1.721      1.133      1.224         12        640: 100%|██████████| 623/623 [04:03<00:00,  2.56it/s]\n",
      "                 Class     Images  Instances      Box(P          R      mAP50  mAP50-95)     Mask(P          R      mAP50  mAP50-95): 100%|██████████| 78/78 [00:57<00:00,  1.36it/s]"
     ]
    },
    {
     "name": "stdout",
     "output_type": "stream",
     "text": [
      "                   all       1246       3052      0.664      0.515      0.574      0.436      0.488      0.389      0.316     0.0985\n"
     ]
    },
    {
     "name": "stderr",
     "output_type": "stream",
     "text": [
      "\n"
     ]
    },
    {
     "name": "stdout",
     "output_type": "stream",
     "text": [
      "\n",
      "      Epoch    GPU_mem   box_loss   seg_loss   cls_loss   dfl_loss  Instances       Size\n"
     ]
    },
    {
     "name": "stderr",
     "output_type": "stream",
     "text": [
      "      30/50      6.69G     0.7473      1.712      1.113      1.206         10        640: 100%|██████████| 623/623 [04:02<00:00,  2.57it/s]\n",
      "                 Class     Images  Instances      Box(P          R      mAP50  mAP50-95)     Mask(P          R      mAP50  mAP50-95): 100%|██████████| 78/78 [02:03<00:00,  1.58s/it]"
     ]
    },
    {
     "name": "stdout",
     "output_type": "stream",
     "text": [
      "                   all       1246       3052      0.685      0.498       0.57      0.432      0.519      0.366      0.306     0.0907\n"
     ]
    },
    {
     "name": "stderr",
     "output_type": "stream",
     "text": [
      "\n"
     ]
    },
    {
     "name": "stdout",
     "output_type": "stream",
     "text": [
      "\n",
      "      Epoch    GPU_mem   box_loss   seg_loss   cls_loss   dfl_loss  Instances       Size\n"
     ]
    },
    {
     "name": "stderr",
     "output_type": "stream",
     "text": [
      "      31/50      6.62G     0.7538        1.7      1.106      1.213         17        640: 100%|██████████| 623/623 [04:00<00:00,  2.59it/s]\n",
      "                 Class     Images  Instances      Box(P          R      mAP50  mAP50-95)     Mask(P          R      mAP50  mAP50-95): 100%|██████████| 78/78 [01:38<00:00,  1.27s/it]\n"
     ]
    },
    {
     "name": "stdout",
     "output_type": "stream",
     "text": [
      "                   all       1246       3052       0.69      0.504      0.579      0.439      0.527       0.39      0.347      0.114\n",
      "\n",
      "      Epoch    GPU_mem   box_loss   seg_loss   cls_loss   dfl_loss  Instances       Size\n"
     ]
    },
    {
     "name": "stderr",
     "output_type": "stream",
     "text": [
      "      32/50      6.72G     0.7355      1.684      1.093        1.2         21        640: 100%|██████████| 623/623 [04:03<00:00,  2.56it/s]\n",
      "                 Class     Images  Instances      Box(P          R      mAP50  mAP50-95)     Mask(P          R      mAP50  mAP50-95): 100%|██████████| 78/78 [00:45<00:00,  1.72it/s]"
     ]
    },
    {
     "name": "stdout",
     "output_type": "stream",
     "text": [
      "                   all       1246       3052       0.68       0.52      0.585      0.451      0.512       0.37      0.306     0.0957\n"
     ]
    },
    {
     "name": "stderr",
     "output_type": "stream",
     "text": [
      "\n"
     ]
    },
    {
     "name": "stdout",
     "output_type": "stream",
     "text": [
      "\n",
      "      Epoch    GPU_mem   box_loss   seg_loss   cls_loss   dfl_loss  Instances       Size\n"
     ]
    },
    {
     "name": "stderr",
     "output_type": "stream",
     "text": [
      "      33/50      6.47G     0.7407      1.672      1.087      1.201         26        640: 100%|██████████| 623/623 [04:13<00:00,  2.46it/s]\n",
      "                 Class     Images  Instances      Box(P          R      mAP50  mAP50-95)     Mask(P          R      mAP50  mAP50-95): 100%|██████████| 78/78 [00:31<00:00,  2.50it/s]\n"
     ]
    },
    {
     "name": "stdout",
     "output_type": "stream",
     "text": [
      "                   all       1246       3052      0.701      0.522      0.591      0.459      0.545      0.377      0.326      0.101\n",
      "\n",
      "      Epoch    GPU_mem   box_loss   seg_loss   cls_loss   dfl_loss  Instances       Size\n"
     ]
    },
    {
     "name": "stderr",
     "output_type": "stream",
     "text": [
      "      34/50      6.69G     0.7248      1.666      1.076      1.194         12        640: 100%|██████████| 623/623 [04:03<00:00,  2.56it/s]\n",
      "                 Class     Images  Instances      Box(P          R      mAP50  mAP50-95)     Mask(P          R      mAP50  mAP50-95): 100%|██████████| 78/78 [01:40<00:00,  1.29s/it]\n"
     ]
    },
    {
     "name": "stdout",
     "output_type": "stream",
     "text": [
      "                   all       1246       3052      0.699      0.524      0.591      0.451      0.546      0.398      0.343       0.11\n",
      "\n",
      "      Epoch    GPU_mem   box_loss   seg_loss   cls_loss   dfl_loss  Instances       Size\n"
     ]
    },
    {
     "name": "stderr",
     "output_type": "stream",
     "text": [
      "      35/50      6.69G      0.727       1.64       1.07      1.192         26        640: 100%|██████████| 623/623 [04:00<00:00,  2.59it/s]\n",
      "                 Class     Images  Instances      Box(P          R      mAP50  mAP50-95)     Mask(P          R      mAP50  mAP50-95): 100%|██████████| 78/78 [00:47<00:00,  1.65it/s]"
     ]
    },
    {
     "name": "stdout",
     "output_type": "stream",
     "text": [
      "                   all       1246       3052      0.711      0.521      0.596      0.467      0.563       0.39      0.352      0.112\n"
     ]
    },
    {
     "name": "stderr",
     "output_type": "stream",
     "text": [
      "\n"
     ]
    },
    {
     "name": "stdout",
     "output_type": "stream",
     "text": [
      "\n",
      "      Epoch    GPU_mem   box_loss   seg_loss   cls_loss   dfl_loss  Instances       Size\n"
     ]
    },
    {
     "name": "stderr",
     "output_type": "stream",
     "text": [
      "      36/50       6.5G     0.7069      1.632      1.055      1.182         21        640: 100%|██████████| 623/623 [04:03<00:00,  2.56it/s]\n",
      "                 Class     Images  Instances      Box(P          R      mAP50  mAP50-95)     Mask(P          R      mAP50  mAP50-95): 100%|██████████| 78/78 [00:30<00:00,  2.53it/s]\n"
     ]
    },
    {
     "name": "stdout",
     "output_type": "stream",
     "text": [
      "                   all       1246       3052       0.72      0.526      0.603      0.471       0.58      0.416      0.379      0.126\n",
      "\n",
      "      Epoch    GPU_mem   box_loss   seg_loss   cls_loss   dfl_loss  Instances       Size\n"
     ]
    },
    {
     "name": "stderr",
     "output_type": "stream",
     "text": [
      "      37/50      6.68G     0.7072      1.616      1.047      1.186          7        640: 100%|██████████| 623/623 [04:02<00:00,  2.57it/s]\n",
      "                 Class     Images  Instances      Box(P          R      mAP50  mAP50-95)     Mask(P          R      mAP50  mAP50-95): 100%|██████████| 78/78 [01:02<00:00,  1.26it/s]\n"
     ]
    },
    {
     "name": "stdout",
     "output_type": "stream",
     "text": [
      "                   all       1246       3052       0.68      0.527      0.594      0.455      0.569      0.404      0.366      0.121\n",
      "\n",
      "      Epoch    GPU_mem   box_loss   seg_loss   cls_loss   dfl_loss  Instances       Size\n"
     ]
    },
    {
     "name": "stderr",
     "output_type": "stream",
     "text": [
      "      38/50      6.71G     0.7037      1.609      1.037      1.183         21        640: 100%|██████████| 623/623 [04:02<00:00,  2.57it/s]\n",
      "                 Class     Images  Instances      Box(P          R      mAP50  mAP50-95)     Mask(P          R      mAP50  mAP50-95): 100%|██████████| 78/78 [01:50<00:00,  1.42s/it]"
     ]
    },
    {
     "name": "stdout",
     "output_type": "stream",
     "text": [
      "                   all       1246       3052      0.704      0.536      0.605      0.469       0.54      0.419      0.357      0.115\n"
     ]
    },
    {
     "name": "stderr",
     "output_type": "stream",
     "text": [
      "\n"
     ]
    },
    {
     "name": "stdout",
     "output_type": "stream",
     "text": [
      "\n",
      "      Epoch    GPU_mem   box_loss   seg_loss   cls_loss   dfl_loss  Instances       Size\n"
     ]
    },
    {
     "name": "stderr",
     "output_type": "stream",
     "text": [
      "      39/50      6.42G     0.6945      1.598      1.019      1.172         16        640: 100%|██████████| 623/623 [04:05<00:00,  2.54it/s]\n",
      "                 Class     Images  Instances      Box(P          R      mAP50  mAP50-95)     Mask(P          R      mAP50  mAP50-95): 100%|██████████| 78/78 [00:29<00:00,  2.60it/s]"
     ]
    },
    {
     "name": "stdout",
     "output_type": "stream",
     "text": [
      "                   all       1246       3052      0.693       0.54      0.606       0.47      0.584      0.406      0.377      0.125\n"
     ]
    },
    {
     "name": "stderr",
     "output_type": "stream",
     "text": [
      "\n"
     ]
    },
    {
     "name": "stdout",
     "output_type": "stream",
     "text": [
      "\n",
      "      Epoch    GPU_mem   box_loss   seg_loss   cls_loss   dfl_loss  Instances       Size\n"
     ]
    },
    {
     "name": "stderr",
     "output_type": "stream",
     "text": [
      "      40/50      6.46G      0.681      1.575      1.014      1.163         10        640: 100%|██████████| 623/623 [04:07<00:00,  2.52it/s]\n",
      "                 Class     Images  Instances      Box(P          R      mAP50  mAP50-95)     Mask(P          R      mAP50  mAP50-95): 100%|██████████| 78/78 [00:30<00:00,  2.53it/s]"
     ]
    },
    {
     "name": "stdout",
     "output_type": "stream",
     "text": [
      "                   all       1246       3052      0.729      0.535      0.621      0.484      0.595      0.422      0.397      0.131\n"
     ]
    },
    {
     "name": "stderr",
     "output_type": "stream",
     "text": [
      "\n"
     ]
    },
    {
     "name": "stdout",
     "output_type": "stream",
     "text": [
      "Closing dataloader mosaic\n",
      "\u001b[34m\u001b[1malbumentations: \u001b[0mBlur(p=0.01, blur_limit=(3, 7)), MedianBlur(p=0.01, blur_limit=(3, 7)), ToGray(p=0.01, num_output_channels=3, method='weighted_average'), CLAHE(p=0.01, clip_limit=(1.0, 4.0), tile_grid_size=(8, 8))\n",
      "\n",
      "      Epoch    GPU_mem   box_loss   seg_loss   cls_loss   dfl_loss  Instances       Size\n"
     ]
    },
    {
     "name": "stderr",
     "output_type": "stream",
     "text": [
      "      41/50      6.66G     0.7125       1.47      1.053      1.257         14        640: 100%|██████████| 623/623 [04:00<00:00,  2.60it/s]\n",
      "                 Class     Images  Instances      Box(P          R      mAP50  mAP50-95)     Mask(P          R      mAP50  mAP50-95): 100%|██████████| 78/78 [02:01<00:00,  1.55s/it]"
     ]
    },
    {
     "name": "stdout",
     "output_type": "stream",
     "text": [
      "                   all       1246       3052      0.681      0.563      0.616      0.477      0.552      0.442      0.382      0.126\n"
     ]
    },
    {
     "name": "stderr",
     "output_type": "stream",
     "text": [
      "\n"
     ]
    },
    {
     "name": "stdout",
     "output_type": "stream",
     "text": [
      "\n",
      "      Epoch    GPU_mem   box_loss   seg_loss   cls_loss   dfl_loss  Instances       Size\n"
     ]
    },
    {
     "name": "stderr",
     "output_type": "stream",
     "text": [
      "      42/50      6.66G     0.7126       1.43      1.032      1.251          6        640: 100%|██████████| 623/623 [03:57<00:00,  2.62it/s]\n",
      "                 Class     Images  Instances      Box(P          R      mAP50  mAP50-95)     Mask(P          R      mAP50  mAP50-95): 100%|██████████| 78/78 [01:47<00:00,  1.38s/it]"
     ]
    },
    {
     "name": "stdout",
     "output_type": "stream",
     "text": [
      "                   all       1246       3052      0.717      0.535      0.613      0.482      0.568      0.427      0.386      0.127\n"
     ]
    },
    {
     "name": "stderr",
     "output_type": "stream",
     "text": [
      "\n"
     ]
    },
    {
     "name": "stdout",
     "output_type": "stream",
     "text": [
      "\n",
      "      Epoch    GPU_mem   box_loss   seg_loss   cls_loss   dfl_loss  Instances       Size\n"
     ]
    },
    {
     "name": "stderr",
     "output_type": "stream",
     "text": [
      "      43/50      6.66G     0.6989      1.402      1.021      1.237          6        640: 100%|██████████| 623/623 [03:59<00:00,  2.60it/s]\n",
      "                 Class     Images  Instances      Box(P          R      mAP50  mAP50-95)     Mask(P          R      mAP50  mAP50-95): 100%|██████████| 78/78 [01:21<00:00,  1.05s/it]"
     ]
    },
    {
     "name": "stdout",
     "output_type": "stream",
     "text": [
      "                   all       1246       3052      0.701      0.557      0.618       0.48      0.579      0.427      0.389      0.127\n"
     ]
    },
    {
     "name": "stderr",
     "output_type": "stream",
     "text": [
      "\n"
     ]
    },
    {
     "name": "stdout",
     "output_type": "stream",
     "text": [
      "\n",
      "      Epoch    GPU_mem   box_loss   seg_loss   cls_loss   dfl_loss  Instances       Size\n"
     ]
    },
    {
     "name": "stderr",
     "output_type": "stream",
     "text": [
      "      44/50      6.65G      0.685      1.401     0.9926       1.23          7        640: 100%|██████████| 623/623 [04:00<00:00,  2.59it/s]\n",
      "                 Class     Images  Instances      Box(P          R      mAP50  mAP50-95)     Mask(P          R      mAP50  mAP50-95): 100%|██████████| 78/78 [00:53<00:00,  1.47it/s]"
     ]
    },
    {
     "name": "stdout",
     "output_type": "stream",
     "text": [
      "                   all       1246       3052      0.717      0.554      0.627      0.493      0.579      0.445      0.412      0.138\n"
     ]
    },
    {
     "name": "stderr",
     "output_type": "stream",
     "text": [
      "\n"
     ]
    },
    {
     "name": "stdout",
     "output_type": "stream",
     "text": [
      "\n",
      "      Epoch    GPU_mem   box_loss   seg_loss   cls_loss   dfl_loss  Instances       Size\n"
     ]
    },
    {
     "name": "stderr",
     "output_type": "stream",
     "text": [
      "      45/50      6.66G     0.6816      1.379     0.9887       1.23          7        640: 100%|██████████| 623/623 [03:59<00:00,  2.60it/s]\n",
      "                 Class     Images  Instances      Box(P          R      mAP50  mAP50-95)     Mask(P          R      mAP50  mAP50-95): 100%|██████████| 78/78 [01:24<00:00,  1.08s/it]"
     ]
    },
    {
     "name": "stdout",
     "output_type": "stream",
     "text": [
      "                   all       1246       3052      0.719      0.552       0.63      0.496      0.619      0.435      0.421       0.14\n"
     ]
    },
    {
     "name": "stderr",
     "output_type": "stream",
     "text": [
      "\n"
     ]
    },
    {
     "name": "stdout",
     "output_type": "stream",
     "text": [
      "\n",
      "      Epoch    GPU_mem   box_loss   seg_loss   cls_loss   dfl_loss  Instances       Size\n"
     ]
    },
    {
     "name": "stderr",
     "output_type": "stream",
     "text": [
      "      46/50      6.66G     0.6544      1.357     0.9675      1.209          7        640: 100%|██████████| 623/623 [03:58<00:00,  2.61it/s]\n",
      "                 Class     Images  Instances      Box(P          R      mAP50  mAP50-95)     Mask(P          R      mAP50  mAP50-95): 100%|██████████| 78/78 [01:30<00:00,  1.16s/it]"
     ]
    },
    {
     "name": "stdout",
     "output_type": "stream",
     "text": [
      "                   all       1246       3052       0.74      0.558      0.631      0.498      0.601      0.447      0.414      0.139\n"
     ]
    },
    {
     "name": "stderr",
     "output_type": "stream",
     "text": [
      "\n"
     ]
    },
    {
     "name": "stdout",
     "output_type": "stream",
     "text": [
      "\n",
      "      Epoch    GPU_mem   box_loss   seg_loss   cls_loss   dfl_loss  Instances       Size\n"
     ]
    },
    {
     "name": "stderr",
     "output_type": "stream",
     "text": [
      "      47/50      6.61G     0.6566      1.369     0.9554      1.214          9        640: 100%|██████████| 623/623 [03:58<00:00,  2.61it/s]\n",
      "                 Class     Images  Instances      Box(P          R      mAP50  mAP50-95)     Mask(P          R      mAP50  mAP50-95): 100%|██████████| 78/78 [02:10<00:00,  1.68s/it]\n"
     ]
    },
    {
     "name": "stdout",
     "output_type": "stream",
     "text": [
      "                   all       1246       3052      0.715      0.563      0.629      0.493      0.577      0.443      0.402      0.134\n",
      "\n",
      "      Epoch    GPU_mem   box_loss   seg_loss   cls_loss   dfl_loss  Instances       Size\n"
     ]
    },
    {
     "name": "stderr",
     "output_type": "stream",
     "text": [
      "      48/50      6.65G     0.6414      1.343      0.931      1.197         15        640: 100%|██████████| 623/623 [04:17<00:00,  2.42it/s]\n",
      "                 Class     Images  Instances      Box(P          R      mAP50  mAP50-95)     Mask(P          R      mAP50  mAP50-95): 100%|██████████| 78/78 [02:08<00:00,  1.64s/it]"
     ]
    },
    {
     "name": "stdout",
     "output_type": "stream",
     "text": [
      "                   all       1246       3052      0.729      0.556      0.629      0.496      0.599      0.445      0.412      0.138\n"
     ]
    },
    {
     "name": "stderr",
     "output_type": "stream",
     "text": [
      "\n"
     ]
    },
    {
     "name": "stdout",
     "output_type": "stream",
     "text": [
      "\n",
      "      Epoch    GPU_mem   box_loss   seg_loss   cls_loss   dfl_loss  Instances       Size\n"
     ]
    },
    {
     "name": "stderr",
     "output_type": "stream",
     "text": [
      "      49/50      6.44G     0.6317      1.324     0.9157      1.199          6        640: 100%|██████████| 623/623 [03:55<00:00,  2.65it/s]\n",
      "                 Class     Images  Instances      Box(P          R      mAP50  mAP50-95)     Mask(P          R      mAP50  mAP50-95): 100%|██████████| 78/78 [01:28<00:00,  1.14s/it]"
     ]
    },
    {
     "name": "stdout",
     "output_type": "stream",
     "text": [
      "                   all       1246       3052      0.726      0.565      0.638      0.505      0.634      0.442      0.428      0.144\n"
     ]
    },
    {
     "name": "stderr",
     "output_type": "stream",
     "text": [
      "\n"
     ]
    },
    {
     "name": "stdout",
     "output_type": "stream",
     "text": [
      "\n",
      "      Epoch    GPU_mem   box_loss   seg_loss   cls_loss   dfl_loss  Instances       Size\n"
     ]
    },
    {
     "name": "stderr",
     "output_type": "stream",
     "text": [
      "      50/50      6.66G     0.6256      1.327     0.9082       1.19          7        640: 100%|██████████| 623/623 [03:55<00:00,  2.65it/s]\n",
      "                 Class     Images  Instances      Box(P          R      mAP50  mAP50-95)     Mask(P          R      mAP50  mAP50-95): 100%|██████████| 78/78 [02:10<00:00,  1.68s/it]"
     ]
    },
    {
     "name": "stdout",
     "output_type": "stream",
     "text": [
      "                   all       1246       3052      0.712      0.575       0.64      0.506      0.628      0.434      0.417      0.141\n"
     ]
    },
    {
     "name": "stderr",
     "output_type": "stream",
     "text": [
      "\n"
     ]
    },
    {
     "name": "stdout",
     "output_type": "stream",
     "text": [
      "\n",
      "50 epochs completed in 5.861 hours.\n",
      "Optimizer stripped from runs/segment/haul_road_segmentation8/weights/last.pt, 55.8MB\n",
      "Optimizer stripped from runs/segment/haul_road_segmentation8/weights/best.pt, 55.8MB\n",
      "\n",
      "Validating runs/segment/haul_road_segmentation8/weights/best.pt...\n",
      "Ultralytics 8.3.55 🚀 Python-3.12.8 torch-2.5.1 CUDA:0 (NVIDIA GeForce RTX 3060 Ti, 8192MiB)\n",
      "YOLO11l-seg summary (fused): 491 layers, 27,585,363 parameters, 0 gradients, 141.9 GFLOPs\n"
     ]
    },
    {
     "name": "stderr",
     "output_type": "stream",
     "text": [
      "                 Class     Images  Instances      Box(P          R      mAP50  mAP50-95)     Mask(P          R      mAP50  mAP50-95): 100%|██████████| 78/78 [00:41<00:00,  1.86it/s]\n"
     ]
    },
    {
     "name": "stdout",
     "output_type": "stream",
     "text": [
      "                   all       1246       3052      0.729      0.566      0.638      0.505      0.633       0.44      0.426      0.144\n",
      "Speed: 0.6ms preprocess, 15.9ms inference, 0.0ms loss, 2.5ms postprocess per image\n",
      "Results saved to \u001b[1mruns/segment/haul_road_segmentation8\u001b[0m\n"
     ]
    }
   ],
   "source": [
    "# Main Execution\n",
    "if __name__ == \"__main__\":\n",
    "    # Uncomment the function you want to run\n",
    "    train_yolo_segmentation()\n",
    "    # validate_yolo_segmentation()\n",
    "    # infer_image(\"dataset/images/val/example.jpg\")"
   ]
  },
  {
   "cell_type": "code",
   "execution_count": 9,
   "metadata": {},
   "outputs": [
    {
     "name": "stdout",
     "output_type": "stream",
     "text": [
      "Ultralytics 8.3.55 🚀 Python-3.12.8 torch-2.5.1 CUDA:0 (NVIDIA GeForce RTX 3060 Ti, 8192MiB)\n",
      "YOLO11l-seg summary (fused): 491 layers, 27,585,363 parameters, 0 gradients, 141.9 GFLOPs\n"
     ]
    },
    {
     "name": "stderr",
     "output_type": "stream",
     "text": [
      "\u001b[34m\u001b[1mval: \u001b[0mScanning /mnt/e/pekerjaan/simas/road/data/splitted/deepglobe/labels/val.cache... 1246 images, 0 backgrounds, 0 corrupt: 100%|██████████| 1246/1246 [00:00<?, ?it/s]\n",
      "                 Class     Images  Instances      Box(P          R      mAP50  mAP50-95)     Mask(P          R      mAP50  mAP50-95): 100%|██████████| 78/78 [00:40<00:00,  1.95it/s]\n"
     ]
    },
    {
     "name": "stdout",
     "output_type": "stream",
     "text": [
      "                   all       1246       3052      0.729      0.566      0.638      0.505      0.634       0.44      0.425      0.143\n",
      "Speed: 0.3ms preprocess, 17.6ms inference, 0.0ms loss, 2.4ms postprocess per image\n",
      "Results saved to \u001b[1mruns/segment/val\u001b[0m\n",
      "Validation Metrics: ultralytics.utils.metrics.SegmentMetrics object with attributes:\n",
      "\n",
      "ap_class_index: array([0])\n",
      "box: ultralytics.utils.metrics.Metric object\n",
      "confusion_matrix: <ultralytics.utils.metrics.ConfusionMatrix object at 0x7fca063d3fb0>\n",
      "curves: ['Precision-Recall(B)', 'F1-Confidence(B)', 'Precision-Confidence(B)', 'Recall-Confidence(B)', 'Precision-Recall(M)', 'F1-Confidence(M)', 'Precision-Confidence(M)', 'Recall-Confidence(M)']\n",
      "curves_results: [[array([          0,    0.001001,    0.002002,    0.003003,    0.004004,    0.005005,    0.006006,    0.007007,    0.008008,    0.009009,     0.01001,    0.011011,    0.012012,    0.013013,    0.014014,    0.015015,    0.016016,    0.017017,    0.018018,    0.019019,     0.02002,    0.021021,    0.022022,    0.023023,\n",
      "          0.024024,    0.025025,    0.026026,    0.027027,    0.028028,    0.029029,     0.03003,    0.031031,    0.032032,    0.033033,    0.034034,    0.035035,    0.036036,    0.037037,    0.038038,    0.039039,     0.04004,    0.041041,    0.042042,    0.043043,    0.044044,    0.045045,    0.046046,    0.047047,\n",
      "          0.048048,    0.049049,     0.05005,    0.051051,    0.052052,    0.053053,    0.054054,    0.055055,    0.056056,    0.057057,    0.058058,    0.059059,     0.06006,    0.061061,    0.062062,    0.063063,    0.064064,    0.065065,    0.066066,    0.067067,    0.068068,    0.069069,     0.07007,    0.071071,\n",
      "          0.072072,    0.073073,    0.074074,    0.075075,    0.076076,    0.077077,    0.078078,    0.079079,     0.08008,    0.081081,    0.082082,    0.083083,    0.084084,    0.085085,    0.086086,    0.087087,    0.088088,    0.089089,     0.09009,    0.091091,    0.092092,    0.093093,    0.094094,    0.095095,\n",
      "          0.096096,    0.097097,    0.098098,    0.099099,      0.1001,      0.1011,      0.1021,      0.1031,      0.1041,     0.10511,     0.10611,     0.10711,     0.10811,     0.10911,     0.11011,     0.11111,     0.11211,     0.11311,     0.11411,     0.11512,     0.11612,     0.11712,     0.11812,     0.11912,\n",
      "           0.12012,     0.12112,     0.12212,     0.12312,     0.12412,     0.12513,     0.12613,     0.12713,     0.12813,     0.12913,     0.13013,     0.13113,     0.13213,     0.13313,     0.13413,     0.13514,     0.13614,     0.13714,     0.13814,     0.13914,     0.14014,     0.14114,     0.14214,     0.14314,\n",
      "           0.14414,     0.14515,     0.14615,     0.14715,     0.14815,     0.14915,     0.15015,     0.15115,     0.15215,     0.15315,     0.15415,     0.15516,     0.15616,     0.15716,     0.15816,     0.15916,     0.16016,     0.16116,     0.16216,     0.16316,     0.16416,     0.16517,     0.16617,     0.16717,\n",
      "           0.16817,     0.16917,     0.17017,     0.17117,     0.17217,     0.17317,     0.17417,     0.17518,     0.17618,     0.17718,     0.17818,     0.17918,     0.18018,     0.18118,     0.18218,     0.18318,     0.18418,     0.18519,     0.18619,     0.18719,     0.18819,     0.18919,     0.19019,     0.19119,\n",
      "           0.19219,     0.19319,     0.19419,      0.1952,      0.1962,      0.1972,      0.1982,      0.1992,      0.2002,      0.2012,      0.2022,      0.2032,      0.2042,     0.20521,     0.20621,     0.20721,     0.20821,     0.20921,     0.21021,     0.21121,     0.21221,     0.21321,     0.21421,     0.21522,\n",
      "           0.21622,     0.21722,     0.21822,     0.21922,     0.22022,     0.22122,     0.22222,     0.22322,     0.22422,     0.22523,     0.22623,     0.22723,     0.22823,     0.22923,     0.23023,     0.23123,     0.23223,     0.23323,     0.23423,     0.23524,     0.23624,     0.23724,     0.23824,     0.23924,\n",
      "           0.24024,     0.24124,     0.24224,     0.24324,     0.24424,     0.24525,     0.24625,     0.24725,     0.24825,     0.24925,     0.25025,     0.25125,     0.25225,     0.25325,     0.25425,     0.25526,     0.25626,     0.25726,     0.25826,     0.25926,     0.26026,     0.26126,     0.26226,     0.26326,\n",
      "           0.26426,     0.26527,     0.26627,     0.26727,     0.26827,     0.26927,     0.27027,     0.27127,     0.27227,     0.27327,     0.27427,     0.27528,     0.27628,     0.27728,     0.27828,     0.27928,     0.28028,     0.28128,     0.28228,     0.28328,     0.28428,     0.28529,     0.28629,     0.28729,\n",
      "           0.28829,     0.28929,     0.29029,     0.29129,     0.29229,     0.29329,     0.29429,      0.2953,      0.2963,      0.2973,      0.2983,      0.2993,      0.3003,      0.3013,      0.3023,      0.3033,      0.3043,     0.30531,     0.30631,     0.30731,     0.30831,     0.30931,     0.31031,     0.31131,\n",
      "           0.31231,     0.31331,     0.31431,     0.31532,     0.31632,     0.31732,     0.31832,     0.31932,     0.32032,     0.32132,     0.32232,     0.32332,     0.32432,     0.32533,     0.32633,     0.32733,     0.32833,     0.32933,     0.33033,     0.33133,     0.33233,     0.33333,     0.33433,     0.33534,\n",
      "           0.33634,     0.33734,     0.33834,     0.33934,     0.34034,     0.34134,     0.34234,     0.34334,     0.34434,     0.34535,     0.34635,     0.34735,     0.34835,     0.34935,     0.35035,     0.35135,     0.35235,     0.35335,     0.35435,     0.35536,     0.35636,     0.35736,     0.35836,     0.35936,\n",
      "           0.36036,     0.36136,     0.36236,     0.36336,     0.36436,     0.36537,     0.36637,     0.36737,     0.36837,     0.36937,     0.37037,     0.37137,     0.37237,     0.37337,     0.37437,     0.37538,     0.37638,     0.37738,     0.37838,     0.37938,     0.38038,     0.38138,     0.38238,     0.38338,\n",
      "           0.38438,     0.38539,     0.38639,     0.38739,     0.38839,     0.38939,     0.39039,     0.39139,     0.39239,     0.39339,     0.39439,      0.3954,      0.3964,      0.3974,      0.3984,      0.3994,      0.4004,      0.4014,      0.4024,      0.4034,      0.4044,     0.40541,     0.40641,     0.40741,\n",
      "           0.40841,     0.40941,     0.41041,     0.41141,     0.41241,     0.41341,     0.41441,     0.41542,     0.41642,     0.41742,     0.41842,     0.41942,     0.42042,     0.42142,     0.42242,     0.42342,     0.42442,     0.42543,     0.42643,     0.42743,     0.42843,     0.42943,     0.43043,     0.43143,\n",
      "           0.43243,     0.43343,     0.43443,     0.43544,     0.43644,     0.43744,     0.43844,     0.43944,     0.44044,     0.44144,     0.44244,     0.44344,     0.44444,     0.44545,     0.44645,     0.44745,     0.44845,     0.44945,     0.45045,     0.45145,     0.45245,     0.45345,     0.45445,     0.45546,\n",
      "           0.45646,     0.45746,     0.45846,     0.45946,     0.46046,     0.46146,     0.46246,     0.46346,     0.46446,     0.46547,     0.46647,     0.46747,     0.46847,     0.46947,     0.47047,     0.47147,     0.47247,     0.47347,     0.47447,     0.47548,     0.47648,     0.47748,     0.47848,     0.47948,\n",
      "           0.48048,     0.48148,     0.48248,     0.48348,     0.48448,     0.48549,     0.48649,     0.48749,     0.48849,     0.48949,     0.49049,     0.49149,     0.49249,     0.49349,     0.49449,      0.4955,      0.4965,      0.4975,      0.4985,      0.4995,      0.5005,      0.5015,      0.5025,      0.5035,\n",
      "            0.5045,     0.50551,     0.50651,     0.50751,     0.50851,     0.50951,     0.51051,     0.51151,     0.51251,     0.51351,     0.51451,     0.51552,     0.51652,     0.51752,     0.51852,     0.51952,     0.52052,     0.52152,     0.52252,     0.52352,     0.52452,     0.52553,     0.52653,     0.52753,\n",
      "           0.52853,     0.52953,     0.53053,     0.53153,     0.53253,     0.53353,     0.53453,     0.53554,     0.53654,     0.53754,     0.53854,     0.53954,     0.54054,     0.54154,     0.54254,     0.54354,     0.54454,     0.54555,     0.54655,     0.54755,     0.54855,     0.54955,     0.55055,     0.55155,\n",
      "           0.55255,     0.55355,     0.55455,     0.55556,     0.55656,     0.55756,     0.55856,     0.55956,     0.56056,     0.56156,     0.56256,     0.56356,     0.56456,     0.56557,     0.56657,     0.56757,     0.56857,     0.56957,     0.57057,     0.57157,     0.57257,     0.57357,     0.57457,     0.57558,\n",
      "           0.57658,     0.57758,     0.57858,     0.57958,     0.58058,     0.58158,     0.58258,     0.58358,     0.58458,     0.58559,     0.58659,     0.58759,     0.58859,     0.58959,     0.59059,     0.59159,     0.59259,     0.59359,     0.59459,      0.5956,      0.5966,      0.5976,      0.5986,      0.5996,\n",
      "            0.6006,      0.6016,      0.6026,      0.6036,      0.6046,     0.60561,     0.60661,     0.60761,     0.60861,     0.60961,     0.61061,     0.61161,     0.61261,     0.61361,     0.61461,     0.61562,     0.61662,     0.61762,     0.61862,     0.61962,     0.62062,     0.62162,     0.62262,     0.62362,\n",
      "           0.62462,     0.62563,     0.62663,     0.62763,     0.62863,     0.62963,     0.63063,     0.63163,     0.63263,     0.63363,     0.63463,     0.63564,     0.63664,     0.63764,     0.63864,     0.63964,     0.64064,     0.64164,     0.64264,     0.64364,     0.64464,     0.64565,     0.64665,     0.64765,\n",
      "           0.64865,     0.64965,     0.65065,     0.65165,     0.65265,     0.65365,     0.65465,     0.65566,     0.65666,     0.65766,     0.65866,     0.65966,     0.66066,     0.66166,     0.66266,     0.66366,     0.66466,     0.66567,     0.66667,     0.66767,     0.66867,     0.66967,     0.67067,     0.67167,\n",
      "           0.67267,     0.67367,     0.67467,     0.67568,     0.67668,     0.67768,     0.67868,     0.67968,     0.68068,     0.68168,     0.68268,     0.68368,     0.68468,     0.68569,     0.68669,     0.68769,     0.68869,     0.68969,     0.69069,     0.69169,     0.69269,     0.69369,     0.69469,      0.6957,\n",
      "            0.6967,      0.6977,      0.6987,      0.6997,      0.7007,      0.7017,      0.7027,      0.7037,      0.7047,     0.70571,     0.70671,     0.70771,     0.70871,     0.70971,     0.71071,     0.71171,     0.71271,     0.71371,     0.71471,     0.71572,     0.71672,     0.71772,     0.71872,     0.71972,\n",
      "           0.72072,     0.72172,     0.72272,     0.72372,     0.72472,     0.72573,     0.72673,     0.72773,     0.72873,     0.72973,     0.73073,     0.73173,     0.73273,     0.73373,     0.73473,     0.73574,     0.73674,     0.73774,     0.73874,     0.73974,     0.74074,     0.74174,     0.74274,     0.74374,\n",
      "           0.74474,     0.74575,     0.74675,     0.74775,     0.74875,     0.74975,     0.75075,     0.75175,     0.75275,     0.75375,     0.75475,     0.75576,     0.75676,     0.75776,     0.75876,     0.75976,     0.76076,     0.76176,     0.76276,     0.76376,     0.76476,     0.76577,     0.76677,     0.76777,\n",
      "           0.76877,     0.76977,     0.77077,     0.77177,     0.77277,     0.77377,     0.77477,     0.77578,     0.77678,     0.77778,     0.77878,     0.77978,     0.78078,     0.78178,     0.78278,     0.78378,     0.78478,     0.78579,     0.78679,     0.78779,     0.78879,     0.78979,     0.79079,     0.79179,\n",
      "           0.79279,     0.79379,     0.79479,      0.7958,      0.7968,      0.7978,      0.7988,      0.7998,      0.8008,      0.8018,      0.8028,      0.8038,      0.8048,     0.80581,     0.80681,     0.80781,     0.80881,     0.80981,     0.81081,     0.81181,     0.81281,     0.81381,     0.81481,     0.81582,\n",
      "           0.81682,     0.81782,     0.81882,     0.81982,     0.82082,     0.82182,     0.82282,     0.82382,     0.82482,     0.82583,     0.82683,     0.82783,     0.82883,     0.82983,     0.83083,     0.83183,     0.83283,     0.83383,     0.83483,     0.83584,     0.83684,     0.83784,     0.83884,     0.83984,\n",
      "           0.84084,     0.84184,     0.84284,     0.84384,     0.84484,     0.84585,     0.84685,     0.84785,     0.84885,     0.84985,     0.85085,     0.85185,     0.85285,     0.85385,     0.85485,     0.85586,     0.85686,     0.85786,     0.85886,     0.85986,     0.86086,     0.86186,     0.86286,     0.86386,\n",
      "           0.86486,     0.86587,     0.86687,     0.86787,     0.86887,     0.86987,     0.87087,     0.87187,     0.87287,     0.87387,     0.87487,     0.87588,     0.87688,     0.87788,     0.87888,     0.87988,     0.88088,     0.88188,     0.88288,     0.88388,     0.88488,     0.88589,     0.88689,     0.88789,\n",
      "           0.88889,     0.88989,     0.89089,     0.89189,     0.89289,     0.89389,     0.89489,      0.8959,      0.8969,      0.8979,      0.8989,      0.8999,      0.9009,      0.9019,      0.9029,      0.9039,      0.9049,     0.90591,     0.90691,     0.90791,     0.90891,     0.90991,     0.91091,     0.91191,\n",
      "           0.91291,     0.91391,     0.91491,     0.91592,     0.91692,     0.91792,     0.91892,     0.91992,     0.92092,     0.92192,     0.92292,     0.92392,     0.92492,     0.92593,     0.92693,     0.92793,     0.92893,     0.92993,     0.93093,     0.93193,     0.93293,     0.93393,     0.93493,     0.93594,\n",
      "           0.93694,     0.93794,     0.93894,     0.93994,     0.94094,     0.94194,     0.94294,     0.94394,     0.94494,     0.94595,     0.94695,     0.94795,     0.94895,     0.94995,     0.95095,     0.95195,     0.95295,     0.95395,     0.95495,     0.95596,     0.95696,     0.95796,     0.95896,     0.95996,\n",
      "           0.96096,     0.96196,     0.96296,     0.96396,     0.96496,     0.96597,     0.96697,     0.96797,     0.96897,     0.96997,     0.97097,     0.97197,     0.97297,     0.97397,     0.97497,     0.97598,     0.97698,     0.97798,     0.97898,     0.97998,     0.98098,     0.98198,     0.98298,     0.98398,\n",
      "           0.98498,     0.98599,     0.98699,     0.98799,     0.98899,     0.98999,     0.99099,     0.99199,     0.99299,     0.99399,     0.99499,       0.996,       0.997,       0.998,       0.999,           1]), array([[          1,           1,           1,           1,           1,           1,           1,           1,           1,           1,           1,           1,           1,           1,           1,           1,           1,           1,           1,           1,           1,           1,           1,\n",
      "                  1,           1,           1,           1,           1,           1,           1,           1,           1,           1,           1,           1,           1,           1,           1,           1,           1,           1,           1,           1,           1,           1,           1,\n",
      "                  1,           1,           1,           1,           1,           1,           1,           1,           1,           1,           1,           1,           1,           1,           1,           1,           1,           1,           1,           1,           1,           1,           1,\n",
      "                  1,           1,           1,           1,           1,           1,           1,           1,           1,           1,           1,           1,           1,           1,     0.99647,     0.99647,     0.99647,     0.99647,     0.99647,     0.99647,     0.99647,     0.99647,     0.99647,\n",
      "            0.99647,     0.99505,     0.99505,     0.99505,     0.99505,     0.99505,     0.99505,     0.99505,     0.99505,     0.99505,     0.99505,     0.99505,     0.99505,     0.99505,     0.99505,     0.99505,     0.99505,     0.99505,     0.99505,     0.99505,     0.99505,     0.99505,     0.99505,\n",
      "            0.99505,     0.99505,     0.99505,     0.99505,     0.99505,     0.99505,     0.99505,     0.99505,     0.99505,     0.99505,     0.99505,     0.99505,     0.99505,     0.99505,     0.99505,     0.99505,     0.99505,     0.99268,     0.99268,     0.99074,     0.99074,     0.99074,     0.99074,\n",
      "            0.99074,     0.99074,     0.99074,     0.98988,     0.98988,     0.98988,     0.98988,     0.98988,     0.98988,     0.98988,     0.98988,     0.98988,     0.98988,     0.98988,     0.98988,     0.98988,     0.98988,     0.98988,     0.98988,     0.98988,     0.98988,     0.98988,     0.98988,\n",
      "            0.98805,     0.98805,     0.98763,     0.98763,     0.98763,     0.98763,     0.98763,     0.98763,     0.98763,     0.98763,     0.98763,     0.98763,     0.98763,     0.98763,     0.98763,     0.98763,     0.98763,     0.98763,     0.98763,     0.98763,     0.98763,     0.98763,     0.98689,\n",
      "            0.98689,     0.98689,     0.98689,     0.98689,     0.98689,     0.98689,     0.98689,     0.98689,     0.98689,     0.98689,     0.98689,     0.98689,     0.98689,     0.98689,     0.98546,     0.98546,     0.98395,     0.98259,     0.98259,     0.98259,     0.98148,     0.98148,     0.98148,\n",
      "            0.98148,     0.98148,     0.98021,     0.98021,     0.97904,     0.97904,     0.97904,     0.97904,     0.97671,     0.97671,     0.97671,     0.97671,     0.97671,     0.97399,     0.97274,     0.97179,     0.97179,     0.97179,     0.97179,     0.97087,     0.97087,     0.97087,     0.97087,\n",
      "            0.96974,     0.96845,     0.96626,     0.96626,     0.96626,     0.96519,     0.96519,     0.96442,     0.96442,     0.96442,     0.96442,     0.96442,     0.96442,     0.96442,     0.96442,     0.96442,     0.96442,     0.96442,     0.96442,     0.96361,     0.96361,     0.96361,     0.96255,\n",
      "            0.96182,     0.96182,     0.96182,     0.96074,     0.95981,     0.95913,     0.95913,     0.95913,     0.95913,     0.95833,     0.95833,     0.95657,     0.95657,     0.95657,     0.95561,      0.9537,      0.9537,     0.95266,     0.95069,     0.94989,     0.94904,     0.94904,     0.94843,\n",
      "            0.94843,     0.94841,     0.94841,     0.94841,     0.94841,     0.94841,     0.94841,     0.94833,     0.94833,     0.94833,     0.94833,     0.94833,     0.94833,     0.94782,     0.94782,     0.94782,     0.94698,     0.94654,     0.94654,     0.94654,     0.94589,     0.94589,     0.94562,\n",
      "            0.94562,     0.94562,     0.94562,     0.94562,     0.94562,     0.94562,     0.94562,     0.94562,     0.94562,     0.94406,     0.94406,     0.94373,     0.94373,     0.94373,       0.943,       0.943,       0.943,       0.943,       0.943,       0.943,       0.943,      0.9422,     0.94101,\n",
      "            0.94101,     0.94101,      0.9409,      0.9409,      0.9409,      0.9409,      0.9409,     0.93998,     0.93998,     0.93998,     0.93998,     0.93998,     0.93969,     0.93969,     0.93969,     0.93969,     0.93969,     0.93969,     0.93969,     0.93969,     0.93901,     0.93839,     0.93839,\n",
      "            0.93606,     0.93398,     0.93398,     0.93007,     0.92715,     0.92551,     0.92551,     0.92551,     0.92551,     0.92479,     0.92347,     0.92295,     0.92243,     0.92243,     0.92077,     0.92077,     0.92077,      0.9195,     0.91694,     0.91694,     0.91489,     0.91443,     0.91443,\n",
      "            0.91389,     0.91371,     0.91371,     0.91304,       0.912,       0.912,      0.9106,      0.9106,      0.9106,     0.91017,     0.91017,     0.91009,     0.91009,     0.91009,     0.90973,     0.90811,     0.90811,     0.90707,     0.90707,     0.90658,     0.90585,     0.90585,     0.90585,\n",
      "            0.90462,     0.90347,     0.90127,     0.90127,     0.90075,     0.89778,     0.89727,     0.89617,     0.89585,     0.89585,     0.89585,     0.89585,      0.8955,     0.89493,     0.89386,     0.89224,     0.89176,      0.8907,      0.8907,      0.8907,     0.88912,     0.88912,     0.88912,\n",
      "            0.88912,     0.88803,     0.88757,     0.88534,      0.8852,     0.88406,     0.88255,     0.88151,     0.88103,     0.88103,     0.88103,      0.8803,      0.8803,      0.8803,      0.8803,     0.87928,     0.87776,     0.87683,     0.87649,     0.87624,     0.87607,     0.87607,     0.87541,\n",
      "            0.87541,     0.87541,     0.87541,     0.87451,     0.87201,     0.87122,     0.87074,     0.86726,     0.86705,     0.86705,     0.86565,     0.86481,     0.86452,     0.86324,     0.86233,      0.8599,     0.85909,     0.85891,     0.85618,     0.85539,     0.85513,     0.85418,     0.85358,\n",
      "            0.85333,     0.85239,     0.85223,     0.85207,     0.85063,     0.84988,     0.84914,     0.84656,     0.84515,     0.84493,     0.84381,     0.84161,     0.84109,     0.83972,     0.83903,     0.83592,     0.83573,     0.83553,     0.83514,     0.83514,     0.83457,      0.8339,      0.8339,\n",
      "             0.8339,     0.83324,     0.83305,     0.83073,     0.83036,     0.82833,     0.82789,     0.82717,       0.827,     0.82501,      0.8235,     0.82174,     0.82005,     0.81946,     0.81843,      0.8174,     0.81721,     0.81721,     0.81663,     0.81529,     0.81452,     0.81234,     0.81092,\n",
      "            0.80985,      0.8093,     0.80833,     0.80747,     0.80619,     0.80619,     0.80597,     0.80246,     0.79756,     0.79616,     0.79447,     0.79447,     0.79428,     0.79341,     0.79341,     0.79204,        0.79,     0.78758,     0.78557,     0.78484,     0.78352,     0.78166,     0.78122,\n",
      "            0.78014,     0.77943,     0.77916,     0.77539,     0.77461,     0.77441,     0.77425,     0.77374,     0.77151,     0.76952,     0.76733,     0.76566,     0.76281,     0.76254,     0.76147,     0.75925,     0.75796,     0.75692,     0.75485,     0.75123,     0.74978,     0.74811,     0.74645,\n",
      "            0.74624,     0.74614,     0.74549,     0.74256,     0.73977,     0.73904,     0.73682,     0.73652,     0.73623,     0.73562,     0.73533,     0.73442,     0.73082,     0.72838,     0.72579,     0.72431,     0.72195,     0.72098,     0.72036,     0.72018,     0.71816,     0.71598,     0.71458,\n",
      "            0.71452,     0.71342,     0.71158,     0.71135,     0.71044,     0.70497,     0.70437,     0.70217,     0.70157,     0.69766,     0.69545,     0.69419,     0.69374,     0.69062,     0.69018,     0.68555,      0.6828,     0.68045,     0.67954,     0.67699,     0.67433,     0.67097,     0.67022,\n",
      "            0.66948,     0.66849,     0.66618,     0.66294,     0.66045,     0.65657,     0.65357,     0.65313,     0.64869,     0.64804,     0.64706,     0.64541,     0.64431,     0.64202,     0.63866,      0.6368,      0.6368,     0.63587,     0.63495,     0.63319,     0.63241,     0.62628,     0.62254,\n",
      "            0.61377,     0.61184,     0.61124,     0.60771,     0.60322,     0.60119,     0.59925,      0.5985,     0.59671,     0.59579,     0.59378,     0.59124,     0.58642,     0.58396,      0.5798,     0.57857,     0.57434,     0.57353,     0.57039,     0.56712,     0.56407,     0.56282,     0.55919,\n",
      "            0.55684,     0.55459,     0.55047,     0.54762,     0.54696,     0.54254,     0.53997,     0.53902,     0.53722,     0.53571,     0.53378,     0.53075,     0.52542,     0.52346,     0.52152,     0.52014,     0.51665,     0.51282,     0.51176,     0.51046,     0.50712,     0.50459,     0.50098,\n",
      "            0.49756,     0.49479,     0.49182,     0.49007,     0.48984,     0.48788,     0.48663,     0.48402,     0.48212,     0.47824,     0.47378,     0.47295,     0.46935,     0.46312,     0.45797,     0.45662,     0.45439,      0.4525,     0.45117,     0.44827,     0.44622,     0.44346,     0.44213,\n",
      "            0.43853,     0.43564,     0.43128,     0.42979,     0.42768,     0.42676,     0.42194,     0.41716,     0.41345,     0.41196,     0.40789,     0.40579,     0.40365,     0.40323,     0.39819,     0.39625,     0.39404,      0.3901,     0.38664,     0.38559,     0.38332,     0.38291,     0.38075,\n",
      "            0.37784,     0.37063,     0.36896,     0.36485,     0.36143,     0.35885,      0.3559,     0.35478,     0.34742,     0.34512,     0.34047,     0.33653,     0.33119,     0.32957,     0.32681,     0.32298,     0.32104,     0.31949,     0.31733,     0.31309,     0.31211,     0.31097,     0.30446,\n",
      "            0.30294,     0.30147,     0.30028,     0.29947,     0.29671,     0.29653,     0.29622,     0.29515,     0.29141,     0.29036,     0.28697,     0.28498,      0.2831,     0.28158,     0.28054,     0.27932,     0.27932,     0.27932,      0.2737,     0.27218,     0.26322,      0.2605,     0.25967,\n",
      "            0.25738,     0.25168,     0.24896,     0.24682,     0.24462,     0.23988,     0.23918,     0.23277,     0.22853,     0.22419,     0.21877,     0.21719,     0.21296,     0.21256,     0.21142,     0.20733,      0.2055,     0.20131,     0.19821,     0.19495,     0.19201,     0.18633,     0.17978,\n",
      "            0.17631,     0.17449,     0.17153,     0.16892,      0.1669,     0.16571,     0.16361,       0.161,     0.15836,     0.15717,      0.1561,     0.15464,     0.15192,     0.15055,     0.14855,     0.14705,     0.14272,     0.13997,     0.13893,     0.13829,     0.13759,     0.13733,     0.13406,\n",
      "            0.13383,      0.1288,     0.12563,     0.12418,     0.12301,      0.1224,     0.12113,     0.11908,     0.11722,     0.11575,     0.11325,     0.10936,     0.10614,     0.10447,     0.10354,     0.10129,    0.099611,    0.099054,    0.097731,     0.09599,    0.094593,    0.093895,    0.093572,\n",
      "           0.090477,    0.089237,    0.085716,    0.084087,    0.083339,     0.08193,    0.080863,    0.079414,    0.076451,    0.074819,    0.074292,    0.073695,    0.072781,    0.071568,    0.070802,     0.06919,    0.066717,    0.065163,    0.062865,    0.062459,     0.06114,    0.060705,    0.059613,\n",
      "            0.05879,    0.056641,    0.055563,    0.054208,    0.052646,    0.052036,    0.050556,    0.048902,    0.048562,    0.048342,    0.047809,      0.0467,    0.046384,     0.04589,    0.044297,    0.044098,    0.043417,    0.042834,    0.041095,    0.040632,    0.039705,    0.039245,    0.037948,\n",
      "           0.037606,    0.037184,    0.035665,    0.034162,    0.033901,    0.032062,    0.031305,    0.029832,    0.027763,    0.027292,    0.025884,    0.024689,    0.024473,    0.024256,     0.02404,    0.023823,    0.023607,     0.02339,    0.023173,    0.022957,     0.02274,    0.022524,    0.022307,\n",
      "           0.022091,    0.021874,    0.021657,    0.021441,    0.021224,    0.021008,    0.020791,    0.020575,    0.020358,    0.020141,    0.019925,    0.019708,    0.019492,    0.019275,    0.019059,    0.018842,    0.018625,    0.018409,    0.018192,    0.017976,    0.017759,    0.017542,    0.017326,\n",
      "           0.017109,    0.016893,    0.016676,     0.01646,    0.016243,    0.016026,     0.01581,    0.015593,    0.015377,     0.01516,    0.014944,    0.014727,     0.01451,    0.014294,    0.014077,    0.013861,    0.013644,    0.013428,    0.013211,    0.012994,    0.012778,    0.012561,    0.012345,\n",
      "           0.012128,    0.011912,    0.011695,    0.011478,    0.011262,    0.011045,    0.010829,    0.010612,    0.010396,    0.010179,   0.0099624,   0.0097458,   0.0095293,   0.0093127,   0.0090961,   0.0088795,    0.008663,   0.0084464,   0.0082298,   0.0080132,   0.0077967,   0.0075801,   0.0073635,\n",
      "          0.0071469,   0.0069304,   0.0067138,   0.0064972,   0.0062806,   0.0060641,   0.0058475,   0.0056309,   0.0054143,   0.0051978,   0.0049812,   0.0047646,   0.0045481,   0.0043315,   0.0041149,   0.0038983,   0.0036818,   0.0034652,   0.0032486,    0.003032,   0.0028155,   0.0025989,   0.0023823,\n",
      "          0.0021657,   0.0019492,   0.0017326,    0.001516,   0.0012994,   0.0010829,   0.0008663,  0.00064972,  0.00043315,  0.00021657,           0]]), 'Recall', 'Precision'], [array([          0,    0.001001,    0.002002,    0.003003,    0.004004,    0.005005,    0.006006,    0.007007,    0.008008,    0.009009,     0.01001,    0.011011,    0.012012,    0.013013,    0.014014,    0.015015,    0.016016,    0.017017,    0.018018,    0.019019,     0.02002,    0.021021,    0.022022,    0.023023,\n",
      "          0.024024,    0.025025,    0.026026,    0.027027,    0.028028,    0.029029,     0.03003,    0.031031,    0.032032,    0.033033,    0.034034,    0.035035,    0.036036,    0.037037,    0.038038,    0.039039,     0.04004,    0.041041,    0.042042,    0.043043,    0.044044,    0.045045,    0.046046,    0.047047,\n",
      "          0.048048,    0.049049,     0.05005,    0.051051,    0.052052,    0.053053,    0.054054,    0.055055,    0.056056,    0.057057,    0.058058,    0.059059,     0.06006,    0.061061,    0.062062,    0.063063,    0.064064,    0.065065,    0.066066,    0.067067,    0.068068,    0.069069,     0.07007,    0.071071,\n",
      "          0.072072,    0.073073,    0.074074,    0.075075,    0.076076,    0.077077,    0.078078,    0.079079,     0.08008,    0.081081,    0.082082,    0.083083,    0.084084,    0.085085,    0.086086,    0.087087,    0.088088,    0.089089,     0.09009,    0.091091,    0.092092,    0.093093,    0.094094,    0.095095,\n",
      "          0.096096,    0.097097,    0.098098,    0.099099,      0.1001,      0.1011,      0.1021,      0.1031,      0.1041,     0.10511,     0.10611,     0.10711,     0.10811,     0.10911,     0.11011,     0.11111,     0.11211,     0.11311,     0.11411,     0.11512,     0.11612,     0.11712,     0.11812,     0.11912,\n",
      "           0.12012,     0.12112,     0.12212,     0.12312,     0.12412,     0.12513,     0.12613,     0.12713,     0.12813,     0.12913,     0.13013,     0.13113,     0.13213,     0.13313,     0.13413,     0.13514,     0.13614,     0.13714,     0.13814,     0.13914,     0.14014,     0.14114,     0.14214,     0.14314,\n",
      "           0.14414,     0.14515,     0.14615,     0.14715,     0.14815,     0.14915,     0.15015,     0.15115,     0.15215,     0.15315,     0.15415,     0.15516,     0.15616,     0.15716,     0.15816,     0.15916,     0.16016,     0.16116,     0.16216,     0.16316,     0.16416,     0.16517,     0.16617,     0.16717,\n",
      "           0.16817,     0.16917,     0.17017,     0.17117,     0.17217,     0.17317,     0.17417,     0.17518,     0.17618,     0.17718,     0.17818,     0.17918,     0.18018,     0.18118,     0.18218,     0.18318,     0.18418,     0.18519,     0.18619,     0.18719,     0.18819,     0.18919,     0.19019,     0.19119,\n",
      "           0.19219,     0.19319,     0.19419,      0.1952,      0.1962,      0.1972,      0.1982,      0.1992,      0.2002,      0.2012,      0.2022,      0.2032,      0.2042,     0.20521,     0.20621,     0.20721,     0.20821,     0.20921,     0.21021,     0.21121,     0.21221,     0.21321,     0.21421,     0.21522,\n",
      "           0.21622,     0.21722,     0.21822,     0.21922,     0.22022,     0.22122,     0.22222,     0.22322,     0.22422,     0.22523,     0.22623,     0.22723,     0.22823,     0.22923,     0.23023,     0.23123,     0.23223,     0.23323,     0.23423,     0.23524,     0.23624,     0.23724,     0.23824,     0.23924,\n",
      "           0.24024,     0.24124,     0.24224,     0.24324,     0.24424,     0.24525,     0.24625,     0.24725,     0.24825,     0.24925,     0.25025,     0.25125,     0.25225,     0.25325,     0.25425,     0.25526,     0.25626,     0.25726,     0.25826,     0.25926,     0.26026,     0.26126,     0.26226,     0.26326,\n",
      "           0.26426,     0.26527,     0.26627,     0.26727,     0.26827,     0.26927,     0.27027,     0.27127,     0.27227,     0.27327,     0.27427,     0.27528,     0.27628,     0.27728,     0.27828,     0.27928,     0.28028,     0.28128,     0.28228,     0.28328,     0.28428,     0.28529,     0.28629,     0.28729,\n",
      "           0.28829,     0.28929,     0.29029,     0.29129,     0.29229,     0.29329,     0.29429,      0.2953,      0.2963,      0.2973,      0.2983,      0.2993,      0.3003,      0.3013,      0.3023,      0.3033,      0.3043,     0.30531,     0.30631,     0.30731,     0.30831,     0.30931,     0.31031,     0.31131,\n",
      "           0.31231,     0.31331,     0.31431,     0.31532,     0.31632,     0.31732,     0.31832,     0.31932,     0.32032,     0.32132,     0.32232,     0.32332,     0.32432,     0.32533,     0.32633,     0.32733,     0.32833,     0.32933,     0.33033,     0.33133,     0.33233,     0.33333,     0.33433,     0.33534,\n",
      "           0.33634,     0.33734,     0.33834,     0.33934,     0.34034,     0.34134,     0.34234,     0.34334,     0.34434,     0.34535,     0.34635,     0.34735,     0.34835,     0.34935,     0.35035,     0.35135,     0.35235,     0.35335,     0.35435,     0.35536,     0.35636,     0.35736,     0.35836,     0.35936,\n",
      "           0.36036,     0.36136,     0.36236,     0.36336,     0.36436,     0.36537,     0.36637,     0.36737,     0.36837,     0.36937,     0.37037,     0.37137,     0.37237,     0.37337,     0.37437,     0.37538,     0.37638,     0.37738,     0.37838,     0.37938,     0.38038,     0.38138,     0.38238,     0.38338,\n",
      "           0.38438,     0.38539,     0.38639,     0.38739,     0.38839,     0.38939,     0.39039,     0.39139,     0.39239,     0.39339,     0.39439,      0.3954,      0.3964,      0.3974,      0.3984,      0.3994,      0.4004,      0.4014,      0.4024,      0.4034,      0.4044,     0.40541,     0.40641,     0.40741,\n",
      "           0.40841,     0.40941,     0.41041,     0.41141,     0.41241,     0.41341,     0.41441,     0.41542,     0.41642,     0.41742,     0.41842,     0.41942,     0.42042,     0.42142,     0.42242,     0.42342,     0.42442,     0.42543,     0.42643,     0.42743,     0.42843,     0.42943,     0.43043,     0.43143,\n",
      "           0.43243,     0.43343,     0.43443,     0.43544,     0.43644,     0.43744,     0.43844,     0.43944,     0.44044,     0.44144,     0.44244,     0.44344,     0.44444,     0.44545,     0.44645,     0.44745,     0.44845,     0.44945,     0.45045,     0.45145,     0.45245,     0.45345,     0.45445,     0.45546,\n",
      "           0.45646,     0.45746,     0.45846,     0.45946,     0.46046,     0.46146,     0.46246,     0.46346,     0.46446,     0.46547,     0.46647,     0.46747,     0.46847,     0.46947,     0.47047,     0.47147,     0.47247,     0.47347,     0.47447,     0.47548,     0.47648,     0.47748,     0.47848,     0.47948,\n",
      "           0.48048,     0.48148,     0.48248,     0.48348,     0.48448,     0.48549,     0.48649,     0.48749,     0.48849,     0.48949,     0.49049,     0.49149,     0.49249,     0.49349,     0.49449,      0.4955,      0.4965,      0.4975,      0.4985,      0.4995,      0.5005,      0.5015,      0.5025,      0.5035,\n",
      "            0.5045,     0.50551,     0.50651,     0.50751,     0.50851,     0.50951,     0.51051,     0.51151,     0.51251,     0.51351,     0.51451,     0.51552,     0.51652,     0.51752,     0.51852,     0.51952,     0.52052,     0.52152,     0.52252,     0.52352,     0.52452,     0.52553,     0.52653,     0.52753,\n",
      "           0.52853,     0.52953,     0.53053,     0.53153,     0.53253,     0.53353,     0.53453,     0.53554,     0.53654,     0.53754,     0.53854,     0.53954,     0.54054,     0.54154,     0.54254,     0.54354,     0.54454,     0.54555,     0.54655,     0.54755,     0.54855,     0.54955,     0.55055,     0.55155,\n",
      "           0.55255,     0.55355,     0.55455,     0.55556,     0.55656,     0.55756,     0.55856,     0.55956,     0.56056,     0.56156,     0.56256,     0.56356,     0.56456,     0.56557,     0.56657,     0.56757,     0.56857,     0.56957,     0.57057,     0.57157,     0.57257,     0.57357,     0.57457,     0.57558,\n",
      "           0.57658,     0.57758,     0.57858,     0.57958,     0.58058,     0.58158,     0.58258,     0.58358,     0.58458,     0.58559,     0.58659,     0.58759,     0.58859,     0.58959,     0.59059,     0.59159,     0.59259,     0.59359,     0.59459,      0.5956,      0.5966,      0.5976,      0.5986,      0.5996,\n",
      "            0.6006,      0.6016,      0.6026,      0.6036,      0.6046,     0.60561,     0.60661,     0.60761,     0.60861,     0.60961,     0.61061,     0.61161,     0.61261,     0.61361,     0.61461,     0.61562,     0.61662,     0.61762,     0.61862,     0.61962,     0.62062,     0.62162,     0.62262,     0.62362,\n",
      "           0.62462,     0.62563,     0.62663,     0.62763,     0.62863,     0.62963,     0.63063,     0.63163,     0.63263,     0.63363,     0.63463,     0.63564,     0.63664,     0.63764,     0.63864,     0.63964,     0.64064,     0.64164,     0.64264,     0.64364,     0.64464,     0.64565,     0.64665,     0.64765,\n",
      "           0.64865,     0.64965,     0.65065,     0.65165,     0.65265,     0.65365,     0.65465,     0.65566,     0.65666,     0.65766,     0.65866,     0.65966,     0.66066,     0.66166,     0.66266,     0.66366,     0.66466,     0.66567,     0.66667,     0.66767,     0.66867,     0.66967,     0.67067,     0.67167,\n",
      "           0.67267,     0.67367,     0.67467,     0.67568,     0.67668,     0.67768,     0.67868,     0.67968,     0.68068,     0.68168,     0.68268,     0.68368,     0.68468,     0.68569,     0.68669,     0.68769,     0.68869,     0.68969,     0.69069,     0.69169,     0.69269,     0.69369,     0.69469,      0.6957,\n",
      "            0.6967,      0.6977,      0.6987,      0.6997,      0.7007,      0.7017,      0.7027,      0.7037,      0.7047,     0.70571,     0.70671,     0.70771,     0.70871,     0.70971,     0.71071,     0.71171,     0.71271,     0.71371,     0.71471,     0.71572,     0.71672,     0.71772,     0.71872,     0.71972,\n",
      "           0.72072,     0.72172,     0.72272,     0.72372,     0.72472,     0.72573,     0.72673,     0.72773,     0.72873,     0.72973,     0.73073,     0.73173,     0.73273,     0.73373,     0.73473,     0.73574,     0.73674,     0.73774,     0.73874,     0.73974,     0.74074,     0.74174,     0.74274,     0.74374,\n",
      "           0.74474,     0.74575,     0.74675,     0.74775,     0.74875,     0.74975,     0.75075,     0.75175,     0.75275,     0.75375,     0.75475,     0.75576,     0.75676,     0.75776,     0.75876,     0.75976,     0.76076,     0.76176,     0.76276,     0.76376,     0.76476,     0.76577,     0.76677,     0.76777,\n",
      "           0.76877,     0.76977,     0.77077,     0.77177,     0.77277,     0.77377,     0.77477,     0.77578,     0.77678,     0.77778,     0.77878,     0.77978,     0.78078,     0.78178,     0.78278,     0.78378,     0.78478,     0.78579,     0.78679,     0.78779,     0.78879,     0.78979,     0.79079,     0.79179,\n",
      "           0.79279,     0.79379,     0.79479,      0.7958,      0.7968,      0.7978,      0.7988,      0.7998,      0.8008,      0.8018,      0.8028,      0.8038,      0.8048,     0.80581,     0.80681,     0.80781,     0.80881,     0.80981,     0.81081,     0.81181,     0.81281,     0.81381,     0.81481,     0.81582,\n",
      "           0.81682,     0.81782,     0.81882,     0.81982,     0.82082,     0.82182,     0.82282,     0.82382,     0.82482,     0.82583,     0.82683,     0.82783,     0.82883,     0.82983,     0.83083,     0.83183,     0.83283,     0.83383,     0.83483,     0.83584,     0.83684,     0.83784,     0.83884,     0.83984,\n",
      "           0.84084,     0.84184,     0.84284,     0.84384,     0.84484,     0.84585,     0.84685,     0.84785,     0.84885,     0.84985,     0.85085,     0.85185,     0.85285,     0.85385,     0.85485,     0.85586,     0.85686,     0.85786,     0.85886,     0.85986,     0.86086,     0.86186,     0.86286,     0.86386,\n",
      "           0.86486,     0.86587,     0.86687,     0.86787,     0.86887,     0.86987,     0.87087,     0.87187,     0.87287,     0.87387,     0.87487,     0.87588,     0.87688,     0.87788,     0.87888,     0.87988,     0.88088,     0.88188,     0.88288,     0.88388,     0.88488,     0.88589,     0.88689,     0.88789,\n",
      "           0.88889,     0.88989,     0.89089,     0.89189,     0.89289,     0.89389,     0.89489,      0.8959,      0.8969,      0.8979,      0.8989,      0.8999,      0.9009,      0.9019,      0.9029,      0.9039,      0.9049,     0.90591,     0.90691,     0.90791,     0.90891,     0.90991,     0.91091,     0.91191,\n",
      "           0.91291,     0.91391,     0.91491,     0.91592,     0.91692,     0.91792,     0.91892,     0.91992,     0.92092,     0.92192,     0.92292,     0.92392,     0.92492,     0.92593,     0.92693,     0.92793,     0.92893,     0.92993,     0.93093,     0.93193,     0.93293,     0.93393,     0.93493,     0.93594,\n",
      "           0.93694,     0.93794,     0.93894,     0.93994,     0.94094,     0.94194,     0.94294,     0.94394,     0.94494,     0.94595,     0.94695,     0.94795,     0.94895,     0.94995,     0.95095,     0.95195,     0.95295,     0.95395,     0.95495,     0.95596,     0.95696,     0.95796,     0.95896,     0.95996,\n",
      "           0.96096,     0.96196,     0.96296,     0.96396,     0.96496,     0.96597,     0.96697,     0.96797,     0.96897,     0.96997,     0.97097,     0.97197,     0.97297,     0.97397,     0.97497,     0.97598,     0.97698,     0.97798,     0.97898,     0.97998,     0.98098,     0.98198,     0.98298,     0.98398,\n",
      "           0.98498,     0.98599,     0.98699,     0.98799,     0.98899,     0.98999,     0.99099,     0.99199,     0.99299,     0.99399,     0.99499,       0.996,       0.997,       0.998,       0.999,           1]), array([[   0.048137,    0.048169,    0.073137,    0.094191,     0.11386,     0.13191,      0.1483,     0.16436,     0.17851,     0.19207,     0.20538,     0.21732,     0.22976,     0.23976,      0.2498,     0.25959,     0.26855,     0.27729,     0.28555,     0.29294,     0.30149,      0.3102,     0.31693,\n",
      "            0.32472,     0.33055,     0.33704,     0.34378,     0.35016,     0.35622,     0.36251,     0.36745,     0.37377,     0.37941,     0.38491,     0.38913,     0.39458,     0.40016,      0.4045,     0.40773,     0.41168,     0.41484,     0.41835,     0.42237,     0.42402,     0.42701,     0.42996,\n",
      "             0.4338,     0.43718,     0.44018,     0.44346,     0.44618,     0.45009,     0.45325,     0.45593,     0.45941,     0.46247,     0.46537,     0.46863,     0.47268,     0.47592,     0.47853,     0.48109,     0.48394,      0.4866,     0.48844,     0.49162,     0.49415,     0.49631,     0.49786,\n",
      "            0.50025,     0.50193,     0.50458,     0.50616,     0.50834,     0.51021,     0.51242,      0.5139,     0.51551,     0.51687,     0.51891,     0.52099,     0.52347,     0.52559,      0.5283,     0.52941,     0.53071,      0.5318,     0.53414,     0.53534,     0.53672,     0.53902,     0.54064,\n",
      "            0.54154,     0.54304,      0.5444,     0.54515,     0.54629,     0.54765,     0.54899,     0.55093,     0.55147,     0.55345,     0.55501,     0.55673,     0.55792,     0.55913,      0.5604,     0.56149,     0.56309,     0.56365,     0.56482,      0.5651,     0.56618,     0.56612,     0.56717,\n",
      "            0.56863,     0.56986,     0.57143,     0.57239,     0.57329,     0.57407,     0.57472,     0.57512,     0.57686,      0.5772,     0.57797,     0.57837,     0.57975,     0.58108,     0.58165,     0.58203,     0.58275,     0.58383,     0.58548,     0.58673,      0.5874,     0.58813,     0.58878,\n",
      "             0.5892,      0.5899,     0.58989,     0.59105,     0.59161,     0.59219,     0.59332,      0.5935,     0.59386,     0.59471,     0.59542,     0.59588,     0.59655,     0.59765,     0.59792,     0.59846,     0.59843,     0.59934,     0.60041,     0.60031,     0.60113,     0.60165,     0.60289,\n",
      "            0.60314,     0.60349,     0.60427,     0.60421,       0.605,     0.60567,     0.60615,     0.60629,       0.607,     0.60815,     0.60862,      0.6088,     0.60905,     0.61002,      0.6106,     0.61163,     0.61185,     0.61197,     0.61238,     0.61239,     0.61259,       0.613,     0.61313,\n",
      "            0.61339,      0.6139,     0.61406,     0.61514,     0.61605,     0.61729,     0.61728,     0.61742,     0.61793,     0.61838,     0.61908,     0.62045,      0.6212,     0.62163,     0.62229,     0.62281,     0.62331,     0.62386,     0.62418,     0.62492,     0.62538,      0.6251,     0.62539,\n",
      "            0.62546,      0.6252,     0.62559,     0.62539,     0.62487,     0.62483,     0.62569,     0.62628,     0.62658,     0.62643,     0.62711,     0.62707,     0.62692,     0.62677,     0.62743,     0.62699,     0.62699,     0.62698,     0.62733,     0.62818,     0.62819,     0.62891,     0.62911,\n",
      "            0.62957,     0.63029,     0.63016,     0.63077,     0.63101,     0.63128,     0.63116,     0.63178,     0.63196,     0.63224,     0.63208,     0.63197,     0.63179,      0.6314,     0.63158,     0.63177,     0.63226,     0.63263,     0.63311,     0.63347,     0.63361,     0.63353,      0.6337,\n",
      "            0.63356,     0.63461,     0.63484,     0.63533,     0.63546,     0.63596,     0.63569,     0.63596,     0.63632,      0.6359,     0.63601,     0.63592,     0.63605,     0.63637,     0.63576,     0.63631,     0.63688,     0.63723,     0.63662,      0.6367,     0.63706,     0.63664,     0.63682,\n",
      "            0.63713,     0.63769,     0.63815,     0.63825,     0.63823,     0.63785,      0.6374,     0.63764,     0.63763,     0.63761,     0.63689,      0.6372,     0.63676,     0.63651,     0.63687,     0.63736,     0.63669,     0.63647,     0.63646,     0.63615,     0.63592,      0.6363,     0.63667,\n",
      "            0.63631,     0.63658,     0.63657,     0.63616,     0.63628,     0.63685,     0.63675,     0.63689,     0.63703,     0.63724,     0.63765,     0.63775,     0.63768,     0.63736,     0.63687,     0.63681,     0.63668,     0.63591,     0.63557,     0.63548,     0.63553,     0.63536,     0.63529,\n",
      "            0.63553,     0.63521,     0.63511,     0.63568,     0.63567,     0.63595,     0.63594,     0.63607,     0.63567,     0.63527,     0.63458,     0.63449,     0.63469,     0.63438,     0.63399,     0.63453,     0.63417,     0.63432,      0.6342,     0.63507,     0.63487,     0.63514,     0.63476,\n",
      "            0.63495,     0.63449,     0.63427,      0.6345,     0.63462,      0.6342,      0.6341,     0.63421,     0.63455,     0.63414,     0.63344,     0.63325,     0.63337,     0.63369,     0.63384,     0.63384,     0.63347,     0.63335,     0.63353,     0.63336,     0.63377,     0.63336,     0.63289,\n",
      "            0.63176,     0.63152,     0.63121,     0.63159,     0.63187,      0.6315,     0.63122,     0.63041,     0.63026,      0.6303,     0.62984,      0.6297,     0.62979,     0.62957,     0.62965,     0.62981,     0.62933,     0.62904,     0.62871,     0.62893,     0.62906,     0.62892,     0.62857,\n",
      "            0.62897,     0.62898,     0.62925,     0.62896,     0.62846,     0.62869,     0.62811,     0.62736,     0.62702,     0.62645,     0.62554,      0.6256,     0.62589,     0.62587,     0.62561,     0.62547,     0.62589,     0.62604,     0.62626,     0.62655,     0.62644,     0.62615,     0.62595,\n",
      "            0.62624,     0.62679,     0.62684,     0.62628,      0.6251,     0.62482,     0.62498,       0.625,     0.62422,     0.62391,     0.62397,     0.62378,     0.62364,     0.62317,     0.62291,     0.62273,     0.62271,     0.62255,     0.62271,     0.62226,     0.62181,     0.62204,     0.62232,\n",
      "              0.622,     0.62134,     0.62121,     0.62123,     0.62061,     0.62043,     0.61995,     0.61945,     0.61918,     0.61891,     0.61846,     0.61807,     0.61788,     0.61765,     0.61802,     0.61746,     0.61754,     0.61755,     0.61725,     0.61732,     0.61717,     0.61725,     0.61711,\n",
      "            0.61697,     0.61666,     0.61645,     0.61607,      0.6157,     0.61542,     0.61449,     0.61435,     0.61436,     0.61419,     0.61378,     0.61323,     0.61334,     0.61316,     0.61254,     0.61201,     0.61179,     0.61066,        0.61,      0.6101,     0.60956,     0.60921,     0.60861,\n",
      "            0.60804,     0.60787,     0.60742,     0.60713,     0.60612,      0.6062,     0.60632,      0.6063,     0.60584,      0.6056,     0.60554,     0.60529,     0.60464,     0.60417,     0.60404,     0.60368,     0.60342,     0.60356,     0.60325,     0.60272,     0.60266,     0.60286,     0.60292,\n",
      "            0.60219,     0.60184,     0.60204,     0.60215,     0.60203,     0.60132,     0.60102,     0.60092,     0.60101,     0.60094,     0.60079,     0.60054,     0.60018,     0.59979,     0.59884,     0.59874,     0.59879,     0.59811,     0.59786,     0.59706,     0.59682,     0.59677,     0.59678,\n",
      "            0.59568,     0.59533,     0.59531,     0.59462,     0.59463,     0.59471,     0.59453,     0.59459,     0.59429,     0.59368,     0.59351,     0.59358,     0.59284,     0.59266,     0.59252,     0.59275,     0.59283,     0.59257,     0.59249,     0.59191,     0.59151,     0.59143,     0.59136,\n",
      "            0.59062,     0.58983,     0.58992,     0.58963,     0.58952,     0.58941,     0.58832,     0.58776,     0.58792,     0.58805,     0.58813,     0.58798,     0.58775,     0.58757,     0.58712,     0.58661,     0.58605,     0.58519,     0.58522,     0.58463,     0.58395,     0.58284,     0.58262,\n",
      "            0.58222,     0.58164,     0.58161,     0.58112,     0.58077,     0.58026,     0.58011,     0.57915,     0.57826,     0.57785,     0.57764,     0.57734,      0.5771,     0.57691,     0.57634,      0.5747,     0.57344,     0.57351,     0.57335,     0.57294,     0.57194,     0.57161,     0.57074,\n",
      "            0.57047,     0.57021,     0.57003,     0.56945,     0.56918,     0.56905,     0.56723,     0.56732,     0.56703,     0.56667,     0.56638,     0.56595,     0.56516,     0.56357,     0.56253,     0.56245,     0.56251,     0.56262,     0.56219,      0.5613,     0.55961,     0.55915,     0.55913,\n",
      "             0.5589,     0.55832,     0.55792,     0.55796,     0.55775,     0.55754,     0.55697,     0.55629,     0.55584,     0.55551,     0.55515,     0.55356,     0.55298,     0.55234,      0.5515,     0.55106,     0.55117,     0.55023,     0.54985,     0.54977,     0.54966,     0.54929,     0.54785,\n",
      "            0.54712,     0.54722,     0.54648,     0.54631,     0.54443,     0.54334,     0.54248,     0.54108,      0.5408,     0.53916,     0.53894,     0.53832,     0.53749,     0.53725,     0.53678,     0.53613,     0.53561,      0.5348,     0.53455,     0.53409,     0.53326,     0.53313,     0.53247,\n",
      "            0.53189,     0.53116,     0.53084,     0.53067,     0.52998,     0.52987,     0.52866,     0.52814,     0.52731,     0.52598,      0.5253,     0.52476,     0.52438,     0.52316,     0.52262,     0.52224,     0.52128,     0.52031,     0.52008,     0.52046,     0.52052,     0.51976,     0.51926,\n",
      "             0.5183,     0.51779,     0.51715,     0.51642,     0.51612,     0.51505,     0.51455,      0.5139,     0.51332,     0.51234,     0.51195,     0.51086,     0.51061,     0.50913,     0.50847,     0.50819,     0.50806,     0.50711,     0.50692,     0.50699,      0.5068,     0.50681,     0.50665,\n",
      "            0.50591,     0.50567,     0.50448,     0.50427,     0.50375,     0.50346,      0.5024,     0.50247,     0.50174,     0.50083,     0.50026,     0.49891,     0.49687,     0.49663,     0.49554,      0.4945,     0.49268,     0.49243,     0.49186,     0.49116,     0.49066,     0.48988,     0.48798,\n",
      "            0.48697,     0.48581,      0.4845,     0.48429,     0.48391,     0.48134,      0.4811,     0.48036,     0.47934,     0.47843,     0.47802,     0.47762,     0.47692,      0.4751,      0.4734,     0.47268,     0.47203,     0.47134,     0.47084,     0.47063,     0.46885,      0.4665,     0.46612,\n",
      "            0.46422,     0.46405,     0.46286,     0.46064,     0.45944,     0.45514,     0.45488,     0.45381,     0.45317,     0.45239,     0.45112,     0.45081,     0.44884,     0.44706,     0.44634,     0.44415,     0.44259,     0.44138,     0.44009,       0.439,     0.43802,     0.43595,     0.43509,\n",
      "            0.43359,     0.43327,      0.4323,      0.4318,     0.43154,      0.4313,     0.42891,     0.42852,     0.42764,     0.42641,     0.42532,      0.4244,     0.42385,     0.42247,     0.42161,      0.4212,      0.4211,     0.41977,     0.41889,     0.41804,     0.41769,     0.41749,     0.41719,\n",
      "            0.41503,     0.41369,      0.4127,     0.41111,     0.40934,     0.40751,     0.40649,     0.40452,     0.40389,     0.40259,     0.40164,     0.40016,     0.39902,     0.39722,     0.39531,     0.39357,      0.3925,     0.39035,     0.38853,     0.38752,     0.38704,     0.38521,     0.38356,\n",
      "            0.38221,       0.382,     0.38113,     0.37954,     0.37927,     0.37764,     0.37555,      0.3745,     0.37414,     0.37384,     0.37226,      0.3694,     0.36826,     0.36734,     0.36675,     0.36565,     0.36376,     0.36163,     0.36001,     0.35889,     0.35668,     0.35633,     0.35481,\n",
      "            0.35419,     0.35289,     0.35227,     0.35191,     0.35078,      0.3488,     0.34723,     0.34589,     0.34364,     0.34226,     0.33977,     0.33774,     0.33644,      0.3338,     0.33232,     0.32986,     0.32778,     0.32735,     0.32469,     0.32225,     0.32077,     0.31817,     0.31548,\n",
      "            0.31393,     0.31277,     0.30986,     0.30849,     0.30675,     0.30526,     0.30387,     0.30096,     0.29919,     0.29718,     0.29272,     0.29054,     0.28862,      0.2848,     0.28211,     0.27951,     0.27859,     0.27706,     0.27365,     0.27134,     0.26932,     0.26766,     0.26707,\n",
      "            0.26534,     0.26357,     0.25846,     0.25676,     0.25396,     0.25245,     0.25014,     0.24683,     0.24498,     0.24236,     0.23962,     0.23741,     0.23515,     0.23446,     0.23417,     0.23035,     0.22729,     0.22573,     0.22389,      0.2196,     0.21874,     0.21644,     0.21444,\n",
      "            0.21352,     0.21043,     0.20561,     0.20315,     0.19966,      0.1969,      0.1933,     0.18963,     0.18729,     0.18488,     0.18185,     0.17951,     0.17772,     0.17641,     0.17288,     0.17183,     0.16911,     0.16608,     0.16355,     0.16185,     0.15924,     0.15478,     0.15258,\n",
      "             0.1506,     0.14818,     0.14547,     0.14305,     0.14146,     0.13591,     0.13395,     0.13068,     0.12873,     0.12534,     0.12294,      0.1215,     0.11931,     0.11551,     0.11093,     0.10801,      0.1034,     0.10037,    0.098032,    0.095226,    0.092588,    0.090235,    0.087801,\n",
      "           0.082482,    0.078493,    0.072849,    0.069095,    0.063882,    0.061618,    0.057114,    0.055358,    0.052097,    0.046656,    0.042655,    0.039577,    0.032157,    0.028303,    0.025299,    0.018008,    0.013664,    0.010692,   0.0084135,   0.0033003,   0.0013574,           0,           0,\n",
      "                  0,           0,           0,           0,           0,           0,           0,           0,           0,           0,           0]]), 'Confidence', 'F1'], [array([          0,    0.001001,    0.002002,    0.003003,    0.004004,    0.005005,    0.006006,    0.007007,    0.008008,    0.009009,     0.01001,    0.011011,    0.012012,    0.013013,    0.014014,    0.015015,    0.016016,    0.017017,    0.018018,    0.019019,     0.02002,    0.021021,    0.022022,    0.023023,\n",
      "          0.024024,    0.025025,    0.026026,    0.027027,    0.028028,    0.029029,     0.03003,    0.031031,    0.032032,    0.033033,    0.034034,    0.035035,    0.036036,    0.037037,    0.038038,    0.039039,     0.04004,    0.041041,    0.042042,    0.043043,    0.044044,    0.045045,    0.046046,    0.047047,\n",
      "          0.048048,    0.049049,     0.05005,    0.051051,    0.052052,    0.053053,    0.054054,    0.055055,    0.056056,    0.057057,    0.058058,    0.059059,     0.06006,    0.061061,    0.062062,    0.063063,    0.064064,    0.065065,    0.066066,    0.067067,    0.068068,    0.069069,     0.07007,    0.071071,\n",
      "          0.072072,    0.073073,    0.074074,    0.075075,    0.076076,    0.077077,    0.078078,    0.079079,     0.08008,    0.081081,    0.082082,    0.083083,    0.084084,    0.085085,    0.086086,    0.087087,    0.088088,    0.089089,     0.09009,    0.091091,    0.092092,    0.093093,    0.094094,    0.095095,\n",
      "          0.096096,    0.097097,    0.098098,    0.099099,      0.1001,      0.1011,      0.1021,      0.1031,      0.1041,     0.10511,     0.10611,     0.10711,     0.10811,     0.10911,     0.11011,     0.11111,     0.11211,     0.11311,     0.11411,     0.11512,     0.11612,     0.11712,     0.11812,     0.11912,\n",
      "           0.12012,     0.12112,     0.12212,     0.12312,     0.12412,     0.12513,     0.12613,     0.12713,     0.12813,     0.12913,     0.13013,     0.13113,     0.13213,     0.13313,     0.13413,     0.13514,     0.13614,     0.13714,     0.13814,     0.13914,     0.14014,     0.14114,     0.14214,     0.14314,\n",
      "           0.14414,     0.14515,     0.14615,     0.14715,     0.14815,     0.14915,     0.15015,     0.15115,     0.15215,     0.15315,     0.15415,     0.15516,     0.15616,     0.15716,     0.15816,     0.15916,     0.16016,     0.16116,     0.16216,     0.16316,     0.16416,     0.16517,     0.16617,     0.16717,\n",
      "           0.16817,     0.16917,     0.17017,     0.17117,     0.17217,     0.17317,     0.17417,     0.17518,     0.17618,     0.17718,     0.17818,     0.17918,     0.18018,     0.18118,     0.18218,     0.18318,     0.18418,     0.18519,     0.18619,     0.18719,     0.18819,     0.18919,     0.19019,     0.19119,\n",
      "           0.19219,     0.19319,     0.19419,      0.1952,      0.1962,      0.1972,      0.1982,      0.1992,      0.2002,      0.2012,      0.2022,      0.2032,      0.2042,     0.20521,     0.20621,     0.20721,     0.20821,     0.20921,     0.21021,     0.21121,     0.21221,     0.21321,     0.21421,     0.21522,\n",
      "           0.21622,     0.21722,     0.21822,     0.21922,     0.22022,     0.22122,     0.22222,     0.22322,     0.22422,     0.22523,     0.22623,     0.22723,     0.22823,     0.22923,     0.23023,     0.23123,     0.23223,     0.23323,     0.23423,     0.23524,     0.23624,     0.23724,     0.23824,     0.23924,\n",
      "           0.24024,     0.24124,     0.24224,     0.24324,     0.24424,     0.24525,     0.24625,     0.24725,     0.24825,     0.24925,     0.25025,     0.25125,     0.25225,     0.25325,     0.25425,     0.25526,     0.25626,     0.25726,     0.25826,     0.25926,     0.26026,     0.26126,     0.26226,     0.26326,\n",
      "           0.26426,     0.26527,     0.26627,     0.26727,     0.26827,     0.26927,     0.27027,     0.27127,     0.27227,     0.27327,     0.27427,     0.27528,     0.27628,     0.27728,     0.27828,     0.27928,     0.28028,     0.28128,     0.28228,     0.28328,     0.28428,     0.28529,     0.28629,     0.28729,\n",
      "           0.28829,     0.28929,     0.29029,     0.29129,     0.29229,     0.29329,     0.29429,      0.2953,      0.2963,      0.2973,      0.2983,      0.2993,      0.3003,      0.3013,      0.3023,      0.3033,      0.3043,     0.30531,     0.30631,     0.30731,     0.30831,     0.30931,     0.31031,     0.31131,\n",
      "           0.31231,     0.31331,     0.31431,     0.31532,     0.31632,     0.31732,     0.31832,     0.31932,     0.32032,     0.32132,     0.32232,     0.32332,     0.32432,     0.32533,     0.32633,     0.32733,     0.32833,     0.32933,     0.33033,     0.33133,     0.33233,     0.33333,     0.33433,     0.33534,\n",
      "           0.33634,     0.33734,     0.33834,     0.33934,     0.34034,     0.34134,     0.34234,     0.34334,     0.34434,     0.34535,     0.34635,     0.34735,     0.34835,     0.34935,     0.35035,     0.35135,     0.35235,     0.35335,     0.35435,     0.35536,     0.35636,     0.35736,     0.35836,     0.35936,\n",
      "           0.36036,     0.36136,     0.36236,     0.36336,     0.36436,     0.36537,     0.36637,     0.36737,     0.36837,     0.36937,     0.37037,     0.37137,     0.37237,     0.37337,     0.37437,     0.37538,     0.37638,     0.37738,     0.37838,     0.37938,     0.38038,     0.38138,     0.38238,     0.38338,\n",
      "           0.38438,     0.38539,     0.38639,     0.38739,     0.38839,     0.38939,     0.39039,     0.39139,     0.39239,     0.39339,     0.39439,      0.3954,      0.3964,      0.3974,      0.3984,      0.3994,      0.4004,      0.4014,      0.4024,      0.4034,      0.4044,     0.40541,     0.40641,     0.40741,\n",
      "           0.40841,     0.40941,     0.41041,     0.41141,     0.41241,     0.41341,     0.41441,     0.41542,     0.41642,     0.41742,     0.41842,     0.41942,     0.42042,     0.42142,     0.42242,     0.42342,     0.42442,     0.42543,     0.42643,     0.42743,     0.42843,     0.42943,     0.43043,     0.43143,\n",
      "           0.43243,     0.43343,     0.43443,     0.43544,     0.43644,     0.43744,     0.43844,     0.43944,     0.44044,     0.44144,     0.44244,     0.44344,     0.44444,     0.44545,     0.44645,     0.44745,     0.44845,     0.44945,     0.45045,     0.45145,     0.45245,     0.45345,     0.45445,     0.45546,\n",
      "           0.45646,     0.45746,     0.45846,     0.45946,     0.46046,     0.46146,     0.46246,     0.46346,     0.46446,     0.46547,     0.46647,     0.46747,     0.46847,     0.46947,     0.47047,     0.47147,     0.47247,     0.47347,     0.47447,     0.47548,     0.47648,     0.47748,     0.47848,     0.47948,\n",
      "           0.48048,     0.48148,     0.48248,     0.48348,     0.48448,     0.48549,     0.48649,     0.48749,     0.48849,     0.48949,     0.49049,     0.49149,     0.49249,     0.49349,     0.49449,      0.4955,      0.4965,      0.4975,      0.4985,      0.4995,      0.5005,      0.5015,      0.5025,      0.5035,\n",
      "            0.5045,     0.50551,     0.50651,     0.50751,     0.50851,     0.50951,     0.51051,     0.51151,     0.51251,     0.51351,     0.51451,     0.51552,     0.51652,     0.51752,     0.51852,     0.51952,     0.52052,     0.52152,     0.52252,     0.52352,     0.52452,     0.52553,     0.52653,     0.52753,\n",
      "           0.52853,     0.52953,     0.53053,     0.53153,     0.53253,     0.53353,     0.53453,     0.53554,     0.53654,     0.53754,     0.53854,     0.53954,     0.54054,     0.54154,     0.54254,     0.54354,     0.54454,     0.54555,     0.54655,     0.54755,     0.54855,     0.54955,     0.55055,     0.55155,\n",
      "           0.55255,     0.55355,     0.55455,     0.55556,     0.55656,     0.55756,     0.55856,     0.55956,     0.56056,     0.56156,     0.56256,     0.56356,     0.56456,     0.56557,     0.56657,     0.56757,     0.56857,     0.56957,     0.57057,     0.57157,     0.57257,     0.57357,     0.57457,     0.57558,\n",
      "           0.57658,     0.57758,     0.57858,     0.57958,     0.58058,     0.58158,     0.58258,     0.58358,     0.58458,     0.58559,     0.58659,     0.58759,     0.58859,     0.58959,     0.59059,     0.59159,     0.59259,     0.59359,     0.59459,      0.5956,      0.5966,      0.5976,      0.5986,      0.5996,\n",
      "            0.6006,      0.6016,      0.6026,      0.6036,      0.6046,     0.60561,     0.60661,     0.60761,     0.60861,     0.60961,     0.61061,     0.61161,     0.61261,     0.61361,     0.61461,     0.61562,     0.61662,     0.61762,     0.61862,     0.61962,     0.62062,     0.62162,     0.62262,     0.62362,\n",
      "           0.62462,     0.62563,     0.62663,     0.62763,     0.62863,     0.62963,     0.63063,     0.63163,     0.63263,     0.63363,     0.63463,     0.63564,     0.63664,     0.63764,     0.63864,     0.63964,     0.64064,     0.64164,     0.64264,     0.64364,     0.64464,     0.64565,     0.64665,     0.64765,\n",
      "           0.64865,     0.64965,     0.65065,     0.65165,     0.65265,     0.65365,     0.65465,     0.65566,     0.65666,     0.65766,     0.65866,     0.65966,     0.66066,     0.66166,     0.66266,     0.66366,     0.66466,     0.66567,     0.66667,     0.66767,     0.66867,     0.66967,     0.67067,     0.67167,\n",
      "           0.67267,     0.67367,     0.67467,     0.67568,     0.67668,     0.67768,     0.67868,     0.67968,     0.68068,     0.68168,     0.68268,     0.68368,     0.68468,     0.68569,     0.68669,     0.68769,     0.68869,     0.68969,     0.69069,     0.69169,     0.69269,     0.69369,     0.69469,      0.6957,\n",
      "            0.6967,      0.6977,      0.6987,      0.6997,      0.7007,      0.7017,      0.7027,      0.7037,      0.7047,     0.70571,     0.70671,     0.70771,     0.70871,     0.70971,     0.71071,     0.71171,     0.71271,     0.71371,     0.71471,     0.71572,     0.71672,     0.71772,     0.71872,     0.71972,\n",
      "           0.72072,     0.72172,     0.72272,     0.72372,     0.72472,     0.72573,     0.72673,     0.72773,     0.72873,     0.72973,     0.73073,     0.73173,     0.73273,     0.73373,     0.73473,     0.73574,     0.73674,     0.73774,     0.73874,     0.73974,     0.74074,     0.74174,     0.74274,     0.74374,\n",
      "           0.74474,     0.74575,     0.74675,     0.74775,     0.74875,     0.74975,     0.75075,     0.75175,     0.75275,     0.75375,     0.75475,     0.75576,     0.75676,     0.75776,     0.75876,     0.75976,     0.76076,     0.76176,     0.76276,     0.76376,     0.76476,     0.76577,     0.76677,     0.76777,\n",
      "           0.76877,     0.76977,     0.77077,     0.77177,     0.77277,     0.77377,     0.77477,     0.77578,     0.77678,     0.77778,     0.77878,     0.77978,     0.78078,     0.78178,     0.78278,     0.78378,     0.78478,     0.78579,     0.78679,     0.78779,     0.78879,     0.78979,     0.79079,     0.79179,\n",
      "           0.79279,     0.79379,     0.79479,      0.7958,      0.7968,      0.7978,      0.7988,      0.7998,      0.8008,      0.8018,      0.8028,      0.8038,      0.8048,     0.80581,     0.80681,     0.80781,     0.80881,     0.80981,     0.81081,     0.81181,     0.81281,     0.81381,     0.81481,     0.81582,\n",
      "           0.81682,     0.81782,     0.81882,     0.81982,     0.82082,     0.82182,     0.82282,     0.82382,     0.82482,     0.82583,     0.82683,     0.82783,     0.82883,     0.82983,     0.83083,     0.83183,     0.83283,     0.83383,     0.83483,     0.83584,     0.83684,     0.83784,     0.83884,     0.83984,\n",
      "           0.84084,     0.84184,     0.84284,     0.84384,     0.84484,     0.84585,     0.84685,     0.84785,     0.84885,     0.84985,     0.85085,     0.85185,     0.85285,     0.85385,     0.85485,     0.85586,     0.85686,     0.85786,     0.85886,     0.85986,     0.86086,     0.86186,     0.86286,     0.86386,\n",
      "           0.86486,     0.86587,     0.86687,     0.86787,     0.86887,     0.86987,     0.87087,     0.87187,     0.87287,     0.87387,     0.87487,     0.87588,     0.87688,     0.87788,     0.87888,     0.87988,     0.88088,     0.88188,     0.88288,     0.88388,     0.88488,     0.88589,     0.88689,     0.88789,\n",
      "           0.88889,     0.88989,     0.89089,     0.89189,     0.89289,     0.89389,     0.89489,      0.8959,      0.8969,      0.8979,      0.8989,      0.8999,      0.9009,      0.9019,      0.9029,      0.9039,      0.9049,     0.90591,     0.90691,     0.90791,     0.90891,     0.90991,     0.91091,     0.91191,\n",
      "           0.91291,     0.91391,     0.91491,     0.91592,     0.91692,     0.91792,     0.91892,     0.91992,     0.92092,     0.92192,     0.92292,     0.92392,     0.92492,     0.92593,     0.92693,     0.92793,     0.92893,     0.92993,     0.93093,     0.93193,     0.93293,     0.93393,     0.93493,     0.93594,\n",
      "           0.93694,     0.93794,     0.93894,     0.93994,     0.94094,     0.94194,     0.94294,     0.94394,     0.94494,     0.94595,     0.94695,     0.94795,     0.94895,     0.94995,     0.95095,     0.95195,     0.95295,     0.95395,     0.95495,     0.95596,     0.95696,     0.95796,     0.95896,     0.95996,\n",
      "           0.96096,     0.96196,     0.96296,     0.96396,     0.96496,     0.96597,     0.96697,     0.96797,     0.96897,     0.96997,     0.97097,     0.97197,     0.97297,     0.97397,     0.97497,     0.97598,     0.97698,     0.97798,     0.97898,     0.97998,     0.98098,     0.98198,     0.98298,     0.98398,\n",
      "           0.98498,     0.98599,     0.98699,     0.98799,     0.98899,     0.98999,     0.99099,     0.99199,     0.99299,     0.99399,     0.99499,       0.996,       0.997,       0.998,       0.999,           1]), array([[   0.024741,    0.024758,    0.038167,    0.049829,    0.061022,    0.071564,    0.081383,    0.091227,     0.10014,     0.10882,     0.11753,     0.12555,     0.13399,     0.14103,     0.14811,     0.15519,     0.16178,     0.16832,     0.17458,     0.18026,     0.18683,     0.19363,     0.19907,\n",
      "             0.2053,     0.21015,     0.21566,     0.22132,     0.22675,     0.23198,     0.23743,     0.24185,     0.24763,     0.25276,     0.25781,     0.26188,     0.26693,      0.2721,      0.2764,     0.27982,     0.28389,     0.28723,     0.29077,     0.29488,     0.29711,     0.30022,     0.30364,\n",
      "             0.3076,     0.31123,     0.31465,     0.31815,     0.32134,      0.3256,     0.32932,     0.33243,     0.33629,     0.33979,     0.34316,     0.34686,     0.35148,      0.3553,     0.35863,     0.36184,     0.36542,     0.36855,     0.37111,     0.37479,     0.37792,     0.38064,     0.38303,\n",
      "            0.38645,     0.38886,     0.39214,     0.39446,     0.39732,     0.40004,     0.40309,     0.40524,     0.40781,     0.40962,     0.41253,     0.41552,     0.41891,       0.422,      0.4255,     0.42755,     0.42976,     0.43183,     0.43492,     0.43691,     0.43928,     0.44251,     0.44524,\n",
      "            0.44688,     0.44935,     0.45149,     0.45309,     0.45511,     0.45744,     0.45991,     0.46264,     0.46356,     0.46651,     0.46889,     0.47182,     0.47417,     0.47609,     0.47818,     0.48018,      0.4827,     0.48418,     0.48608,     0.48718,     0.48914,     0.49011,     0.49203,\n",
      "            0.49458,     0.49699,     0.49976,     0.50178,     0.50336,     0.50456,     0.50595,     0.50713,     0.50985,     0.51115,     0.51279,     0.51417,     0.51636,     0.51875,     0.52025,     0.52142,      0.5234,     0.52556,     0.52825,     0.53071,     0.53246,      0.5341,     0.53586,\n",
      "             0.5372,      0.5388,      0.5399,     0.54208,     0.54326,     0.54469,     0.54662,     0.54786,     0.54884,     0.55062,     0.55186,     0.55312,     0.55451,     0.55666,     0.55762,     0.55904,      0.5595,     0.56133,     0.56347,     0.56431,     0.56601,     0.56746,     0.56966,\n",
      "            0.57037,     0.57178,     0.57318,     0.57387,      0.5758,     0.57731,     0.57892,     0.57979,     0.58136,     0.58349,     0.58491,     0.58551,     0.58653,     0.58835,     0.58972,      0.5922,      0.5932,     0.59401,     0.59506,     0.59567,     0.59686,      0.5983,     0.59944,\n",
      "            0.60054,     0.60181,     0.60299,     0.60513,     0.60751,     0.61024,     0.61147,     0.61238,     0.61375,     0.61555,     0.61727,     0.61999,      0.6215,     0.62302,     0.62467,     0.62573,     0.62707,     0.62853,     0.62951,     0.63102,     0.63229,      0.6331,     0.63369,\n",
      "            0.63452,     0.63504,     0.63587,     0.63647,      0.6368,     0.63743,     0.63958,     0.64082,     0.64182,     0.64258,       0.644,     0.64466,     0.64523,     0.64548,     0.64689,     0.64707,      0.6478,      0.6489,     0.64986,     0.65187,     0.65303,     0.65573,     0.65693,\n",
      "            0.65833,     0.65991,     0.66053,     0.66248,     0.66347,     0.66447,     0.66452,     0.66598,     0.66678,     0.66822,     0.66908,     0.66966,     0.67009,     0.67002,     0.67084,      0.6721,     0.67363,     0.67531,     0.67683,     0.67851,     0.67969,      0.6808,     0.68164,\n",
      "            0.68305,     0.68592,     0.68691,     0.68807,     0.68881,     0.69045,     0.69116,     0.69225,     0.69355,     0.69393,     0.69466,     0.69543,     0.69659,     0.69735,     0.69776,     0.69909,     0.70046,     0.70152,     0.70212,     0.70335,     0.70424,     0.70482,      0.7058,\n",
      "            0.70682,     0.70819,     0.70934,     0.71009,       0.711,     0.71156,     0.71194,     0.71334,       0.714,     0.71451,     0.71467,     0.71544,     0.71587,     0.71613,      0.7182,     0.72014,     0.72007,     0.72031,     0.72132,     0.72178,     0.72205,     0.72303,     0.72425,\n",
      "            0.72465,     0.72535,      0.7257,     0.72627,     0.72672,     0.72875,     0.72932,     0.72996,     0.73099,     0.73196,     0.73333,     0.73387,     0.73425,     0.73507,     0.73533,     0.73585,     0.73603,     0.73625,     0.73659,      0.7368,     0.73764,     0.73756,     0.73801,\n",
      "            0.73897,      0.7401,     0.74099,     0.74256,     0.74369,     0.74504,     0.74561,     0.74598,     0.74605,     0.74615,     0.74621,       0.747,     0.74753,      0.7478,     0.74802,     0.74951,     0.74967,     0.75116,     0.75164,     0.75411,     0.75478,     0.75617,     0.75635,\n",
      "            0.75691,      0.7573,      0.7581,     0.75877,     0.75909,     0.75916,     0.75979,     0.76048,     0.76145,     0.76221,      0.7622,     0.76352,     0.76452,     0.76716,     0.76854,     0.76938,     0.76944,     0.77044,     0.77175,      0.7725,     0.77371,     0.77387,     0.77433,\n",
      "            0.77457,      0.7752,     0.77557,     0.77681,     0.77939,     0.77924,     0.77991,     0.78027,     0.78104,     0.78139,     0.78153,     0.78148,     0.78197,     0.78242,     0.78299,     0.78421,       0.785,     0.78545,     0.78592,     0.78659,       0.787,     0.78755,     0.78842,\n",
      "            0.78996,     0.79046,     0.79131,      0.7919,     0.79185,     0.79257,     0.79309,     0.79366,     0.79408,     0.79421,     0.79401,     0.79497,     0.79589,     0.79612,     0.79657,     0.79768,     0.79905,     0.79953,     0.80106,     0.80213,     0.80243,     0.80235,     0.80242,\n",
      "            0.80338,     0.80518,      0.8059,     0.80607,     0.80564,     0.80591,     0.80671,     0.80739,     0.80808,     0.80869,     0.80889,     0.80909,     0.80923,     0.80982,     0.81035,      0.8108,     0.81135,     0.81164,      0.8122,     0.81216,       0.812,      0.8133,     0.81426,\n",
      "            0.81516,     0.81521,      0.8165,     0.81684,     0.81702,     0.81695,     0.81679,      0.8174,     0.81731,     0.81817,     0.81864,      0.8197,     0.81987,     0.81998,     0.82128,      0.8215,     0.82227,     0.82315,     0.82309,     0.82333,     0.82343,     0.82427,     0.82463,\n",
      "            0.82482,     0.82649,     0.82688,     0.82716,     0.82765,     0.82778,      0.8283,     0.82909,     0.83031,     0.83067,     0.83058,     0.83083,     0.83232,     0.83293,     0.83315,      0.8332,     0.83377,      0.8334,     0.83358,     0.83451,     0.83434,     0.83509,      0.8349,\n",
      "            0.83471,     0.83547,     0.83538,      0.8357,     0.83584,     0.83622,      0.8377,     0.83865,     0.83885,     0.83902,     0.83964,     0.84091,     0.84115,     0.84146,     0.84236,     0.84403,     0.84413,     0.84467,     0.84481,     0.84511,     0.84539,     0.84621,     0.84644,\n",
      "            0.84679,     0.84752,     0.84835,     0.84876,     0.84907,     0.84979,     0.85017,     0.85061,     0.85186,     0.85204,     0.85199,     0.85192,     0.85181,     0.85217,     0.85198,     0.85233,      0.8533,     0.85358,     0.85351,     0.85327,     0.85368,     0.85414,     0.85512,\n",
      "            0.85528,      0.8558,     0.85614,     0.85594,     0.85692,     0.85785,     0.85827,     0.85888,      0.8588,     0.85862,     0.85869,     0.85898,     0.85942,     0.85983,     0.86041,      0.8614,     0.86174,     0.86181,     0.86227,     0.86311,     0.86333,      0.8642,     0.86448,\n",
      "            0.86427,     0.86463,     0.86502,     0.86623,     0.86653,     0.86701,     0.86673,     0.86707,     0.86875,     0.86932,     0.86968,     0.87026,     0.87073,     0.87068,     0.87108,     0.87184,     0.87451,     0.87428,     0.87467,     0.87521,     0.87503,     0.87473,     0.87468,\n",
      "            0.87559,      0.8755,     0.87604,     0.87591,     0.87581,     0.87597,     0.87618,     0.87625,      0.8768,     0.87704,     0.87746,     0.87766,      0.8776,     0.87817,     0.88018,     0.87976,     0.87943,     0.88058,     0.88054,       0.881,     0.88074,     0.88066,     0.88043,\n",
      "            0.88145,     0.88168,     0.88225,     0.88354,     0.88392,     0.88478,     0.88474,     0.88533,      0.8867,     0.88751,     0.88798,     0.88911,     0.88892,     0.88853,     0.88828,     0.88967,        0.89,     0.89052,     0.89059,     0.89038,     0.88997,     0.89007,     0.89167,\n",
      "            0.89197,     0.89209,     0.89322,     0.89385,     0.89402,     0.89436,     0.89547,     0.89531,      0.8952,     0.89575,     0.89567,      0.8953,     0.89516,     0.89501,     0.89607,     0.89597,     0.89714,     0.89768,     0.89759,     0.89821,     0.89921,     0.90067,     0.90099,\n",
      "            0.90083,     0.90311,     0.90433,     0.90513,     0.90548,     0.90643,     0.90698,     0.90677,     0.90805,     0.90771,      0.9089,     0.90957,     0.91008,     0.91003,     0.90993,      0.9098,     0.90969,     0.90952,     0.90989,     0.91006,        0.91,     0.91055,     0.91041,\n",
      "            0.91029,     0.91014,     0.91007,     0.91004,     0.90989,     0.91198,     0.91173,     0.91284,     0.91358,     0.91331,     0.91388,     0.91377,     0.91418,     0.91417,     0.91478,     0.91689,      0.9167,     0.91651,     0.91646,      0.9189,     0.91932,     0.91935,     0.91982,\n",
      "            0.92056,     0.92046,     0.92034,      0.9202,      0.9224,      0.9222,     0.92286,     0.92274,      0.9234,     0.92343,     0.92545,     0.92525,      0.9252,     0.92493,     0.92481,     0.92476,     0.92708,     0.92769,     0.92855,     0.92902,     0.93005,      0.9316,     0.93397,\n",
      "            0.93385,     0.93381,     0.93558,     0.93655,     0.93779,     0.93834,     0.93819,     0.93901,     0.93889,     0.93958,      0.9395,     0.93929,     0.93898,     0.93894,     0.93878,     0.93861,     0.93833,     0.93914,      0.9399,     0.93979,     0.93972,      0.9396,     0.93931,\n",
      "            0.94088,      0.9407,      0.9405,     0.94047,     0.94041,      0.9409,     0.94086,     0.94075,     0.94059,     0.94045,     0.94039,      0.9421,     0.94289,     0.94262,     0.94237,     0.94226,     0.94216,     0.94272,     0.94289,     0.94286,     0.94351,     0.94316,     0.94403,\n",
      "            0.94374,     0.94559,     0.94541,     0.94509,     0.94492,     0.94428,     0.94424,     0.94408,     0.94494,      0.9458,     0.94561,     0.94644,     0.94625,     0.94599,     0.94687,     0.94755,      0.9482,     0.94816,     0.94797,     0.94782,     0.94767,     0.94737,     0.94827,\n",
      "            0.94806,     0.94801,     0.94787,      0.9478,     0.94776,     0.94772,     0.94737,     0.94836,     0.94823,     0.94805,     0.94895,     0.94882,      0.9498,     0.95007,     0.95056,      0.9505,     0.95227,     0.95356,     0.95344,     0.95553,     0.95549,     0.95657,     0.95653,\n",
      "            0.95626,     0.95721,     0.95822,     0.95802,     0.95895,     0.95872,     0.95975,     0.96068,     0.96178,     0.96163,     0.96152,     0.96203,     0.96304,     0.96341,     0.96441,     0.96422,      0.9641,     0.96387,     0.96366,     0.96355,      0.9635,     0.96329,      0.9631,\n",
      "            0.96295,     0.96292,     0.96409,      0.9647,     0.96516,     0.96498,     0.96605,     0.96594,      0.9659,     0.96717,     0.96966,     0.97072,     0.97061,     0.97052,     0.97047,     0.97172,     0.97155,     0.97135,     0.97259,     0.97634,     0.97654,     0.97651,     0.97639,\n",
      "            0.97634,     0.97624,     0.97619,      0.9768,     0.97898,     0.97884,     0.97971,     0.98012,     0.98147,     0.98138,     0.98122,     0.98109,     0.98255,     0.98239,     0.98546,     0.98533,     0.98684,     0.98682,     0.98669,     0.98657,      0.9865,     0.98637,     0.98623,\n",
      "            0.98615,     0.98609,     0.98594,     0.98761,     0.98753,     0.98745,     0.98739,     0.98725,     0.98716,     0.98706,     0.98683,     0.98671,     0.98661,     0.98641,     0.98626,     0.98611,     0.98802,     0.98795,     0.98979,     0.98969,      0.9896,     0.98953,      0.9895,\n",
      "            0.98942,     0.98934,      0.9891,     0.98902,     0.98888,      0.9888,     0.98869,     0.98852,     0.99071,      0.9906,     0.99048,     0.99038,     0.99027,     0.99266,     0.99265,     0.99499,     0.99492,     0.99488,     0.99483,     0.99472,      0.9947,     0.99463,     0.99458,\n",
      "            0.99455,     0.99446,     0.99432,     0.99424,     0.99413,     0.99404,     0.99392,     0.99379,      0.9937,     0.99361,     0.99349,      0.9934,     0.99333,     0.99328,     0.99313,     0.99308,     0.99639,      0.9964,     0.99634,     0.99629,     0.99623,     0.99611,     0.99605,\n",
      "                  1,           1,           1,           1,           1,           1,           1,           1,           1,           1,           1,           1,           1,           1,           1,           1,           1,           1,           1,           1,           1,           1,           1,\n",
      "                  1,           1,           1,           1,           1,           1,           1,           1,           1,           1,           1,           1,           1,           1,           1,           1,           1,           1,           1,           1,           1,           1,           1,\n",
      "                  1,           1,           1,           1,           1,           1,           1,           1,           1,           1,           1]]), 'Confidence', 'Precision'], [array([          0,    0.001001,    0.002002,    0.003003,    0.004004,    0.005005,    0.006006,    0.007007,    0.008008,    0.009009,     0.01001,    0.011011,    0.012012,    0.013013,    0.014014,    0.015015,    0.016016,    0.017017,    0.018018,    0.019019,     0.02002,    0.021021,    0.022022,    0.023023,\n",
      "          0.024024,    0.025025,    0.026026,    0.027027,    0.028028,    0.029029,     0.03003,    0.031031,    0.032032,    0.033033,    0.034034,    0.035035,    0.036036,    0.037037,    0.038038,    0.039039,     0.04004,    0.041041,    0.042042,    0.043043,    0.044044,    0.045045,    0.046046,    0.047047,\n",
      "          0.048048,    0.049049,     0.05005,    0.051051,    0.052052,    0.053053,    0.054054,    0.055055,    0.056056,    0.057057,    0.058058,    0.059059,     0.06006,    0.061061,    0.062062,    0.063063,    0.064064,    0.065065,    0.066066,    0.067067,    0.068068,    0.069069,     0.07007,    0.071071,\n",
      "          0.072072,    0.073073,    0.074074,    0.075075,    0.076076,    0.077077,    0.078078,    0.079079,     0.08008,    0.081081,    0.082082,    0.083083,    0.084084,    0.085085,    0.086086,    0.087087,    0.088088,    0.089089,     0.09009,    0.091091,    0.092092,    0.093093,    0.094094,    0.095095,\n",
      "          0.096096,    0.097097,    0.098098,    0.099099,      0.1001,      0.1011,      0.1021,      0.1031,      0.1041,     0.10511,     0.10611,     0.10711,     0.10811,     0.10911,     0.11011,     0.11111,     0.11211,     0.11311,     0.11411,     0.11512,     0.11612,     0.11712,     0.11812,     0.11912,\n",
      "           0.12012,     0.12112,     0.12212,     0.12312,     0.12412,     0.12513,     0.12613,     0.12713,     0.12813,     0.12913,     0.13013,     0.13113,     0.13213,     0.13313,     0.13413,     0.13514,     0.13614,     0.13714,     0.13814,     0.13914,     0.14014,     0.14114,     0.14214,     0.14314,\n",
      "           0.14414,     0.14515,     0.14615,     0.14715,     0.14815,     0.14915,     0.15015,     0.15115,     0.15215,     0.15315,     0.15415,     0.15516,     0.15616,     0.15716,     0.15816,     0.15916,     0.16016,     0.16116,     0.16216,     0.16316,     0.16416,     0.16517,     0.16617,     0.16717,\n",
      "           0.16817,     0.16917,     0.17017,     0.17117,     0.17217,     0.17317,     0.17417,     0.17518,     0.17618,     0.17718,     0.17818,     0.17918,     0.18018,     0.18118,     0.18218,     0.18318,     0.18418,     0.18519,     0.18619,     0.18719,     0.18819,     0.18919,     0.19019,     0.19119,\n",
      "           0.19219,     0.19319,     0.19419,      0.1952,      0.1962,      0.1972,      0.1982,      0.1992,      0.2002,      0.2012,      0.2022,      0.2032,      0.2042,     0.20521,     0.20621,     0.20721,     0.20821,     0.20921,     0.21021,     0.21121,     0.21221,     0.21321,     0.21421,     0.21522,\n",
      "           0.21622,     0.21722,     0.21822,     0.21922,     0.22022,     0.22122,     0.22222,     0.22322,     0.22422,     0.22523,     0.22623,     0.22723,     0.22823,     0.22923,     0.23023,     0.23123,     0.23223,     0.23323,     0.23423,     0.23524,     0.23624,     0.23724,     0.23824,     0.23924,\n",
      "           0.24024,     0.24124,     0.24224,     0.24324,     0.24424,     0.24525,     0.24625,     0.24725,     0.24825,     0.24925,     0.25025,     0.25125,     0.25225,     0.25325,     0.25425,     0.25526,     0.25626,     0.25726,     0.25826,     0.25926,     0.26026,     0.26126,     0.26226,     0.26326,\n",
      "           0.26426,     0.26527,     0.26627,     0.26727,     0.26827,     0.26927,     0.27027,     0.27127,     0.27227,     0.27327,     0.27427,     0.27528,     0.27628,     0.27728,     0.27828,     0.27928,     0.28028,     0.28128,     0.28228,     0.28328,     0.28428,     0.28529,     0.28629,     0.28729,\n",
      "           0.28829,     0.28929,     0.29029,     0.29129,     0.29229,     0.29329,     0.29429,      0.2953,      0.2963,      0.2973,      0.2983,      0.2993,      0.3003,      0.3013,      0.3023,      0.3033,      0.3043,     0.30531,     0.30631,     0.30731,     0.30831,     0.30931,     0.31031,     0.31131,\n",
      "           0.31231,     0.31331,     0.31431,     0.31532,     0.31632,     0.31732,     0.31832,     0.31932,     0.32032,     0.32132,     0.32232,     0.32332,     0.32432,     0.32533,     0.32633,     0.32733,     0.32833,     0.32933,     0.33033,     0.33133,     0.33233,     0.33333,     0.33433,     0.33534,\n",
      "           0.33634,     0.33734,     0.33834,     0.33934,     0.34034,     0.34134,     0.34234,     0.34334,     0.34434,     0.34535,     0.34635,     0.34735,     0.34835,     0.34935,     0.35035,     0.35135,     0.35235,     0.35335,     0.35435,     0.35536,     0.35636,     0.35736,     0.35836,     0.35936,\n",
      "           0.36036,     0.36136,     0.36236,     0.36336,     0.36436,     0.36537,     0.36637,     0.36737,     0.36837,     0.36937,     0.37037,     0.37137,     0.37237,     0.37337,     0.37437,     0.37538,     0.37638,     0.37738,     0.37838,     0.37938,     0.38038,     0.38138,     0.38238,     0.38338,\n",
      "           0.38438,     0.38539,     0.38639,     0.38739,     0.38839,     0.38939,     0.39039,     0.39139,     0.39239,     0.39339,     0.39439,      0.3954,      0.3964,      0.3974,      0.3984,      0.3994,      0.4004,      0.4014,      0.4024,      0.4034,      0.4044,     0.40541,     0.40641,     0.40741,\n",
      "           0.40841,     0.40941,     0.41041,     0.41141,     0.41241,     0.41341,     0.41441,     0.41542,     0.41642,     0.41742,     0.41842,     0.41942,     0.42042,     0.42142,     0.42242,     0.42342,     0.42442,     0.42543,     0.42643,     0.42743,     0.42843,     0.42943,     0.43043,     0.43143,\n",
      "           0.43243,     0.43343,     0.43443,     0.43544,     0.43644,     0.43744,     0.43844,     0.43944,     0.44044,     0.44144,     0.44244,     0.44344,     0.44444,     0.44545,     0.44645,     0.44745,     0.44845,     0.44945,     0.45045,     0.45145,     0.45245,     0.45345,     0.45445,     0.45546,\n",
      "           0.45646,     0.45746,     0.45846,     0.45946,     0.46046,     0.46146,     0.46246,     0.46346,     0.46446,     0.46547,     0.46647,     0.46747,     0.46847,     0.46947,     0.47047,     0.47147,     0.47247,     0.47347,     0.47447,     0.47548,     0.47648,     0.47748,     0.47848,     0.47948,\n",
      "           0.48048,     0.48148,     0.48248,     0.48348,     0.48448,     0.48549,     0.48649,     0.48749,     0.48849,     0.48949,     0.49049,     0.49149,     0.49249,     0.49349,     0.49449,      0.4955,      0.4965,      0.4975,      0.4985,      0.4995,      0.5005,      0.5015,      0.5025,      0.5035,\n",
      "            0.5045,     0.50551,     0.50651,     0.50751,     0.50851,     0.50951,     0.51051,     0.51151,     0.51251,     0.51351,     0.51451,     0.51552,     0.51652,     0.51752,     0.51852,     0.51952,     0.52052,     0.52152,     0.52252,     0.52352,     0.52452,     0.52553,     0.52653,     0.52753,\n",
      "           0.52853,     0.52953,     0.53053,     0.53153,     0.53253,     0.53353,     0.53453,     0.53554,     0.53654,     0.53754,     0.53854,     0.53954,     0.54054,     0.54154,     0.54254,     0.54354,     0.54454,     0.54555,     0.54655,     0.54755,     0.54855,     0.54955,     0.55055,     0.55155,\n",
      "           0.55255,     0.55355,     0.55455,     0.55556,     0.55656,     0.55756,     0.55856,     0.55956,     0.56056,     0.56156,     0.56256,     0.56356,     0.56456,     0.56557,     0.56657,     0.56757,     0.56857,     0.56957,     0.57057,     0.57157,     0.57257,     0.57357,     0.57457,     0.57558,\n",
      "           0.57658,     0.57758,     0.57858,     0.57958,     0.58058,     0.58158,     0.58258,     0.58358,     0.58458,     0.58559,     0.58659,     0.58759,     0.58859,     0.58959,     0.59059,     0.59159,     0.59259,     0.59359,     0.59459,      0.5956,      0.5966,      0.5976,      0.5986,      0.5996,\n",
      "            0.6006,      0.6016,      0.6026,      0.6036,      0.6046,     0.60561,     0.60661,     0.60761,     0.60861,     0.60961,     0.61061,     0.61161,     0.61261,     0.61361,     0.61461,     0.61562,     0.61662,     0.61762,     0.61862,     0.61962,     0.62062,     0.62162,     0.62262,     0.62362,\n",
      "           0.62462,     0.62563,     0.62663,     0.62763,     0.62863,     0.62963,     0.63063,     0.63163,     0.63263,     0.63363,     0.63463,     0.63564,     0.63664,     0.63764,     0.63864,     0.63964,     0.64064,     0.64164,     0.64264,     0.64364,     0.64464,     0.64565,     0.64665,     0.64765,\n",
      "           0.64865,     0.64965,     0.65065,     0.65165,     0.65265,     0.65365,     0.65465,     0.65566,     0.65666,     0.65766,     0.65866,     0.65966,     0.66066,     0.66166,     0.66266,     0.66366,     0.66466,     0.66567,     0.66667,     0.66767,     0.66867,     0.66967,     0.67067,     0.67167,\n",
      "           0.67267,     0.67367,     0.67467,     0.67568,     0.67668,     0.67768,     0.67868,     0.67968,     0.68068,     0.68168,     0.68268,     0.68368,     0.68468,     0.68569,     0.68669,     0.68769,     0.68869,     0.68969,     0.69069,     0.69169,     0.69269,     0.69369,     0.69469,      0.6957,\n",
      "            0.6967,      0.6977,      0.6987,      0.6997,      0.7007,      0.7017,      0.7027,      0.7037,      0.7047,     0.70571,     0.70671,     0.70771,     0.70871,     0.70971,     0.71071,     0.71171,     0.71271,     0.71371,     0.71471,     0.71572,     0.71672,     0.71772,     0.71872,     0.71972,\n",
      "           0.72072,     0.72172,     0.72272,     0.72372,     0.72472,     0.72573,     0.72673,     0.72773,     0.72873,     0.72973,     0.73073,     0.73173,     0.73273,     0.73373,     0.73473,     0.73574,     0.73674,     0.73774,     0.73874,     0.73974,     0.74074,     0.74174,     0.74274,     0.74374,\n",
      "           0.74474,     0.74575,     0.74675,     0.74775,     0.74875,     0.74975,     0.75075,     0.75175,     0.75275,     0.75375,     0.75475,     0.75576,     0.75676,     0.75776,     0.75876,     0.75976,     0.76076,     0.76176,     0.76276,     0.76376,     0.76476,     0.76577,     0.76677,     0.76777,\n",
      "           0.76877,     0.76977,     0.77077,     0.77177,     0.77277,     0.77377,     0.77477,     0.77578,     0.77678,     0.77778,     0.77878,     0.77978,     0.78078,     0.78178,     0.78278,     0.78378,     0.78478,     0.78579,     0.78679,     0.78779,     0.78879,     0.78979,     0.79079,     0.79179,\n",
      "           0.79279,     0.79379,     0.79479,      0.7958,      0.7968,      0.7978,      0.7988,      0.7998,      0.8008,      0.8018,      0.8028,      0.8038,      0.8048,     0.80581,     0.80681,     0.80781,     0.80881,     0.80981,     0.81081,     0.81181,     0.81281,     0.81381,     0.81481,     0.81582,\n",
      "           0.81682,     0.81782,     0.81882,     0.81982,     0.82082,     0.82182,     0.82282,     0.82382,     0.82482,     0.82583,     0.82683,     0.82783,     0.82883,     0.82983,     0.83083,     0.83183,     0.83283,     0.83383,     0.83483,     0.83584,     0.83684,     0.83784,     0.83884,     0.83984,\n",
      "           0.84084,     0.84184,     0.84284,     0.84384,     0.84484,     0.84585,     0.84685,     0.84785,     0.84885,     0.84985,     0.85085,     0.85185,     0.85285,     0.85385,     0.85485,     0.85586,     0.85686,     0.85786,     0.85886,     0.85986,     0.86086,     0.86186,     0.86286,     0.86386,\n",
      "           0.86486,     0.86587,     0.86687,     0.86787,     0.86887,     0.86987,     0.87087,     0.87187,     0.87287,     0.87387,     0.87487,     0.87588,     0.87688,     0.87788,     0.87888,     0.87988,     0.88088,     0.88188,     0.88288,     0.88388,     0.88488,     0.88589,     0.88689,     0.88789,\n",
      "           0.88889,     0.88989,     0.89089,     0.89189,     0.89289,     0.89389,     0.89489,      0.8959,      0.8969,      0.8979,      0.8989,      0.8999,      0.9009,      0.9019,      0.9029,      0.9039,      0.9049,     0.90591,     0.90691,     0.90791,     0.90891,     0.90991,     0.91091,     0.91191,\n",
      "           0.91291,     0.91391,     0.91491,     0.91592,     0.91692,     0.91792,     0.91892,     0.91992,     0.92092,     0.92192,     0.92292,     0.92392,     0.92492,     0.92593,     0.92693,     0.92793,     0.92893,     0.92993,     0.93093,     0.93193,     0.93293,     0.93393,     0.93493,     0.93594,\n",
      "           0.93694,     0.93794,     0.93894,     0.93994,     0.94094,     0.94194,     0.94294,     0.94394,     0.94494,     0.94595,     0.94695,     0.94795,     0.94895,     0.94995,     0.95095,     0.95195,     0.95295,     0.95395,     0.95495,     0.95596,     0.95696,     0.95796,     0.95896,     0.95996,\n",
      "           0.96096,     0.96196,     0.96296,     0.96396,     0.96496,     0.96597,     0.96697,     0.96797,     0.96897,     0.96997,     0.97097,     0.97197,     0.97297,     0.97397,     0.97497,     0.97598,     0.97698,     0.97798,     0.97898,     0.97998,     0.98098,     0.98198,     0.98298,     0.98398,\n",
      "           0.98498,     0.98599,     0.98699,     0.98799,     0.98899,     0.98999,     0.99099,     0.99199,     0.99299,     0.99399,     0.99499,       0.996,       0.997,       0.998,       0.999,           1]), array([[    0.88565,     0.88565,     0.87353,     0.85845,     0.84895,     0.84174,     0.83453,     0.82864,      0.8211,     0.81717,     0.81356,     0.80799,     0.80537,     0.79915,     0.79685,     0.79325,     0.78965,     0.78637,     0.78375,     0.78145,     0.78047,     0.77949,     0.77687,\n",
      "            0.77621,     0.77392,     0.77097,     0.76966,     0.76835,     0.76704,     0.76606,     0.76442,      0.7618,     0.76048,     0.75917,     0.75688,     0.75623,      0.7559,     0.75393,     0.75098,     0.74869,     0.74642,     0.74541,      0.7441,     0.74017,     0.73919,     0.73624,\n",
      "            0.73558,     0.73435,     0.73231,     0.73165,     0.72969,      0.7287,     0.72674,     0.72543,     0.72477,     0.72379,      0.7228,     0.72215,     0.72149,     0.72051,     0.71887,     0.71756,     0.71625,     0.71592,     0.71429,     0.71429,     0.71363,     0.71298,     0.71101,\n",
      "            0.70904,     0.70773,      0.7074,     0.70609,     0.70544,     0.70414,     0.70315,     0.70216,     0.70052,      0.7002,     0.69921,     0.69823,     0.69758,     0.69659,     0.69659,       0.695,     0.69364,     0.69201,     0.69201,     0.69102,     0.68972,     0.68938,     0.68807,\n",
      "            0.68709,     0.68611,     0.68545,     0.68414,     0.68316,     0.68218,     0.68087,     0.68087,     0.68054,     0.68021,     0.67988,      0.6789,     0.67759,     0.67726,     0.67677,     0.67595,     0.67562,     0.67431,     0.67398,     0.67267,     0.67202,     0.67005,      0.6694,\n",
      "            0.66874,     0.66776,      0.6671,     0.66612,     0.66579,     0.66579,     0.66514,     0.66416,     0.66415,     0.66284,     0.66213,     0.66088,     0.66088,     0.66045,     0.65948,     0.65858,     0.65727,     0.65662,     0.65662,     0.65596,     0.65498,     0.65433,     0.65329,\n",
      "            0.65236,      0.6517,     0.65007,     0.64974,     0.64941,     0.64875,     0.64875,     0.64744,     0.64693,     0.64646,     0.64646,     0.64581,     0.64548,     0.64515,      0.6445,     0.64385,     0.64318,     0.64286,     0.64253,     0.64122,     0.64089,     0.64024,     0.64024,\n",
      "            0.63991,     0.63893,     0.63893,     0.63794,     0.63732,     0.63696,     0.63607,     0.63532,     0.63499,     0.63499,     0.63434,     0.63401,     0.63336,     0.63336,     0.63303,     0.63237,     0.63172,     0.63106,     0.63073,     0.63008,     0.62917,     0.62844,     0.62746,\n",
      "             0.6268,     0.62647,     0.62554,     0.62549,     0.62484,     0.62451,      0.6232,     0.62254,     0.62217,     0.62123,      0.6209,      0.6209,      0.6209,     0.62025,     0.61992,     0.61992,     0.61959,     0.61927,     0.61894,     0.61894,     0.61861,      0.6173,      0.6173,\n",
      "            0.61664,     0.61566,     0.61565,     0.61468,     0.61337,     0.61271,     0.61239,     0.61239,     0.61206,     0.61107,     0.61107,     0.61042,     0.60962,     0.60911,     0.60911,     0.60813,     0.60748,     0.60649,     0.60631,     0.60616,     0.60518,     0.60419,     0.60354,\n",
      "            0.60321,     0.60321,     0.60246,     0.60196,     0.60157,     0.60125,     0.60099,     0.60092,     0.60059,     0.59993,     0.59895,      0.5983,     0.59763,     0.59699,     0.59666,       0.596,     0.59567,     0.59502,     0.59469,     0.59404,     0.59338,      0.5924,     0.59207,\n",
      "            0.59076,     0.59043,      0.5901,      0.5901,     0.58978,     0.58945,     0.58847,     0.58814,     0.58781,     0.58683,      0.5865,     0.58579,     0.58519,     0.58519,     0.58388,     0.58388,     0.58388,     0.58373,     0.58231,     0.58159,     0.58159,      0.5805,     0.58012,\n",
      "            0.57995,     0.57995,     0.57995,     0.57962,     0.57896,     0.57798,       0.577,     0.57646,     0.57602,     0.57566,     0.57438,     0.57438,     0.57339,     0.57283,     0.57208,     0.57165,     0.57061,     0.57012,     0.56946,     0.56868,     0.56815,     0.56815,     0.56798,\n",
      "            0.56717,     0.56717,     0.56693,     0.56595,     0.56586,     0.56553,     0.56502,     0.56488,     0.56448,     0.56422,     0.56405,     0.56389,     0.56356,     0.56258,     0.56166,     0.56127,     0.56096,     0.55963,     0.55891,     0.55865,     0.55825,     0.55803,     0.55767,\n",
      "            0.55749,     0.55636,      0.5557,      0.5557,     0.55505,     0.55472,     0.55439,     0.55439,     0.55374,     0.55308,     0.55201,     0.55144,     0.55144,     0.55084,     0.55013,     0.55013,      0.5495,     0.54893,     0.54849,     0.54849,     0.54784,     0.54751,     0.54685,\n",
      "            0.54684,     0.54596,     0.54522,     0.54522,     0.54522,     0.54456,      0.5441,     0.54391,     0.54391,     0.54292,      0.5419,     0.54096,     0.54063,     0.53978,     0.53932,      0.5389,     0.53834,     0.53768,      0.5373,      0.5367,      0.5367,     0.53604,     0.53514,\n",
      "            0.53342,     0.53277,     0.53216,     0.53211,     0.53131,     0.53086,     0.53014,     0.52883,     0.52828,     0.52818,     0.52746,     0.52729,      0.5272,     0.52668,     0.52654,     0.52621,     0.52518,     0.52457,     0.52392,     0.52392,     0.52392,     0.52348,     0.52261,\n",
      "            0.52249,     0.52228,     0.52228,     0.52163,     0.52097,     0.52097,     0.51995,     0.51868,     0.51803,      0.5172,     0.51606,     0.51573,     0.51573,     0.51561,     0.51507,     0.51442,     0.51442,     0.51442,     0.51409,     0.51404,     0.51376,      0.5134,     0.51311,\n",
      "            0.51311,     0.51311,     0.51288,     0.51206,     0.51067,     0.51018,     0.51007,     0.50983,     0.50852,     0.50786,     0.50786,     0.50754,      0.5073,     0.50645,      0.5059,     0.50548,     0.50524,     0.50491,     0.50491,     0.50434,      0.5038,      0.5036,      0.5036,\n",
      "            0.50284,     0.50197,     0.50131,      0.5012,     0.50033,     0.50013,     0.49956,     0.49868,     0.49837,     0.49771,     0.49694,     0.49605,     0.49574,     0.49541,     0.49541,     0.49461,     0.49443,     0.49413,     0.49377,     0.49377,     0.49355,     0.49334,     0.49303,\n",
      "            0.49279,     0.49181,      0.4914,     0.49081,     0.49017,     0.48977,     0.48842,     0.48797,     0.48755,     0.48722,     0.48673,     0.48595,     0.48558,     0.48515,      0.4843,     0.48362,     0.48316,     0.48188,       0.481,     0.48081,      0.4802,     0.47951,     0.47884,\n",
      "            0.47818,     0.47772,     0.47719,     0.47674,     0.47545,     0.47543,      0.4751,     0.47477,     0.47414,     0.47379,     0.47351,     0.47281,     0.47194,     0.47127,     0.47084,     0.46988,     0.46953,     0.46953,     0.46911,     0.46838,     0.46822,     0.46822,     0.46822,\n",
      "            0.46723,     0.46658,     0.46658,     0.46658,     0.46635,     0.46528,     0.46481,     0.46455,     0.46429,     0.46415,     0.46399,     0.46371,     0.46331,     0.46274,     0.46166,     0.46144,     0.46123,     0.46034,     0.46006,     0.45918,     0.45878,     0.45859,     0.45832,\n",
      "            0.45697,     0.45642,     0.45629,     0.45555,     0.45527,     0.45511,     0.45478,     0.45468,     0.45435,     0.45369,     0.45347,     0.45347,     0.45249,     0.45216,     0.45183,     0.45183,     0.45183,     0.45151,     0.45129,     0.45038,     0.44987,     0.44954,     0.44938,\n",
      "            0.44858,     0.44758,     0.44758,     0.44692,     0.44671,     0.44646,     0.44528,     0.44456,      0.4443,      0.4443,      0.4443,     0.44397,     0.44359,     0.44339,     0.44278,     0.44201,     0.44069,     0.43978,     0.43971,     0.43891,     0.43819,     0.43701,     0.43678,\n",
      "            0.43611,     0.43548,     0.43531,     0.43479,     0.43442,     0.43381,     0.43359,      0.4325,     0.43138,     0.43087,     0.43054,     0.43015,      0.4299,     0.42955,     0.42844,     0.42673,     0.42541,     0.42523,     0.42507,      0.4245,     0.42347,     0.42312,     0.42223,\n",
      "            0.42169,     0.42136,     0.42104,      0.4201,     0.41972,      0.4194,     0.41743,     0.41739,     0.41678,      0.4162,     0.41579,     0.41508,     0.41428,     0.41265,      0.4116,     0.41121,     0.41121,     0.41121,     0.41073,     0.40983,     0.40812,      0.4076,     0.40725,\n",
      "            0.40695,      0.4063,     0.40564,     0.40556,     0.40531,     0.40501,     0.40419,      0.4035,     0.40305,      0.4026,     0.40223,     0.40064,     0.40005,     0.39941,     0.39833,     0.39789,     0.39777,     0.39669,     0.39631,      0.3961,     0.39581,     0.39514,     0.39359,\n",
      "            0.39286,     0.39253,     0.39155,     0.39122,     0.38922,     0.38794,     0.38696,     0.38559,     0.38507,     0.38347,     0.38303,     0.38228,     0.38136,     0.38112,     0.38067,     0.38004,     0.37954,     0.37875,     0.37844,     0.37795,     0.37713,      0.3769,     0.37627,\n",
      "            0.37571,     0.37501,      0.3747,     0.37453,     0.37388,     0.37342,     0.37226,     0.37156,     0.37061,     0.36934,     0.36858,     0.36806,     0.36763,     0.36643,     0.36581,      0.3651,     0.36419,     0.36327,     0.36306,     0.36304,     0.36304,     0.36229,     0.36173,\n",
      "            0.36069,     0.36021,     0.35961,     0.35892,     0.35831,      0.3573,     0.35672,     0.35611,     0.35546,     0.35452,     0.35385,     0.35284,      0.3526,     0.35123,     0.35062,     0.35036,     0.34991,     0.34892,     0.34862,     0.34862,      0.3483,     0.34809,     0.34761,\n",
      "            0.34692,     0.34671,     0.34535,     0.34502,     0.34436,     0.34402,     0.34305,     0.34301,     0.34234,      0.3414,     0.34088,     0.33966,     0.33781,     0.33759,     0.33661,     0.33567,     0.33403,      0.3337,     0.33308,     0.33245,       0.332,      0.3313,     0.32961,\n",
      "             0.3285,     0.32746,     0.32629,     0.32611,     0.32578,     0.32339,     0.32318,     0.32252,     0.32162,     0.32082,     0.32046,      0.3199,     0.31918,     0.31758,      0.3161,     0.31547,     0.31489,     0.31422,     0.31376,     0.31358,     0.31192,     0.30988,     0.30946,\n",
      "            0.30781,     0.30747,     0.30645,     0.30453,     0.30351,     0.29983,     0.29961,      0.2987,     0.29806,      0.2973,     0.29622,     0.29587,     0.29419,     0.29269,     0.29199,     0.29005,     0.28866,     0.28764,     0.28656,     0.28565,     0.28483,     0.28312,     0.28231,\n",
      "            0.28107,      0.2808,        0.28,     0.27959,     0.27937,     0.27917,      0.2772,      0.2768,     0.27608,     0.27506,     0.27408,     0.27333,     0.27279,     0.27163,     0.27088,     0.27054,     0.27031,     0.26912,     0.26841,     0.26754,     0.26726,     0.26701,     0.26677,\n",
      "            0.26503,     0.26387,     0.26298,     0.26171,     0.26021,     0.25874,     0.25785,      0.2562,     0.25562,     0.25458,     0.25383,     0.25262,     0.25164,     0.25019,      0.2486,     0.24724,      0.2464,     0.24473,     0.24331,     0.24253,     0.24216,     0.24074,     0.23947,\n",
      "            0.23842,     0.23826,     0.23751,     0.23624,     0.23601,     0.23475,     0.23308,     0.23228,       0.232,      0.2317,     0.23035,      0.2281,     0.22724,     0.22654,      0.2261,     0.22519,     0.22377,     0.22217,     0.22089,     0.21986,     0.21819,     0.21793,     0.21679,\n",
      "            0.21634,     0.21537,     0.21491,     0.21461,     0.21367,     0.21221,     0.21101,        0.21,     0.20828,     0.20727,     0.20546,     0.20398,     0.20297,     0.20106,     0.19986,     0.19808,     0.19653,     0.19622,     0.19432,     0.19258,     0.19153,     0.18968,     0.18777,\n",
      "            0.18668,     0.18586,     0.18381,      0.1828,     0.18158,     0.18053,     0.17957,     0.17754,     0.17632,     0.17492,     0.17185,     0.17035,     0.16903,     0.16642,     0.16459,     0.16283,     0.16216,     0.16112,     0.15877,     0.15722,     0.15587,     0.15476,     0.15436,\n",
      "            0.15321,     0.15203,     0.14865,     0.14753,     0.14569,      0.1447,     0.14318,     0.14102,     0.13977,     0.13807,      0.1363,     0.13487,     0.13342,     0.13293,     0.13274,     0.13025,      0.1283,     0.12731,     0.12614,     0.12343,     0.12288,     0.12144,     0.12017,\n",
      "             0.1196,     0.11767,     0.11466,     0.11314,     0.11097,     0.10927,     0.10706,     0.10482,     0.10339,     0.10192,     0.10008,    0.098671,     0.09759,    0.096801,    0.094678,    0.094054,    0.092398,     0.09059,    0.089085,    0.088079,    0.086539,     0.08391,    0.082616,\n",
      "           0.081434,    0.080019,     0.07844,    0.077034,    0.076111,    0.072908,    0.071781,    0.069907,    0.068793,    0.066859,    0.065498,    0.064682,    0.063438,    0.061295,    0.058721,    0.057089,    0.054516,    0.052835,    0.051542,    0.049993,    0.048541,    0.047249,    0.045916,\n",
      "           0.043015,     0.04085,    0.037801,    0.035783,    0.032995,    0.031788,    0.029396,    0.028467,    0.026745,    0.023885,    0.021792,    0.020188,    0.016341,    0.014355,    0.012812,    0.009086,   0.0068791,   0.0053745,   0.0042245,   0.0016529,  0.00067915,           0,           0,\n",
      "                  0,           0,           0,           0,           0,           0,           0,           0,           0,           0,           0]]), 'Confidence', 'Recall'], [array([          0,    0.001001,    0.002002,    0.003003,    0.004004,    0.005005,    0.006006,    0.007007,    0.008008,    0.009009,     0.01001,    0.011011,    0.012012,    0.013013,    0.014014,    0.015015,    0.016016,    0.017017,    0.018018,    0.019019,     0.02002,    0.021021,    0.022022,    0.023023,\n",
      "          0.024024,    0.025025,    0.026026,    0.027027,    0.028028,    0.029029,     0.03003,    0.031031,    0.032032,    0.033033,    0.034034,    0.035035,    0.036036,    0.037037,    0.038038,    0.039039,     0.04004,    0.041041,    0.042042,    0.043043,    0.044044,    0.045045,    0.046046,    0.047047,\n",
      "          0.048048,    0.049049,     0.05005,    0.051051,    0.052052,    0.053053,    0.054054,    0.055055,    0.056056,    0.057057,    0.058058,    0.059059,     0.06006,    0.061061,    0.062062,    0.063063,    0.064064,    0.065065,    0.066066,    0.067067,    0.068068,    0.069069,     0.07007,    0.071071,\n",
      "          0.072072,    0.073073,    0.074074,    0.075075,    0.076076,    0.077077,    0.078078,    0.079079,     0.08008,    0.081081,    0.082082,    0.083083,    0.084084,    0.085085,    0.086086,    0.087087,    0.088088,    0.089089,     0.09009,    0.091091,    0.092092,    0.093093,    0.094094,    0.095095,\n",
      "          0.096096,    0.097097,    0.098098,    0.099099,      0.1001,      0.1011,      0.1021,      0.1031,      0.1041,     0.10511,     0.10611,     0.10711,     0.10811,     0.10911,     0.11011,     0.11111,     0.11211,     0.11311,     0.11411,     0.11512,     0.11612,     0.11712,     0.11812,     0.11912,\n",
      "           0.12012,     0.12112,     0.12212,     0.12312,     0.12412,     0.12513,     0.12613,     0.12713,     0.12813,     0.12913,     0.13013,     0.13113,     0.13213,     0.13313,     0.13413,     0.13514,     0.13614,     0.13714,     0.13814,     0.13914,     0.14014,     0.14114,     0.14214,     0.14314,\n",
      "           0.14414,     0.14515,     0.14615,     0.14715,     0.14815,     0.14915,     0.15015,     0.15115,     0.15215,     0.15315,     0.15415,     0.15516,     0.15616,     0.15716,     0.15816,     0.15916,     0.16016,     0.16116,     0.16216,     0.16316,     0.16416,     0.16517,     0.16617,     0.16717,\n",
      "           0.16817,     0.16917,     0.17017,     0.17117,     0.17217,     0.17317,     0.17417,     0.17518,     0.17618,     0.17718,     0.17818,     0.17918,     0.18018,     0.18118,     0.18218,     0.18318,     0.18418,     0.18519,     0.18619,     0.18719,     0.18819,     0.18919,     0.19019,     0.19119,\n",
      "           0.19219,     0.19319,     0.19419,      0.1952,      0.1962,      0.1972,      0.1982,      0.1992,      0.2002,      0.2012,      0.2022,      0.2032,      0.2042,     0.20521,     0.20621,     0.20721,     0.20821,     0.20921,     0.21021,     0.21121,     0.21221,     0.21321,     0.21421,     0.21522,\n",
      "           0.21622,     0.21722,     0.21822,     0.21922,     0.22022,     0.22122,     0.22222,     0.22322,     0.22422,     0.22523,     0.22623,     0.22723,     0.22823,     0.22923,     0.23023,     0.23123,     0.23223,     0.23323,     0.23423,     0.23524,     0.23624,     0.23724,     0.23824,     0.23924,\n",
      "           0.24024,     0.24124,     0.24224,     0.24324,     0.24424,     0.24525,     0.24625,     0.24725,     0.24825,     0.24925,     0.25025,     0.25125,     0.25225,     0.25325,     0.25425,     0.25526,     0.25626,     0.25726,     0.25826,     0.25926,     0.26026,     0.26126,     0.26226,     0.26326,\n",
      "           0.26426,     0.26527,     0.26627,     0.26727,     0.26827,     0.26927,     0.27027,     0.27127,     0.27227,     0.27327,     0.27427,     0.27528,     0.27628,     0.27728,     0.27828,     0.27928,     0.28028,     0.28128,     0.28228,     0.28328,     0.28428,     0.28529,     0.28629,     0.28729,\n",
      "           0.28829,     0.28929,     0.29029,     0.29129,     0.29229,     0.29329,     0.29429,      0.2953,      0.2963,      0.2973,      0.2983,      0.2993,      0.3003,      0.3013,      0.3023,      0.3033,      0.3043,     0.30531,     0.30631,     0.30731,     0.30831,     0.30931,     0.31031,     0.31131,\n",
      "           0.31231,     0.31331,     0.31431,     0.31532,     0.31632,     0.31732,     0.31832,     0.31932,     0.32032,     0.32132,     0.32232,     0.32332,     0.32432,     0.32533,     0.32633,     0.32733,     0.32833,     0.32933,     0.33033,     0.33133,     0.33233,     0.33333,     0.33433,     0.33534,\n",
      "           0.33634,     0.33734,     0.33834,     0.33934,     0.34034,     0.34134,     0.34234,     0.34334,     0.34434,     0.34535,     0.34635,     0.34735,     0.34835,     0.34935,     0.35035,     0.35135,     0.35235,     0.35335,     0.35435,     0.35536,     0.35636,     0.35736,     0.35836,     0.35936,\n",
      "           0.36036,     0.36136,     0.36236,     0.36336,     0.36436,     0.36537,     0.36637,     0.36737,     0.36837,     0.36937,     0.37037,     0.37137,     0.37237,     0.37337,     0.37437,     0.37538,     0.37638,     0.37738,     0.37838,     0.37938,     0.38038,     0.38138,     0.38238,     0.38338,\n",
      "           0.38438,     0.38539,     0.38639,     0.38739,     0.38839,     0.38939,     0.39039,     0.39139,     0.39239,     0.39339,     0.39439,      0.3954,      0.3964,      0.3974,      0.3984,      0.3994,      0.4004,      0.4014,      0.4024,      0.4034,      0.4044,     0.40541,     0.40641,     0.40741,\n",
      "           0.40841,     0.40941,     0.41041,     0.41141,     0.41241,     0.41341,     0.41441,     0.41542,     0.41642,     0.41742,     0.41842,     0.41942,     0.42042,     0.42142,     0.42242,     0.42342,     0.42442,     0.42543,     0.42643,     0.42743,     0.42843,     0.42943,     0.43043,     0.43143,\n",
      "           0.43243,     0.43343,     0.43443,     0.43544,     0.43644,     0.43744,     0.43844,     0.43944,     0.44044,     0.44144,     0.44244,     0.44344,     0.44444,     0.44545,     0.44645,     0.44745,     0.44845,     0.44945,     0.45045,     0.45145,     0.45245,     0.45345,     0.45445,     0.45546,\n",
      "           0.45646,     0.45746,     0.45846,     0.45946,     0.46046,     0.46146,     0.46246,     0.46346,     0.46446,     0.46547,     0.46647,     0.46747,     0.46847,     0.46947,     0.47047,     0.47147,     0.47247,     0.47347,     0.47447,     0.47548,     0.47648,     0.47748,     0.47848,     0.47948,\n",
      "           0.48048,     0.48148,     0.48248,     0.48348,     0.48448,     0.48549,     0.48649,     0.48749,     0.48849,     0.48949,     0.49049,     0.49149,     0.49249,     0.49349,     0.49449,      0.4955,      0.4965,      0.4975,      0.4985,      0.4995,      0.5005,      0.5015,      0.5025,      0.5035,\n",
      "            0.5045,     0.50551,     0.50651,     0.50751,     0.50851,     0.50951,     0.51051,     0.51151,     0.51251,     0.51351,     0.51451,     0.51552,     0.51652,     0.51752,     0.51852,     0.51952,     0.52052,     0.52152,     0.52252,     0.52352,     0.52452,     0.52553,     0.52653,     0.52753,\n",
      "           0.52853,     0.52953,     0.53053,     0.53153,     0.53253,     0.53353,     0.53453,     0.53554,     0.53654,     0.53754,     0.53854,     0.53954,     0.54054,     0.54154,     0.54254,     0.54354,     0.54454,     0.54555,     0.54655,     0.54755,     0.54855,     0.54955,     0.55055,     0.55155,\n",
      "           0.55255,     0.55355,     0.55455,     0.55556,     0.55656,     0.55756,     0.55856,     0.55956,     0.56056,     0.56156,     0.56256,     0.56356,     0.56456,     0.56557,     0.56657,     0.56757,     0.56857,     0.56957,     0.57057,     0.57157,     0.57257,     0.57357,     0.57457,     0.57558,\n",
      "           0.57658,     0.57758,     0.57858,     0.57958,     0.58058,     0.58158,     0.58258,     0.58358,     0.58458,     0.58559,     0.58659,     0.58759,     0.58859,     0.58959,     0.59059,     0.59159,     0.59259,     0.59359,     0.59459,      0.5956,      0.5966,      0.5976,      0.5986,      0.5996,\n",
      "            0.6006,      0.6016,      0.6026,      0.6036,      0.6046,     0.60561,     0.60661,     0.60761,     0.60861,     0.60961,     0.61061,     0.61161,     0.61261,     0.61361,     0.61461,     0.61562,     0.61662,     0.61762,     0.61862,     0.61962,     0.62062,     0.62162,     0.62262,     0.62362,\n",
      "           0.62462,     0.62563,     0.62663,     0.62763,     0.62863,     0.62963,     0.63063,     0.63163,     0.63263,     0.63363,     0.63463,     0.63564,     0.63664,     0.63764,     0.63864,     0.63964,     0.64064,     0.64164,     0.64264,     0.64364,     0.64464,     0.64565,     0.64665,     0.64765,\n",
      "           0.64865,     0.64965,     0.65065,     0.65165,     0.65265,     0.65365,     0.65465,     0.65566,     0.65666,     0.65766,     0.65866,     0.65966,     0.66066,     0.66166,     0.66266,     0.66366,     0.66466,     0.66567,     0.66667,     0.66767,     0.66867,     0.66967,     0.67067,     0.67167,\n",
      "           0.67267,     0.67367,     0.67467,     0.67568,     0.67668,     0.67768,     0.67868,     0.67968,     0.68068,     0.68168,     0.68268,     0.68368,     0.68468,     0.68569,     0.68669,     0.68769,     0.68869,     0.68969,     0.69069,     0.69169,     0.69269,     0.69369,     0.69469,      0.6957,\n",
      "            0.6967,      0.6977,      0.6987,      0.6997,      0.7007,      0.7017,      0.7027,      0.7037,      0.7047,     0.70571,     0.70671,     0.70771,     0.70871,     0.70971,     0.71071,     0.71171,     0.71271,     0.71371,     0.71471,     0.71572,     0.71672,     0.71772,     0.71872,     0.71972,\n",
      "           0.72072,     0.72172,     0.72272,     0.72372,     0.72472,     0.72573,     0.72673,     0.72773,     0.72873,     0.72973,     0.73073,     0.73173,     0.73273,     0.73373,     0.73473,     0.73574,     0.73674,     0.73774,     0.73874,     0.73974,     0.74074,     0.74174,     0.74274,     0.74374,\n",
      "           0.74474,     0.74575,     0.74675,     0.74775,     0.74875,     0.74975,     0.75075,     0.75175,     0.75275,     0.75375,     0.75475,     0.75576,     0.75676,     0.75776,     0.75876,     0.75976,     0.76076,     0.76176,     0.76276,     0.76376,     0.76476,     0.76577,     0.76677,     0.76777,\n",
      "           0.76877,     0.76977,     0.77077,     0.77177,     0.77277,     0.77377,     0.77477,     0.77578,     0.77678,     0.77778,     0.77878,     0.77978,     0.78078,     0.78178,     0.78278,     0.78378,     0.78478,     0.78579,     0.78679,     0.78779,     0.78879,     0.78979,     0.79079,     0.79179,\n",
      "           0.79279,     0.79379,     0.79479,      0.7958,      0.7968,      0.7978,      0.7988,      0.7998,      0.8008,      0.8018,      0.8028,      0.8038,      0.8048,     0.80581,     0.80681,     0.80781,     0.80881,     0.80981,     0.81081,     0.81181,     0.81281,     0.81381,     0.81481,     0.81582,\n",
      "           0.81682,     0.81782,     0.81882,     0.81982,     0.82082,     0.82182,     0.82282,     0.82382,     0.82482,     0.82583,     0.82683,     0.82783,     0.82883,     0.82983,     0.83083,     0.83183,     0.83283,     0.83383,     0.83483,     0.83584,     0.83684,     0.83784,     0.83884,     0.83984,\n",
      "           0.84084,     0.84184,     0.84284,     0.84384,     0.84484,     0.84585,     0.84685,     0.84785,     0.84885,     0.84985,     0.85085,     0.85185,     0.85285,     0.85385,     0.85485,     0.85586,     0.85686,     0.85786,     0.85886,     0.85986,     0.86086,     0.86186,     0.86286,     0.86386,\n",
      "           0.86486,     0.86587,     0.86687,     0.86787,     0.86887,     0.86987,     0.87087,     0.87187,     0.87287,     0.87387,     0.87487,     0.87588,     0.87688,     0.87788,     0.87888,     0.87988,     0.88088,     0.88188,     0.88288,     0.88388,     0.88488,     0.88589,     0.88689,     0.88789,\n",
      "           0.88889,     0.88989,     0.89089,     0.89189,     0.89289,     0.89389,     0.89489,      0.8959,      0.8969,      0.8979,      0.8989,      0.8999,      0.9009,      0.9019,      0.9029,      0.9039,      0.9049,     0.90591,     0.90691,     0.90791,     0.90891,     0.90991,     0.91091,     0.91191,\n",
      "           0.91291,     0.91391,     0.91491,     0.91592,     0.91692,     0.91792,     0.91892,     0.91992,     0.92092,     0.92192,     0.92292,     0.92392,     0.92492,     0.92593,     0.92693,     0.92793,     0.92893,     0.92993,     0.93093,     0.93193,     0.93293,     0.93393,     0.93493,     0.93594,\n",
      "           0.93694,     0.93794,     0.93894,     0.93994,     0.94094,     0.94194,     0.94294,     0.94394,     0.94494,     0.94595,     0.94695,     0.94795,     0.94895,     0.94995,     0.95095,     0.95195,     0.95295,     0.95395,     0.95495,     0.95596,     0.95696,     0.95796,     0.95896,     0.95996,\n",
      "           0.96096,     0.96196,     0.96296,     0.96396,     0.96496,     0.96597,     0.96697,     0.96797,     0.96897,     0.96997,     0.97097,     0.97197,     0.97297,     0.97397,     0.97497,     0.97598,     0.97698,     0.97798,     0.97898,     0.97998,     0.98098,     0.98198,     0.98298,     0.98398,\n",
      "           0.98498,     0.98599,     0.98699,     0.98799,     0.98899,     0.98999,     0.99099,     0.99199,     0.99299,     0.99399,     0.99499,       0.996,       0.997,       0.998,       0.999,           1]), array([[          1,           1,           1,           1,     0.93333,     0.89474,     0.85185,     0.85185,     0.82444,     0.82444,     0.82444,     0.82444,     0.82444,     0.82444,     0.82444,     0.82444,     0.82444,     0.82444,     0.82444,     0.82444,     0.82444,     0.82444,     0.82444,\n",
      "            0.82444,     0.82444,     0.82444,     0.82444,     0.82444,     0.82444,     0.82444,     0.82444,     0.82444,     0.82444,     0.82444,     0.82444,     0.82444,     0.82444,     0.82444,     0.82444,     0.82444,     0.82444,     0.82444,     0.82444,     0.82444,     0.82444,     0.82444,\n",
      "            0.82444,     0.82444,     0.82444,     0.82444,     0.82444,     0.82444,     0.82444,     0.82444,     0.82444,     0.82444,     0.82444,     0.82444,     0.82444,     0.82444,     0.82444,     0.82444,     0.82444,     0.82444,     0.82444,     0.82444,     0.82444,     0.82444,     0.82444,\n",
      "            0.82444,     0.82444,     0.82444,     0.82444,     0.82444,     0.82444,     0.82444,     0.82444,     0.82444,     0.82444,     0.82444,     0.82444,     0.82444,     0.82444,     0.82444,     0.82444,     0.82444,     0.82444,     0.82444,     0.82444,     0.82444,     0.82444,     0.82444,\n",
      "            0.82444,     0.82444,     0.82444,     0.82444,     0.82444,     0.82444,     0.82444,     0.82444,     0.82444,     0.82444,     0.82444,     0.82444,     0.82444,     0.82444,     0.82444,     0.82444,     0.82444,     0.82444,     0.82444,     0.82444,     0.82444,     0.82444,     0.82444,\n",
      "            0.82444,     0.82444,     0.82444,     0.82444,     0.82444,     0.82444,     0.82444,     0.82444,     0.82444,     0.82444,     0.82444,     0.82444,     0.82444,     0.82444,     0.82444,     0.82444,     0.82444,     0.82444,     0.82444,     0.82444,     0.82444,     0.82444,     0.82444,\n",
      "            0.82444,     0.82444,     0.82444,     0.82444,     0.82444,     0.82444,     0.82444,     0.82444,     0.82444,     0.82444,     0.82444,     0.82444,     0.82444,     0.82444,     0.82444,     0.82444,     0.82444,     0.82444,     0.82444,     0.82222,     0.82034,     0.81938,     0.81938,\n",
      "            0.81938,     0.81938,     0.81938,     0.81906,     0.81906,     0.81833,     0.81487,     0.81487,     0.81293,     0.81293,     0.81293,     0.81293,     0.81293,     0.81293,     0.81293,     0.81293,     0.81293,     0.81293,     0.81293,     0.81293,     0.81293,     0.81293,     0.81293,\n",
      "            0.81293,     0.81293,     0.81293,     0.81293,     0.81293,     0.81293,     0.81293,     0.81293,     0.81293,     0.81293,     0.81148,      0.8114,     0.81055,     0.81011,     0.81011,     0.81011,     0.81011,     0.81011,     0.81011,     0.81011,     0.81011,     0.81011,     0.81011,\n",
      "            0.81011,     0.81011,     0.81011,     0.81011,     0.81011,     0.81011,     0.81011,     0.81011,     0.81011,      0.8101,      0.8101,      0.8101,      0.8101,      0.8101,      0.8081,     0.80778,     0.80778,     0.80778,     0.80751,     0.80747,     0.80626,     0.80571,     0.80571,\n",
      "            0.80571,     0.80571,     0.80571,     0.80571,     0.80571,     0.80571,     0.80571,     0.80571,     0.80571,     0.80571,     0.80571,     0.80568,     0.80565,     0.80475,     0.80475,     0.80085,     0.80085,     0.80085,     0.80063,     0.79875,     0.79875,     0.79758,     0.79758,\n",
      "            0.79758,     0.79758,     0.79758,     0.79758,     0.79758,     0.79758,     0.79758,     0.79626,     0.79626,     0.79626,     0.79626,     0.79626,     0.79532,     0.79532,     0.79532,     0.79304,     0.79191,     0.79028,     0.79028,     0.79002,     0.79002,     0.79002,     0.78967,\n",
      "            0.78947,     0.78947,     0.78947,     0.78947,     0.78894,     0.78813,     0.78813,      0.7878,     0.78714,     0.78649,     0.78571,     0.78571,     0.78571,     0.78199,     0.78199,     0.78002,     0.77604,     0.77483,     0.77483,     0.77483,     0.77483,     0.77296,     0.77138,\n",
      "            0.77066,      0.7693,     0.76897,     0.76872,     0.76872,     0.76872,     0.76872,     0.76691,     0.76691,     0.76691,     0.76532,     0.76532,     0.76461,     0.76461,     0.76377,      0.7631,      0.7631,      0.7631,      0.7631,      0.7631,      0.7631,     0.76187,      0.7587,\n",
      "            0.75769,     0.75727,     0.75702,     0.75702,     0.75702,     0.75566,      0.7547,     0.75393,     0.75205,     0.75111,     0.75018,        0.75,        0.75,        0.75,        0.75,        0.75,        0.75,     0.74982,     0.74928,     0.74856,      0.7475,     0.74662,     0.74592,\n",
      "            0.74474,     0.74474,     0.74474,      0.7432,     0.74149,     0.74066,     0.73764,     0.73691,     0.73691,     0.73691,     0.73539,     0.73539,     0.73539,     0.73539,     0.73347,     0.73284,     0.73179,     0.73135,     0.73105,     0.73084,     0.73084,     0.72994,     0.72621,\n",
      "            0.72487,     0.72176,     0.72176,     0.72137,     0.72053,     0.71897,     0.71706,     0.71491,     0.71411,     0.71393,      0.7134,     0.71174,     0.71088,      0.7096,      0.7096,     0.70841,     0.70741,     0.70609,     0.70609,     0.70543,     0.70379,     0.70272,     0.70235,\n",
      "             0.7017,     0.69849,     0.69803,     0.69797,     0.69713,     0.69713,     0.69713,     0.69565,     0.69358,     0.69153,     0.69109,     0.68813,      0.6875,     0.68611,     0.68247,     0.68075,     0.68033,     0.67809,     0.67604,     0.67438,     0.67399,     0.67397,     0.67379,\n",
      "            0.67269,      0.6725,     0.67159,     0.67159,     0.66946,     0.66858,     0.66701,     0.66684,     0.66615,     0.66615,     0.66393,     0.65906,     0.65678,     0.65678,      0.6563,      0.6555,     0.65114,     0.64749,     0.64579,     0.64223,     0.64079,     0.64079,     0.63567,\n",
      "            0.63438,     0.63417,     0.63392,     0.63175,      0.6305,     0.62896,     0.62656,     0.62248,     0.61874,     0.61814,     0.61604,     0.61452,      0.6125,     0.60956,     0.60935,     0.60935,     0.60782,       0.604,     0.59905,       0.597,     0.59313,     0.59222,     0.58851,\n",
      "             0.5873,     0.58562,     0.58371,     0.57901,     0.57901,     0.57858,     0.57816,     0.57814,     0.57725,     0.57689,     0.56984,     0.56698,     0.56438,     0.56003,     0.55817,     0.55526,      0.5503,     0.54767,     0.54678,     0.54583,      0.5409,     0.53945,     0.53936,\n",
      "            0.53614,     0.53374,     0.53156,     0.52789,     0.52654,     0.52353,     0.52256,     0.52106,     0.51974,     0.51755,     0.51469,     0.51273,     0.51046,     0.50804,     0.50281,     0.50066,     0.49354,     0.49338,     0.49023,     0.48807,     0.48078,     0.48005,     0.47521,\n",
      "            0.47221,     0.46968,     0.46832,     0.46434,     0.46275,     0.45941,      0.4564,     0.45177,     0.45066,     0.44805,     0.44498,     0.44146,     0.43972,     0.43861,     0.43207,     0.43144,     0.43096,     0.42784,     0.42299,      0.4184,     0.41708,     0.41076,     0.40747,\n",
      "            0.40445,      0.4001,     0.39624,     0.39148,     0.39018,     0.38783,     0.38625,      0.3828,     0.38057,     0.37985,     0.37694,     0.37568,      0.3739,     0.37272,     0.36653,     0.36415,     0.35789,     0.35398,     0.34913,      0.3465,     0.34217,     0.33994,     0.33944,\n",
      "            0.33828,     0.33419,     0.33157,     0.32945,      0.3273,     0.32456,     0.32121,     0.32082,     0.31844,     0.31706,     0.31528,     0.31421,     0.30835,     0.30529,     0.30436,     0.30324,     0.29845,      0.2935,      0.2916,     0.28682,     0.28276,     0.28147,     0.27605,\n",
      "            0.27304,     0.26837,     0.26364,     0.26241,     0.25912,     0.25351,     0.24843,      0.2406,     0.23859,      0.2374,     0.23554,      0.2336,     0.23157,     0.22994,     0.22863,     0.22507,     0.22299,     0.22188,     0.22038,     0.21807,     0.21411,     0.20511,     0.20451,\n",
      "            0.20277,     0.19835,     0.19638,      0.1927,     0.18853,      0.1866,     0.18141,     0.17849,     0.17636,     0.17224,      0.1688,     0.16773,     0.16351,     0.16253,     0.16017,     0.15497,     0.15388,     0.15306,     0.15203,     0.15002,     0.14603,     0.14256,     0.13725,\n",
      "            0.13277,     0.13128,     0.12954,     0.12788,     0.12699,     0.12596,     0.12463,     0.12206,     0.11945,     0.11927,     0.11868,       0.116,     0.11109,     0.11045,      0.1087,     0.10691,     0.10137,    0.098351,     0.09701,     0.09654,    0.094977,    0.092147,    0.089849,\n",
      "           0.088685,    0.087151,    0.083648,    0.082651,    0.081666,    0.078666,    0.077925,     0.07715,    0.074744,    0.071344,    0.066337,     0.06445,    0.062034,    0.058732,    0.057676,    0.055036,    0.054738,    0.052562,    0.050631,    0.049725,    0.049115,    0.047313,    0.045971,\n",
      "           0.044347,    0.043102,    0.041117,    0.040831,     0.04041,    0.040097,     0.03815,    0.037004,     0.03586,    0.035022,    0.034046,    0.032709,    0.032116,    0.031675,    0.031085,    0.029665,    0.029086,    0.028787,    0.027143,    0.026698,    0.026339,    0.024798,    0.024558,\n",
      "           0.024268,     0.02363,     0.02333,      0.0224,    0.020615,    0.019488,    0.019393,    0.019329,    0.019265,    0.019201,    0.019137,    0.019073,    0.019009,    0.018945,    0.018881,    0.018817,    0.018753,    0.018689,    0.018625,    0.018561,    0.018497,    0.018433,    0.018369,\n",
      "           0.018305,    0.018241,    0.018177,    0.018113,    0.018049,    0.017985,    0.017921,    0.017857,    0.017793,    0.017728,    0.017664,      0.0176,    0.017536,    0.017472,    0.017408,    0.017344,     0.01728,    0.017216,    0.017152,    0.017088,    0.017024,     0.01696,    0.016896,\n",
      "           0.016832,    0.016768,    0.016704,     0.01664,    0.016576,    0.016512,    0.016448,    0.016384,     0.01632,    0.016256,    0.016192,    0.016128,    0.016064,       0.016,    0.015936,    0.015872,    0.015808,    0.015744,     0.01568,    0.015616,    0.015552,    0.015488,    0.015424,\n",
      "            0.01536,    0.015296,    0.015232,    0.015168,    0.015104,     0.01504,    0.014976,    0.014912,    0.014848,    0.014784,     0.01472,    0.014656,    0.014592,    0.014528,    0.014464,      0.0144,    0.014336,    0.014272,    0.014208,    0.014144,     0.01408,    0.014016,    0.013952,\n",
      "           0.013888,    0.013824,     0.01376,    0.013696,    0.013632,    0.013568,    0.013504,     0.01344,    0.013376,    0.013312,    0.013248,    0.013184,     0.01312,    0.013056,    0.012992,    0.012928,    0.012864,      0.0128,    0.012736,    0.012672,    0.012608,    0.012544,     0.01248,\n",
      "           0.012416,    0.012352,    0.012288,    0.012224,     0.01216,    0.012096,    0.012032,    0.011968,    0.011904,     0.01184,    0.011776,    0.011712,    0.011648,    0.011584,     0.01152,    0.011456,    0.011392,    0.011328,    0.011264,      0.0112,    0.011136,    0.011072,    0.011008,\n",
      "           0.010944,     0.01088,    0.010816,    0.010752,    0.010688,    0.010624,     0.01056,    0.010496,    0.010432,    0.010368,    0.010304,     0.01024,    0.010176,    0.010112,    0.010048,   0.0099843,   0.0099203,   0.0098563,   0.0097923,   0.0097283,   0.0096643,   0.0096003,   0.0095363,\n",
      "          0.0094723,   0.0094083,   0.0093443,   0.0092803,   0.0092163,   0.0091523,   0.0090883,   0.0090243,   0.0089603,   0.0088963,   0.0088322,   0.0087682,   0.0087042,   0.0086402,   0.0085762,   0.0085122,   0.0084482,   0.0083842,   0.0083202,   0.0082562,   0.0081922,   0.0081282,   0.0080642,\n",
      "          0.0080002,   0.0079362,   0.0078722,   0.0078082,   0.0077442,   0.0076802,   0.0076162,   0.0075522,   0.0074882,   0.0074242,   0.0073602,   0.0072962,   0.0072322,   0.0071682,   0.0071042,   0.0070402,   0.0069762,   0.0069122,   0.0068482,   0.0067842,   0.0067202,   0.0066562,   0.0065922,\n",
      "          0.0065282,   0.0064642,   0.0064002,   0.0063362,   0.0062722,   0.0062082,   0.0061442,   0.0060802,   0.0060162,   0.0059522,   0.0058882,   0.0058242,   0.0057602,   0.0056962,   0.0056322,   0.0055682,   0.0055042,   0.0054402,   0.0053762,   0.0053121,   0.0052481,   0.0051841,   0.0051201,\n",
      "          0.0050561,   0.0049921,   0.0049281,   0.0048641,   0.0048001,   0.0047361,   0.0046721,   0.0046081,   0.0045441,   0.0044801,   0.0044161,   0.0043521,   0.0042881,   0.0042241,   0.0041601,   0.0040961,   0.0040321,   0.0039681,   0.0039041,   0.0038401,   0.0037761,   0.0037121,   0.0036481,\n",
      "          0.0035841,   0.0035201,   0.0034561,   0.0033921,   0.0033281,   0.0032641,   0.0032001,   0.0031361,   0.0030721,   0.0030081,   0.0029441,   0.0028801,   0.0028161,   0.0027521,   0.0026881,   0.0026241,   0.0025601,   0.0024961,   0.0024321,   0.0023681,   0.0023041,   0.0022401,   0.0021761,\n",
      "          0.0021121,   0.0020481,   0.0019841,   0.0019201,   0.0018561,   0.0017921,    0.001728,    0.001664,      0.0016,    0.001536,    0.001472,    0.001408,    0.001344,     0.00128,    0.001216,    0.001152,    0.001088,    0.001024,  0.00096003,  0.00089603,  0.00083202,  0.00076802,  0.00070402,\n",
      "         0.00064002,  0.00057602,  0.00051201,  0.00044801,  0.00038401,  0.00032001,  0.00025601,  0.00019201,    0.000128,  6.4002e-05,           0]]), 'Recall', 'Precision'], [array([          0,    0.001001,    0.002002,    0.003003,    0.004004,    0.005005,    0.006006,    0.007007,    0.008008,    0.009009,     0.01001,    0.011011,    0.012012,    0.013013,    0.014014,    0.015015,    0.016016,    0.017017,    0.018018,    0.019019,     0.02002,    0.021021,    0.022022,    0.023023,\n",
      "          0.024024,    0.025025,    0.026026,    0.027027,    0.028028,    0.029029,     0.03003,    0.031031,    0.032032,    0.033033,    0.034034,    0.035035,    0.036036,    0.037037,    0.038038,    0.039039,     0.04004,    0.041041,    0.042042,    0.043043,    0.044044,    0.045045,    0.046046,    0.047047,\n",
      "          0.048048,    0.049049,     0.05005,    0.051051,    0.052052,    0.053053,    0.054054,    0.055055,    0.056056,    0.057057,    0.058058,    0.059059,     0.06006,    0.061061,    0.062062,    0.063063,    0.064064,    0.065065,    0.066066,    0.067067,    0.068068,    0.069069,     0.07007,    0.071071,\n",
      "          0.072072,    0.073073,    0.074074,    0.075075,    0.076076,    0.077077,    0.078078,    0.079079,     0.08008,    0.081081,    0.082082,    0.083083,    0.084084,    0.085085,    0.086086,    0.087087,    0.088088,    0.089089,     0.09009,    0.091091,    0.092092,    0.093093,    0.094094,    0.095095,\n",
      "          0.096096,    0.097097,    0.098098,    0.099099,      0.1001,      0.1011,      0.1021,      0.1031,      0.1041,     0.10511,     0.10611,     0.10711,     0.10811,     0.10911,     0.11011,     0.11111,     0.11211,     0.11311,     0.11411,     0.11512,     0.11612,     0.11712,     0.11812,     0.11912,\n",
      "           0.12012,     0.12112,     0.12212,     0.12312,     0.12412,     0.12513,     0.12613,     0.12713,     0.12813,     0.12913,     0.13013,     0.13113,     0.13213,     0.13313,     0.13413,     0.13514,     0.13614,     0.13714,     0.13814,     0.13914,     0.14014,     0.14114,     0.14214,     0.14314,\n",
      "           0.14414,     0.14515,     0.14615,     0.14715,     0.14815,     0.14915,     0.15015,     0.15115,     0.15215,     0.15315,     0.15415,     0.15516,     0.15616,     0.15716,     0.15816,     0.15916,     0.16016,     0.16116,     0.16216,     0.16316,     0.16416,     0.16517,     0.16617,     0.16717,\n",
      "           0.16817,     0.16917,     0.17017,     0.17117,     0.17217,     0.17317,     0.17417,     0.17518,     0.17618,     0.17718,     0.17818,     0.17918,     0.18018,     0.18118,     0.18218,     0.18318,     0.18418,     0.18519,     0.18619,     0.18719,     0.18819,     0.18919,     0.19019,     0.19119,\n",
      "           0.19219,     0.19319,     0.19419,      0.1952,      0.1962,      0.1972,      0.1982,      0.1992,      0.2002,      0.2012,      0.2022,      0.2032,      0.2042,     0.20521,     0.20621,     0.20721,     0.20821,     0.20921,     0.21021,     0.21121,     0.21221,     0.21321,     0.21421,     0.21522,\n",
      "           0.21622,     0.21722,     0.21822,     0.21922,     0.22022,     0.22122,     0.22222,     0.22322,     0.22422,     0.22523,     0.22623,     0.22723,     0.22823,     0.22923,     0.23023,     0.23123,     0.23223,     0.23323,     0.23423,     0.23524,     0.23624,     0.23724,     0.23824,     0.23924,\n",
      "           0.24024,     0.24124,     0.24224,     0.24324,     0.24424,     0.24525,     0.24625,     0.24725,     0.24825,     0.24925,     0.25025,     0.25125,     0.25225,     0.25325,     0.25425,     0.25526,     0.25626,     0.25726,     0.25826,     0.25926,     0.26026,     0.26126,     0.26226,     0.26326,\n",
      "           0.26426,     0.26527,     0.26627,     0.26727,     0.26827,     0.26927,     0.27027,     0.27127,     0.27227,     0.27327,     0.27427,     0.27528,     0.27628,     0.27728,     0.27828,     0.27928,     0.28028,     0.28128,     0.28228,     0.28328,     0.28428,     0.28529,     0.28629,     0.28729,\n",
      "           0.28829,     0.28929,     0.29029,     0.29129,     0.29229,     0.29329,     0.29429,      0.2953,      0.2963,      0.2973,      0.2983,      0.2993,      0.3003,      0.3013,      0.3023,      0.3033,      0.3043,     0.30531,     0.30631,     0.30731,     0.30831,     0.30931,     0.31031,     0.31131,\n",
      "           0.31231,     0.31331,     0.31431,     0.31532,     0.31632,     0.31732,     0.31832,     0.31932,     0.32032,     0.32132,     0.32232,     0.32332,     0.32432,     0.32533,     0.32633,     0.32733,     0.32833,     0.32933,     0.33033,     0.33133,     0.33233,     0.33333,     0.33433,     0.33534,\n",
      "           0.33634,     0.33734,     0.33834,     0.33934,     0.34034,     0.34134,     0.34234,     0.34334,     0.34434,     0.34535,     0.34635,     0.34735,     0.34835,     0.34935,     0.35035,     0.35135,     0.35235,     0.35335,     0.35435,     0.35536,     0.35636,     0.35736,     0.35836,     0.35936,\n",
      "           0.36036,     0.36136,     0.36236,     0.36336,     0.36436,     0.36537,     0.36637,     0.36737,     0.36837,     0.36937,     0.37037,     0.37137,     0.37237,     0.37337,     0.37437,     0.37538,     0.37638,     0.37738,     0.37838,     0.37938,     0.38038,     0.38138,     0.38238,     0.38338,\n",
      "           0.38438,     0.38539,     0.38639,     0.38739,     0.38839,     0.38939,     0.39039,     0.39139,     0.39239,     0.39339,     0.39439,      0.3954,      0.3964,      0.3974,      0.3984,      0.3994,      0.4004,      0.4014,      0.4024,      0.4034,      0.4044,     0.40541,     0.40641,     0.40741,\n",
      "           0.40841,     0.40941,     0.41041,     0.41141,     0.41241,     0.41341,     0.41441,     0.41542,     0.41642,     0.41742,     0.41842,     0.41942,     0.42042,     0.42142,     0.42242,     0.42342,     0.42442,     0.42543,     0.42643,     0.42743,     0.42843,     0.42943,     0.43043,     0.43143,\n",
      "           0.43243,     0.43343,     0.43443,     0.43544,     0.43644,     0.43744,     0.43844,     0.43944,     0.44044,     0.44144,     0.44244,     0.44344,     0.44444,     0.44545,     0.44645,     0.44745,     0.44845,     0.44945,     0.45045,     0.45145,     0.45245,     0.45345,     0.45445,     0.45546,\n",
      "           0.45646,     0.45746,     0.45846,     0.45946,     0.46046,     0.46146,     0.46246,     0.46346,     0.46446,     0.46547,     0.46647,     0.46747,     0.46847,     0.46947,     0.47047,     0.47147,     0.47247,     0.47347,     0.47447,     0.47548,     0.47648,     0.47748,     0.47848,     0.47948,\n",
      "           0.48048,     0.48148,     0.48248,     0.48348,     0.48448,     0.48549,     0.48649,     0.48749,     0.48849,     0.48949,     0.49049,     0.49149,     0.49249,     0.49349,     0.49449,      0.4955,      0.4965,      0.4975,      0.4985,      0.4995,      0.5005,      0.5015,      0.5025,      0.5035,\n",
      "            0.5045,     0.50551,     0.50651,     0.50751,     0.50851,     0.50951,     0.51051,     0.51151,     0.51251,     0.51351,     0.51451,     0.51552,     0.51652,     0.51752,     0.51852,     0.51952,     0.52052,     0.52152,     0.52252,     0.52352,     0.52452,     0.52553,     0.52653,     0.52753,\n",
      "           0.52853,     0.52953,     0.53053,     0.53153,     0.53253,     0.53353,     0.53453,     0.53554,     0.53654,     0.53754,     0.53854,     0.53954,     0.54054,     0.54154,     0.54254,     0.54354,     0.54454,     0.54555,     0.54655,     0.54755,     0.54855,     0.54955,     0.55055,     0.55155,\n",
      "           0.55255,     0.55355,     0.55455,     0.55556,     0.55656,     0.55756,     0.55856,     0.55956,     0.56056,     0.56156,     0.56256,     0.56356,     0.56456,     0.56557,     0.56657,     0.56757,     0.56857,     0.56957,     0.57057,     0.57157,     0.57257,     0.57357,     0.57457,     0.57558,\n",
      "           0.57658,     0.57758,     0.57858,     0.57958,     0.58058,     0.58158,     0.58258,     0.58358,     0.58458,     0.58559,     0.58659,     0.58759,     0.58859,     0.58959,     0.59059,     0.59159,     0.59259,     0.59359,     0.59459,      0.5956,      0.5966,      0.5976,      0.5986,      0.5996,\n",
      "            0.6006,      0.6016,      0.6026,      0.6036,      0.6046,     0.60561,     0.60661,     0.60761,     0.60861,     0.60961,     0.61061,     0.61161,     0.61261,     0.61361,     0.61461,     0.61562,     0.61662,     0.61762,     0.61862,     0.61962,     0.62062,     0.62162,     0.62262,     0.62362,\n",
      "           0.62462,     0.62563,     0.62663,     0.62763,     0.62863,     0.62963,     0.63063,     0.63163,     0.63263,     0.63363,     0.63463,     0.63564,     0.63664,     0.63764,     0.63864,     0.63964,     0.64064,     0.64164,     0.64264,     0.64364,     0.64464,     0.64565,     0.64665,     0.64765,\n",
      "           0.64865,     0.64965,     0.65065,     0.65165,     0.65265,     0.65365,     0.65465,     0.65566,     0.65666,     0.65766,     0.65866,     0.65966,     0.66066,     0.66166,     0.66266,     0.66366,     0.66466,     0.66567,     0.66667,     0.66767,     0.66867,     0.66967,     0.67067,     0.67167,\n",
      "           0.67267,     0.67367,     0.67467,     0.67568,     0.67668,     0.67768,     0.67868,     0.67968,     0.68068,     0.68168,     0.68268,     0.68368,     0.68468,     0.68569,     0.68669,     0.68769,     0.68869,     0.68969,     0.69069,     0.69169,     0.69269,     0.69369,     0.69469,      0.6957,\n",
      "            0.6967,      0.6977,      0.6987,      0.6997,      0.7007,      0.7017,      0.7027,      0.7037,      0.7047,     0.70571,     0.70671,     0.70771,     0.70871,     0.70971,     0.71071,     0.71171,     0.71271,     0.71371,     0.71471,     0.71572,     0.71672,     0.71772,     0.71872,     0.71972,\n",
      "           0.72072,     0.72172,     0.72272,     0.72372,     0.72472,     0.72573,     0.72673,     0.72773,     0.72873,     0.72973,     0.73073,     0.73173,     0.73273,     0.73373,     0.73473,     0.73574,     0.73674,     0.73774,     0.73874,     0.73974,     0.74074,     0.74174,     0.74274,     0.74374,\n",
      "           0.74474,     0.74575,     0.74675,     0.74775,     0.74875,     0.74975,     0.75075,     0.75175,     0.75275,     0.75375,     0.75475,     0.75576,     0.75676,     0.75776,     0.75876,     0.75976,     0.76076,     0.76176,     0.76276,     0.76376,     0.76476,     0.76577,     0.76677,     0.76777,\n",
      "           0.76877,     0.76977,     0.77077,     0.77177,     0.77277,     0.77377,     0.77477,     0.77578,     0.77678,     0.77778,     0.77878,     0.77978,     0.78078,     0.78178,     0.78278,     0.78378,     0.78478,     0.78579,     0.78679,     0.78779,     0.78879,     0.78979,     0.79079,     0.79179,\n",
      "           0.79279,     0.79379,     0.79479,      0.7958,      0.7968,      0.7978,      0.7988,      0.7998,      0.8008,      0.8018,      0.8028,      0.8038,      0.8048,     0.80581,     0.80681,     0.80781,     0.80881,     0.80981,     0.81081,     0.81181,     0.81281,     0.81381,     0.81481,     0.81582,\n",
      "           0.81682,     0.81782,     0.81882,     0.81982,     0.82082,     0.82182,     0.82282,     0.82382,     0.82482,     0.82583,     0.82683,     0.82783,     0.82883,     0.82983,     0.83083,     0.83183,     0.83283,     0.83383,     0.83483,     0.83584,     0.83684,     0.83784,     0.83884,     0.83984,\n",
      "           0.84084,     0.84184,     0.84284,     0.84384,     0.84484,     0.84585,     0.84685,     0.84785,     0.84885,     0.84985,     0.85085,     0.85185,     0.85285,     0.85385,     0.85485,     0.85586,     0.85686,     0.85786,     0.85886,     0.85986,     0.86086,     0.86186,     0.86286,     0.86386,\n",
      "           0.86486,     0.86587,     0.86687,     0.86787,     0.86887,     0.86987,     0.87087,     0.87187,     0.87287,     0.87387,     0.87487,     0.87588,     0.87688,     0.87788,     0.87888,     0.87988,     0.88088,     0.88188,     0.88288,     0.88388,     0.88488,     0.88589,     0.88689,     0.88789,\n",
      "           0.88889,     0.88989,     0.89089,     0.89189,     0.89289,     0.89389,     0.89489,      0.8959,      0.8969,      0.8979,      0.8989,      0.8999,      0.9009,      0.9019,      0.9029,      0.9039,      0.9049,     0.90591,     0.90691,     0.90791,     0.90891,     0.90991,     0.91091,     0.91191,\n",
      "           0.91291,     0.91391,     0.91491,     0.91592,     0.91692,     0.91792,     0.91892,     0.91992,     0.92092,     0.92192,     0.92292,     0.92392,     0.92492,     0.92593,     0.92693,     0.92793,     0.92893,     0.92993,     0.93093,     0.93193,     0.93293,     0.93393,     0.93493,     0.93594,\n",
      "           0.93694,     0.93794,     0.93894,     0.93994,     0.94094,     0.94194,     0.94294,     0.94394,     0.94494,     0.94595,     0.94695,     0.94795,     0.94895,     0.94995,     0.95095,     0.95195,     0.95295,     0.95395,     0.95495,     0.95596,     0.95696,     0.95796,     0.95896,     0.95996,\n",
      "           0.96096,     0.96196,     0.96296,     0.96396,     0.96496,     0.96597,     0.96697,     0.96797,     0.96897,     0.96997,     0.97097,     0.97197,     0.97297,     0.97397,     0.97497,     0.97598,     0.97698,     0.97798,     0.97898,     0.97998,     0.98098,     0.98198,     0.98298,     0.98398,\n",
      "           0.98498,     0.98599,     0.98699,     0.98799,     0.98899,     0.98999,     0.99099,     0.99199,     0.99299,     0.99399,     0.99499,       0.996,       0.997,       0.998,       0.999,           1]), array([[   0.037826,    0.037851,    0.057144,    0.073843,    0.089207,     0.10326,     0.11663,     0.12959,     0.14118,     0.15187,     0.16221,     0.17176,     0.18181,     0.19002,     0.19824,     0.20555,     0.21239,     0.21917,     0.22598,     0.23226,     0.23859,       0.245,     0.25023,\n",
      "            0.25605,     0.26057,     0.26571,     0.27119,     0.27595,     0.28059,      0.2856,     0.28949,     0.29483,     0.29899,     0.30301,     0.30659,     0.31098,     0.31517,     0.31907,     0.32216,      0.3252,     0.32796,     0.33063,     0.33347,     0.33561,     0.33767,     0.34041,\n",
      "            0.34337,     0.34623,     0.34919,     0.35191,     0.35482,     0.35801,     0.36089,     0.36285,     0.36574,     0.36805,     0.37044,     0.37295,     0.37609,     0.37853,      0.3806,     0.38289,     0.38565,     0.38728,     0.38919,     0.39127,     0.39319,     0.39527,     0.39622,\n",
      "            0.39877,     0.40015,     0.40245,     0.40352,     0.40492,     0.40599,      0.4076,     0.40862,     0.41014,     0.41093,     0.41241,      0.4144,     0.41578,     0.41731,     0.41921,     0.42009,     0.42116,     0.42202,     0.42387,     0.42492,     0.42631,     0.42809,     0.42968,\n",
      "            0.43076,     0.43205,     0.43328,     0.43418,     0.43572,     0.43665,     0.43803,     0.43931,     0.43996,     0.44148,     0.44213,      0.4432,     0.44353,     0.44471,      0.4455,     0.44582,     0.44703,     0.44807,     0.44867,     0.44921,     0.45024,     0.45068,     0.45112,\n",
      "            0.45217,     0.45382,     0.45495,     0.45611,     0.45677,     0.45739,     0.45808,     0.45851,      0.4599,     0.46022,     0.46076,     0.46195,     0.46276,     0.46413,     0.46469,     0.46534,     0.46556,     0.46671,     0.46803,     0.46862,     0.46986,     0.47062,     0.47159,\n",
      "            0.47201,     0.47215,     0.47215,     0.47302,     0.47341,     0.47435,     0.47526,     0.47546,     0.47566,     0.47625,     0.47652,     0.47707,     0.47754,     0.47836,     0.47845,     0.47936,     0.47954,     0.48051,      0.4807,     0.48068,     0.48127,     0.48188,     0.48287,\n",
      "             0.4827,     0.48341,     0.48403,     0.48412,     0.48522,     0.48541,     0.48585,     0.48559,     0.48641,     0.48734,     0.48759,     0.48767,     0.48774,     0.48852,     0.48861,      0.4893,     0.48967,     0.48996,     0.49022,     0.49074,     0.49136,     0.49155,     0.49178,\n",
      "            0.49219,     0.49285,     0.49339,      0.4943,     0.49523,     0.49584,      0.4959,     0.49653,     0.49687,     0.49705,     0.49755,     0.49865,     0.49893,     0.49947,     0.50026,     0.50003,     0.50036,     0.50107,     0.50126,     0.50185,     0.50216,       0.502,     0.50224,\n",
      "            0.50282,     0.50275,     0.50308,     0.50338,     0.50336,     0.50354,     0.50416,     0.50464,     0.50482,     0.50484,     0.50538,     0.50523,     0.50461,     0.50472,     0.50525,     0.50538,     0.50525,     0.50504,     0.50528,     0.50594,     0.50609,     0.50613,      0.5065,\n",
      "             0.5068,     0.50738,     0.50722,     0.50786,     0.50797,     0.50812,     0.50797,     0.50845,     0.50853,     0.50931,     0.50933,     0.50902,     0.50849,     0.50872,     0.50915,     0.50917,     0.50984,      0.5107,     0.51032,     0.51048,     0.51046,     0.51019,     0.51061,\n",
      "            0.51057,      0.5117,     0.51182,     0.51222,     0.51225,     0.51294,     0.51287,     0.51302,     0.51324,     0.51305,     0.51343,     0.51356,      0.5139,     0.51415,      0.5141,     0.51419,     0.51465,      0.5149,     0.51512,      0.5151,     0.51539,     0.51554,     0.51578,\n",
      "            0.51618,     0.51663,     0.51701,     0.51703,     0.51759,     0.51744,     0.51723,     0.51658,     0.51619,     0.51604,     0.51554,     0.51551,     0.51487,     0.51481,      0.5154,      0.5162,     0.51604,     0.51576,     0.51598,     0.51593,     0.51563,     0.51594,      0.5162,\n",
      "            0.51574,     0.51596,     0.51616,       0.516,     0.51617,     0.51656,     0.51694,     0.51683,     0.51686,      0.5166,     0.51689,     0.51694,     0.51682,     0.51746,     0.51754,     0.51785,     0.51803,     0.51751,     0.51753,      0.5177,     0.51811,     0.51818,     0.51846,\n",
      "            0.51845,     0.51849,     0.51865,     0.51911,     0.51934,      0.5195,     0.51942,     0.51953,     0.51907,      0.5186,     0.51819,       0.518,     0.51816,     0.51847,     0.51807,      0.5185,     0.51843,     0.51884,     0.51832,     0.51861,      0.5183,     0.51838,     0.51838,\n",
      "            0.51853,     0.51797,     0.51801,      0.5182,      0.5183,      0.5182,      0.5184,     0.51845,     0.51873,     0.51895,     0.51859,     0.51934,     0.51936,     0.51945,     0.51909,     0.51938,     0.51896,     0.51911,     0.51885,     0.51891,     0.51924,     0.51877,      0.5178,\n",
      "            0.51767,     0.51772,     0.51767,     0.51803,     0.51886,     0.51847,     0.51847,     0.51753,     0.51756,     0.51769,     0.51755,      0.5174,     0.51746,     0.51739,     0.51759,     0.51765,     0.51782,     0.51745,     0.51783,     0.51762,     0.51773,     0.51791,     0.51783,\n",
      "            0.51828,      0.5181,     0.51832,     0.51834,     0.51858,     0.51877,     0.51891,     0.51837,     0.51834,     0.51771,     0.51672,      0.5167,     0.51693,     0.51689,     0.51697,     0.51711,     0.51746,     0.51758,      0.5181,     0.51832,     0.51817,     0.51789,     0.51786,\n",
      "            0.51787,     0.51832,     0.51791,     0.51728,     0.51681,     0.51647,     0.51658,     0.51623,     0.51563,     0.51563,     0.51568,     0.51545,     0.51529,     0.51512,     0.51479,     0.51466,     0.51448,     0.51468,     0.51482,     0.51432,     0.51383,     0.51398,     0.51381,\n",
      "             0.5131,     0.51265,      0.5124,     0.51239,     0.51169,      0.5115,     0.51111,     0.51078,     0.51049,     0.51013,     0.50999,     0.50988,     0.50966,      0.5094,     0.50971,     0.50947,      0.5095,     0.50982,     0.50994,        0.51,     0.50982,     0.50915,     0.50925,\n",
      "            0.50908,     0.50861,     0.50876,     0.50874,      0.5091,     0.50879,     0.50896,     0.50875,     0.50866,     0.50845,     0.50842,     0.50779,     0.50822,     0.50811,     0.50807,     0.50752,     0.50724,     0.50699,     0.50695,     0.50699,      0.5066,      0.5068,     0.50683,\n",
      "            0.50662,     0.50655,     0.50607,     0.50615,     0.50504,      0.5051,     0.50429,     0.50453,     0.50407,      0.5036,      0.5033,     0.50252,     0.50221,     0.50196,     0.50232,     0.50223,     0.50177,     0.50163,     0.50128,      0.5011,     0.50102,     0.50119,     0.50124,\n",
      "            0.50041,     0.49998,     0.50015,     0.50024,     0.50009,     0.49927,     0.49892,     0.49877,     0.49879,      0.4987,     0.49855,      0.4986,     0.49831,     0.49816,     0.49768,     0.49755,     0.49755,     0.49722,     0.49695,     0.49609,      0.4958,     0.49588,     0.49609,\n",
      "            0.49488,      0.4949,     0.49485,     0.49441,     0.49428,     0.49452,     0.49396,     0.49403,     0.49401,     0.49335,     0.49316,     0.49322,     0.49239,     0.49217,     0.49229,     0.49217,     0.49223,     0.49194,     0.49211,     0.49176,     0.49199,     0.49185,     0.49176,\n",
      "            0.49096,     0.49095,     0.49102,     0.49064,      0.4905,     0.49035,     0.48961,     0.48899,     0.48863,     0.48874,     0.48881,     0.48861,     0.48841,     0.48847,     0.48849,      0.4879,     0.48846,     0.48796,     0.48798,     0.48774,     0.48746,      0.4867,     0.48646,\n",
      "            0.48599,     0.48536,      0.4853,     0.48521,     0.48484,     0.48428,      0.4844,      0.4835,     0.48314,     0.48293,     0.48269,     0.48235,     0.48209,     0.48186,     0.48131,     0.47983,     0.47876,     0.47903,     0.47908,     0.47919,     0.47838,     0.47821,     0.47729,\n",
      "             0.4765,     0.47621,     0.47643,     0.47574,     0.47587,     0.47614,     0.47507,     0.47513,     0.47475,     0.47432,     0.47444,     0.47392,     0.47308,     0.47228,     0.47118,     0.47102,     0.47108,     0.47116,      0.4709,     0.47065,     0.46975,     0.46954,     0.46916,\n",
      "             0.4689,     0.46827,     0.46779,     0.46781,     0.46758,     0.46733,     0.46622,     0.46549,     0.46501,     0.46464,     0.46425,     0.46302,      0.4624,     0.46172,     0.46123,     0.46076,     0.46082,     0.46024,     0.45984,     0.45931,     0.45957,     0.45913,       0.458,\n",
      "            0.45768,     0.45769,     0.45685,     0.45663,      0.4546,     0.45385,      0.4529,     0.45189,     0.45153,     0.45101,     0.45134,     0.45078,     0.45067,     0.45041,     0.44992,     0.44923,     0.44868,     0.44782,     0.44754,     0.44727,     0.44662,     0.44646,     0.44576,\n",
      "             0.4453,     0.44506,     0.44516,     0.44521,     0.44452,     0.44401,     0.44304,     0.44245,     0.44153,     0.44048,     0.44031,     0.44005,     0.43979,     0.43849,      0.4379,     0.43775,     0.43686,     0.43583,      0.4356,     0.43487,     0.43467,     0.43387,     0.43365,\n",
      "            0.43261,     0.43237,     0.43208,     0.43156,     0.43117,     0.43028,     0.43009,      0.4298,     0.42957,     0.42901,     0.42852,     0.42737,      0.4271,     0.42556,     0.42532,     0.42502,     0.42528,      0.4243,      0.4245,     0.42456,     0.42432,     0.42428,     0.42403,\n",
      "            0.42333,      0.4234,     0.42215,      0.4219,     0.42179,     0.42146,     0.42035,     0.42039,     0.41962,     0.41912,     0.41851,     0.41806,     0.41687,     0.41661,     0.41596,     0.41485,      0.4139,     0.41361,     0.41299,     0.41225,     0.41173,     0.41091,     0.40939,\n",
      "            0.40849,     0.40783,     0.40665,     0.40644,     0.40604,     0.40429,     0.40404,     0.40325,     0.40267,      0.4022,     0.40178,     0.40131,     0.40104,     0.40059,     0.39931,     0.39855,     0.39786,     0.39761,     0.39758,     0.39736,     0.39497,     0.39312,     0.39307,\n",
      "            0.39158,     0.39136,     0.39011,     0.38778,     0.38688,     0.38348,     0.38324,     0.38213,     0.38194,     0.38192,     0.38076,     0.38042,     0.37942,     0.37835,     0.37722,     0.37491,     0.37477,     0.37451,     0.37337,     0.37303,     0.37201,     0.37036,     0.36944,\n",
      "            0.36788,     0.36755,     0.36653,     0.36602,     0.36574,     0.36549,       0.363,     0.36258,     0.36166,     0.36038,     0.35922,     0.35877,     0.35818,     0.35724,     0.35633,      0.3559,     0.35576,     0.35487,     0.35395,     0.35302,     0.35266,     0.35243,     0.35212,\n",
      "            0.35038,     0.34845,     0.34791,     0.34729,     0.34543,     0.34352,     0.34244,     0.34036,     0.34014,     0.33886,     0.33787,     0.33632,     0.33511,     0.33375,     0.33175,     0.32994,     0.32882,      0.3266,     0.32469,     0.32365,     0.32315,     0.32229,     0.32111,\n",
      "            0.32041,     0.32045,     0.31961,     0.31795,     0.31766,      0.3165,     0.31536,     0.31427,      0.3139,     0.31357,      0.3119,     0.30891,     0.30773,     0.30677,     0.30616,       0.305,     0.30304,     0.30136,     0.29967,     0.29845,     0.29669,     0.29633,     0.29475,\n",
      "            0.29411,     0.29276,     0.29212,     0.29174,     0.29053,     0.28849,     0.28792,     0.28653,     0.28417,     0.28296,     0.28125,     0.27969,     0.27887,     0.27723,     0.27621,     0.27366,     0.27204,      0.2716,      0.2694,     0.26688,      0.2659,     0.26486,     0.26369,\n",
      "            0.26214,     0.26094,     0.25794,     0.25652,     0.25583,     0.25429,     0.25286,     0.25097,     0.24915,     0.24708,     0.24305,     0.24192,     0.23994,     0.23602,     0.23325,     0.23058,     0.22962,     0.22804,     0.22452,     0.22214,     0.22063,     0.21893,     0.21831,\n",
      "            0.21654,     0.21528,     0.21118,        0.21,     0.20712,     0.20615,     0.20435,     0.20153,     0.19961,     0.19693,     0.19412,     0.19184,        0.19,     0.18938,     0.18908,     0.18631,     0.18318,     0.18158,     0.18029,     0.17705,     0.17616,      0.1744,     0.17248,\n",
      "            0.17199,     0.16942,     0.16565,     0.16315,     0.15957,     0.15734,     0.15485,      0.1511,      0.1487,     0.14625,     0.14375,     0.14136,     0.14013,     0.13939,     0.13638,     0.13589,     0.13314,     0.13064,     0.12866,     0.12693,     0.12488,     0.12033,      0.1186,\n",
      "            0.11667,     0.11481,     0.11302,     0.11141,     0.10979,     0.10537,     0.10338,     0.10128,     0.10117,    0.098925,    0.097174,    0.096269,    0.094042,    0.090812,     0.08617,    0.083215,    0.079781,    0.077959,    0.076843,    0.075254,    0.073839,    0.072088,    0.070885,\n",
      "           0.066775,    0.063383,    0.058092,    0.056441,    0.051828,    0.050185,    0.045835,    0.045163,    0.042523,    0.037696,    0.033676,    0.030584,    0.024501,    0.021197,    0.018182,    0.014936,    0.011712,   0.0093879,   0.0077609,   0.0033003,   0.0013574,           0,           0,\n",
      "                  0,           0,           0,           0,           0,           0,           0,           0,           0,           0,           0]]), 'Confidence', 'F1'], [array([          0,    0.001001,    0.002002,    0.003003,    0.004004,    0.005005,    0.006006,    0.007007,    0.008008,    0.009009,     0.01001,    0.011011,    0.012012,    0.013013,    0.014014,    0.015015,    0.016016,    0.017017,    0.018018,    0.019019,     0.02002,    0.021021,    0.022022,    0.023023,\n",
      "          0.024024,    0.025025,    0.026026,    0.027027,    0.028028,    0.029029,     0.03003,    0.031031,    0.032032,    0.033033,    0.034034,    0.035035,    0.036036,    0.037037,    0.038038,    0.039039,     0.04004,    0.041041,    0.042042,    0.043043,    0.044044,    0.045045,    0.046046,    0.047047,\n",
      "          0.048048,    0.049049,     0.05005,    0.051051,    0.052052,    0.053053,    0.054054,    0.055055,    0.056056,    0.057057,    0.058058,    0.059059,     0.06006,    0.061061,    0.062062,    0.063063,    0.064064,    0.065065,    0.066066,    0.067067,    0.068068,    0.069069,     0.07007,    0.071071,\n",
      "          0.072072,    0.073073,    0.074074,    0.075075,    0.076076,    0.077077,    0.078078,    0.079079,     0.08008,    0.081081,    0.082082,    0.083083,    0.084084,    0.085085,    0.086086,    0.087087,    0.088088,    0.089089,     0.09009,    0.091091,    0.092092,    0.093093,    0.094094,    0.095095,\n",
      "          0.096096,    0.097097,    0.098098,    0.099099,      0.1001,      0.1011,      0.1021,      0.1031,      0.1041,     0.10511,     0.10611,     0.10711,     0.10811,     0.10911,     0.11011,     0.11111,     0.11211,     0.11311,     0.11411,     0.11512,     0.11612,     0.11712,     0.11812,     0.11912,\n",
      "           0.12012,     0.12112,     0.12212,     0.12312,     0.12412,     0.12513,     0.12613,     0.12713,     0.12813,     0.12913,     0.13013,     0.13113,     0.13213,     0.13313,     0.13413,     0.13514,     0.13614,     0.13714,     0.13814,     0.13914,     0.14014,     0.14114,     0.14214,     0.14314,\n",
      "           0.14414,     0.14515,     0.14615,     0.14715,     0.14815,     0.14915,     0.15015,     0.15115,     0.15215,     0.15315,     0.15415,     0.15516,     0.15616,     0.15716,     0.15816,     0.15916,     0.16016,     0.16116,     0.16216,     0.16316,     0.16416,     0.16517,     0.16617,     0.16717,\n",
      "           0.16817,     0.16917,     0.17017,     0.17117,     0.17217,     0.17317,     0.17417,     0.17518,     0.17618,     0.17718,     0.17818,     0.17918,     0.18018,     0.18118,     0.18218,     0.18318,     0.18418,     0.18519,     0.18619,     0.18719,     0.18819,     0.18919,     0.19019,     0.19119,\n",
      "           0.19219,     0.19319,     0.19419,      0.1952,      0.1962,      0.1972,      0.1982,      0.1992,      0.2002,      0.2012,      0.2022,      0.2032,      0.2042,     0.20521,     0.20621,     0.20721,     0.20821,     0.20921,     0.21021,     0.21121,     0.21221,     0.21321,     0.21421,     0.21522,\n",
      "           0.21622,     0.21722,     0.21822,     0.21922,     0.22022,     0.22122,     0.22222,     0.22322,     0.22422,     0.22523,     0.22623,     0.22723,     0.22823,     0.22923,     0.23023,     0.23123,     0.23223,     0.23323,     0.23423,     0.23524,     0.23624,     0.23724,     0.23824,     0.23924,\n",
      "           0.24024,     0.24124,     0.24224,     0.24324,     0.24424,     0.24525,     0.24625,     0.24725,     0.24825,     0.24925,     0.25025,     0.25125,     0.25225,     0.25325,     0.25425,     0.25526,     0.25626,     0.25726,     0.25826,     0.25926,     0.26026,     0.26126,     0.26226,     0.26326,\n",
      "           0.26426,     0.26527,     0.26627,     0.26727,     0.26827,     0.26927,     0.27027,     0.27127,     0.27227,     0.27327,     0.27427,     0.27528,     0.27628,     0.27728,     0.27828,     0.27928,     0.28028,     0.28128,     0.28228,     0.28328,     0.28428,     0.28529,     0.28629,     0.28729,\n",
      "           0.28829,     0.28929,     0.29029,     0.29129,     0.29229,     0.29329,     0.29429,      0.2953,      0.2963,      0.2973,      0.2983,      0.2993,      0.3003,      0.3013,      0.3023,      0.3033,      0.3043,     0.30531,     0.30631,     0.30731,     0.30831,     0.30931,     0.31031,     0.31131,\n",
      "           0.31231,     0.31331,     0.31431,     0.31532,     0.31632,     0.31732,     0.31832,     0.31932,     0.32032,     0.32132,     0.32232,     0.32332,     0.32432,     0.32533,     0.32633,     0.32733,     0.32833,     0.32933,     0.33033,     0.33133,     0.33233,     0.33333,     0.33433,     0.33534,\n",
      "           0.33634,     0.33734,     0.33834,     0.33934,     0.34034,     0.34134,     0.34234,     0.34334,     0.34434,     0.34535,     0.34635,     0.34735,     0.34835,     0.34935,     0.35035,     0.35135,     0.35235,     0.35335,     0.35435,     0.35536,     0.35636,     0.35736,     0.35836,     0.35936,\n",
      "           0.36036,     0.36136,     0.36236,     0.36336,     0.36436,     0.36537,     0.36637,     0.36737,     0.36837,     0.36937,     0.37037,     0.37137,     0.37237,     0.37337,     0.37437,     0.37538,     0.37638,     0.37738,     0.37838,     0.37938,     0.38038,     0.38138,     0.38238,     0.38338,\n",
      "           0.38438,     0.38539,     0.38639,     0.38739,     0.38839,     0.38939,     0.39039,     0.39139,     0.39239,     0.39339,     0.39439,      0.3954,      0.3964,      0.3974,      0.3984,      0.3994,      0.4004,      0.4014,      0.4024,      0.4034,      0.4044,     0.40541,     0.40641,     0.40741,\n",
      "           0.40841,     0.40941,     0.41041,     0.41141,     0.41241,     0.41341,     0.41441,     0.41542,     0.41642,     0.41742,     0.41842,     0.41942,     0.42042,     0.42142,     0.42242,     0.42342,     0.42442,     0.42543,     0.42643,     0.42743,     0.42843,     0.42943,     0.43043,     0.43143,\n",
      "           0.43243,     0.43343,     0.43443,     0.43544,     0.43644,     0.43744,     0.43844,     0.43944,     0.44044,     0.44144,     0.44244,     0.44344,     0.44444,     0.44545,     0.44645,     0.44745,     0.44845,     0.44945,     0.45045,     0.45145,     0.45245,     0.45345,     0.45445,     0.45546,\n",
      "           0.45646,     0.45746,     0.45846,     0.45946,     0.46046,     0.46146,     0.46246,     0.46346,     0.46446,     0.46547,     0.46647,     0.46747,     0.46847,     0.46947,     0.47047,     0.47147,     0.47247,     0.47347,     0.47447,     0.47548,     0.47648,     0.47748,     0.47848,     0.47948,\n",
      "           0.48048,     0.48148,     0.48248,     0.48348,     0.48448,     0.48549,     0.48649,     0.48749,     0.48849,     0.48949,     0.49049,     0.49149,     0.49249,     0.49349,     0.49449,      0.4955,      0.4965,      0.4975,      0.4985,      0.4995,      0.5005,      0.5015,      0.5025,      0.5035,\n",
      "            0.5045,     0.50551,     0.50651,     0.50751,     0.50851,     0.50951,     0.51051,     0.51151,     0.51251,     0.51351,     0.51451,     0.51552,     0.51652,     0.51752,     0.51852,     0.51952,     0.52052,     0.52152,     0.52252,     0.52352,     0.52452,     0.52553,     0.52653,     0.52753,\n",
      "           0.52853,     0.52953,     0.53053,     0.53153,     0.53253,     0.53353,     0.53453,     0.53554,     0.53654,     0.53754,     0.53854,     0.53954,     0.54054,     0.54154,     0.54254,     0.54354,     0.54454,     0.54555,     0.54655,     0.54755,     0.54855,     0.54955,     0.55055,     0.55155,\n",
      "           0.55255,     0.55355,     0.55455,     0.55556,     0.55656,     0.55756,     0.55856,     0.55956,     0.56056,     0.56156,     0.56256,     0.56356,     0.56456,     0.56557,     0.56657,     0.56757,     0.56857,     0.56957,     0.57057,     0.57157,     0.57257,     0.57357,     0.57457,     0.57558,\n",
      "           0.57658,     0.57758,     0.57858,     0.57958,     0.58058,     0.58158,     0.58258,     0.58358,     0.58458,     0.58559,     0.58659,     0.58759,     0.58859,     0.58959,     0.59059,     0.59159,     0.59259,     0.59359,     0.59459,      0.5956,      0.5966,      0.5976,      0.5986,      0.5996,\n",
      "            0.6006,      0.6016,      0.6026,      0.6036,      0.6046,     0.60561,     0.60661,     0.60761,     0.60861,     0.60961,     0.61061,     0.61161,     0.61261,     0.61361,     0.61461,     0.61562,     0.61662,     0.61762,     0.61862,     0.61962,     0.62062,     0.62162,     0.62262,     0.62362,\n",
      "           0.62462,     0.62563,     0.62663,     0.62763,     0.62863,     0.62963,     0.63063,     0.63163,     0.63263,     0.63363,     0.63463,     0.63564,     0.63664,     0.63764,     0.63864,     0.63964,     0.64064,     0.64164,     0.64264,     0.64364,     0.64464,     0.64565,     0.64665,     0.64765,\n",
      "           0.64865,     0.64965,     0.65065,     0.65165,     0.65265,     0.65365,     0.65465,     0.65566,     0.65666,     0.65766,     0.65866,     0.65966,     0.66066,     0.66166,     0.66266,     0.66366,     0.66466,     0.66567,     0.66667,     0.66767,     0.66867,     0.66967,     0.67067,     0.67167,\n",
      "           0.67267,     0.67367,     0.67467,     0.67568,     0.67668,     0.67768,     0.67868,     0.67968,     0.68068,     0.68168,     0.68268,     0.68368,     0.68468,     0.68569,     0.68669,     0.68769,     0.68869,     0.68969,     0.69069,     0.69169,     0.69269,     0.69369,     0.69469,      0.6957,\n",
      "            0.6967,      0.6977,      0.6987,      0.6997,      0.7007,      0.7017,      0.7027,      0.7037,      0.7047,     0.70571,     0.70671,     0.70771,     0.70871,     0.70971,     0.71071,     0.71171,     0.71271,     0.71371,     0.71471,     0.71572,     0.71672,     0.71772,     0.71872,     0.71972,\n",
      "           0.72072,     0.72172,     0.72272,     0.72372,     0.72472,     0.72573,     0.72673,     0.72773,     0.72873,     0.72973,     0.73073,     0.73173,     0.73273,     0.73373,     0.73473,     0.73574,     0.73674,     0.73774,     0.73874,     0.73974,     0.74074,     0.74174,     0.74274,     0.74374,\n",
      "           0.74474,     0.74575,     0.74675,     0.74775,     0.74875,     0.74975,     0.75075,     0.75175,     0.75275,     0.75375,     0.75475,     0.75576,     0.75676,     0.75776,     0.75876,     0.75976,     0.76076,     0.76176,     0.76276,     0.76376,     0.76476,     0.76577,     0.76677,     0.76777,\n",
      "           0.76877,     0.76977,     0.77077,     0.77177,     0.77277,     0.77377,     0.77477,     0.77578,     0.77678,     0.77778,     0.77878,     0.77978,     0.78078,     0.78178,     0.78278,     0.78378,     0.78478,     0.78579,     0.78679,     0.78779,     0.78879,     0.78979,     0.79079,     0.79179,\n",
      "           0.79279,     0.79379,     0.79479,      0.7958,      0.7968,      0.7978,      0.7988,      0.7998,      0.8008,      0.8018,      0.8028,      0.8038,      0.8048,     0.80581,     0.80681,     0.80781,     0.80881,     0.80981,     0.81081,     0.81181,     0.81281,     0.81381,     0.81481,     0.81582,\n",
      "           0.81682,     0.81782,     0.81882,     0.81982,     0.82082,     0.82182,     0.82282,     0.82382,     0.82482,     0.82583,     0.82683,     0.82783,     0.82883,     0.82983,     0.83083,     0.83183,     0.83283,     0.83383,     0.83483,     0.83584,     0.83684,     0.83784,     0.83884,     0.83984,\n",
      "           0.84084,     0.84184,     0.84284,     0.84384,     0.84484,     0.84585,     0.84685,     0.84785,     0.84885,     0.84985,     0.85085,     0.85185,     0.85285,     0.85385,     0.85485,     0.85586,     0.85686,     0.85786,     0.85886,     0.85986,     0.86086,     0.86186,     0.86286,     0.86386,\n",
      "           0.86486,     0.86587,     0.86687,     0.86787,     0.86887,     0.86987,     0.87087,     0.87187,     0.87287,     0.87387,     0.87487,     0.87588,     0.87688,     0.87788,     0.87888,     0.87988,     0.88088,     0.88188,     0.88288,     0.88388,     0.88488,     0.88589,     0.88689,     0.88789,\n",
      "           0.88889,     0.88989,     0.89089,     0.89189,     0.89289,     0.89389,     0.89489,      0.8959,      0.8969,      0.8979,      0.8989,      0.8999,      0.9009,      0.9019,      0.9029,      0.9039,      0.9049,     0.90591,     0.90691,     0.90791,     0.90891,     0.90991,     0.91091,     0.91191,\n",
      "           0.91291,     0.91391,     0.91491,     0.91592,     0.91692,     0.91792,     0.91892,     0.91992,     0.92092,     0.92192,     0.92292,     0.92392,     0.92492,     0.92593,     0.92693,     0.92793,     0.92893,     0.92993,     0.93093,     0.93193,     0.93293,     0.93393,     0.93493,     0.93594,\n",
      "           0.93694,     0.93794,     0.93894,     0.93994,     0.94094,     0.94194,     0.94294,     0.94394,     0.94494,     0.94595,     0.94695,     0.94795,     0.94895,     0.94995,     0.95095,     0.95195,     0.95295,     0.95395,     0.95495,     0.95596,     0.95696,     0.95796,     0.95896,     0.95996,\n",
      "           0.96096,     0.96196,     0.96296,     0.96396,     0.96496,     0.96597,     0.96697,     0.96797,     0.96897,     0.96997,     0.97097,     0.97197,     0.97297,     0.97397,     0.97497,     0.97598,     0.97698,     0.97798,     0.97898,     0.97998,     0.98098,     0.98198,     0.98298,     0.98398,\n",
      "           0.98498,     0.98599,     0.98699,     0.98799,     0.98899,     0.98999,     0.99099,     0.99199,     0.99299,     0.99399,     0.99499,       0.996,       0.997,       0.998,       0.999,           1]), array([[   0.019441,    0.019454,     0.02982,    0.039065,    0.047809,     0.05602,    0.064001,    0.071929,    0.079201,    0.086046,    0.092819,    0.099225,     0.10603,     0.11178,     0.11754,     0.12288,     0.12795,     0.13304,     0.13816,     0.14292,     0.14785,     0.15293,     0.15717,\n",
      "            0.16188,     0.16567,     0.17002,     0.17458,     0.17869,     0.18273,     0.18706,     0.19054,     0.19534,     0.19918,     0.20296,     0.20633,     0.21037,     0.21431,     0.21802,      0.2211,     0.22426,     0.22708,      0.2298,     0.23281,     0.23517,     0.23741,      0.2404,\n",
      "            0.24348,     0.24649,     0.24961,     0.25247,     0.25554,     0.25898,     0.26221,     0.26456,     0.26772,     0.27042,     0.27316,     0.27604,     0.27965,     0.28259,     0.28524,     0.28799,      0.2912,     0.29332,      0.2957,     0.29828,     0.30071,     0.30315,     0.30483,\n",
      "            0.30805,     0.31001,     0.31277,     0.31447,     0.31649,     0.31832,     0.32063,     0.32223,     0.32445,     0.32566,     0.32786,      0.3305,     0.33273,     0.33506,     0.33764,     0.33926,     0.34105,     0.34268,     0.34514,     0.34679,     0.34891,     0.35144,     0.35386,\n",
      "            0.35546,      0.3575,     0.35933,     0.36087,       0.363,     0.36472,     0.36696,     0.36891,     0.36982,     0.37213,     0.37353,     0.37561,     0.37695,     0.37866,     0.38014,     0.38125,     0.38321,      0.3849,     0.38612,     0.38728,     0.38898,     0.39017,     0.39136,\n",
      "            0.39329,     0.39579,     0.39788,     0.39984,     0.40105,     0.40201,     0.40326,     0.40431,     0.40647,     0.40756,      0.4088,     0.41068,     0.41216,     0.41434,     0.41564,     0.41688,     0.41815,     0.42014,     0.42228,     0.42388,     0.42592,     0.42738,      0.4292,\n",
      "            0.43035,     0.43125,     0.43214,     0.43383,     0.43472,      0.4363,     0.43785,      0.4389,      0.4396,     0.44095,     0.44165,     0.44284,     0.44389,     0.44555,     0.44621,     0.44779,     0.44834,     0.45004,     0.45112,     0.45185,     0.45315,     0.45449,     0.45625,\n",
      "            0.45647,     0.45801,     0.45913,     0.45981,      0.4618,     0.46268,     0.46402,     0.46437,     0.46587,     0.46757,      0.4686,     0.46902,     0.46971,     0.47117,      0.4719,     0.47376,     0.47474,     0.47558,     0.47636,     0.47734,     0.47874,     0.47976,     0.48081,\n",
      "            0.48187,     0.48315,      0.4845,     0.48626,     0.48836,     0.49018,     0.49123,     0.49248,     0.49351,     0.49478,     0.49609,     0.49828,     0.49917,     0.50059,     0.50218,     0.50237,     0.50338,     0.50482,     0.50554,     0.50675,      0.5077,     0.50843,      0.5089,\n",
      "            0.51011,     0.51066,     0.51134,      0.5123,     0.51298,     0.51369,     0.51536,     0.51636,     0.51709,     0.51785,       0.519,      0.5194,     0.51934,     0.51979,     0.52092,     0.52156,     0.52202,      0.5227,     0.52343,     0.52502,      0.5261,     0.52771,      0.5289,\n",
      "            0.52995,     0.53122,     0.53166,     0.53339,      0.5341,     0.53483,     0.53482,     0.53598,     0.53656,      0.5383,     0.53914,     0.53938,     0.53932,     0.53984,      0.5408,     0.54167,      0.5432,     0.54516,     0.54557,     0.54678,     0.54758,     0.54826,     0.54923,\n",
      "            0.55045,     0.55308,      0.5538,     0.55474,     0.55526,     0.55689,     0.55762,     0.55842,      0.5594,     0.55987,     0.56077,     0.56162,     0.56281,     0.56342,     0.56424,     0.56492,     0.56603,     0.56685,     0.56811,     0.56902,     0.56974,     0.57075,     0.57165,\n",
      "            0.57265,     0.57376,     0.57468,     0.57521,     0.57661,     0.57724,     0.57772,     0.57792,     0.57802,     0.57827,     0.57851,     0.57881,     0.57883,     0.57921,     0.58122,     0.58324,     0.58363,      0.5837,     0.58477,     0.58538,     0.58547,     0.58627,     0.58721,\n",
      "            0.58734,     0.58791,     0.58844,     0.58908,     0.58954,     0.59111,      0.5921,     0.59235,     0.59309,     0.59339,     0.59446,     0.59485,     0.59508,     0.59679,     0.59755,     0.59839,     0.59887,     0.59917,     0.59979,     0.60024,     0.60135,     0.60153,     0.60228,\n",
      "            0.60283,     0.60411,     0.60512,     0.60639,      0.6076,     0.60862,       0.609,      0.6093,      0.6092,     0.60912,     0.60934,     0.60985,     0.61029,     0.61116,     0.61125,     0.61246,     0.61285,     0.61441,      0.6143,     0.61581,      0.6162,     0.61716,     0.61768,\n",
      "            0.61813,     0.61823,     0.61914,     0.61969,     0.61996,      0.6203,     0.62115,     0.62167,     0.62246,     0.62375,       0.624,     0.62617,     0.62691,     0.62885,      0.6294,     0.63045,     0.63035,     0.63147,     0.63205,      0.6329,      0.6339,     0.63385,     0.63352,\n",
      "            0.63469,     0.63551,     0.63605,     0.63714,        0.64,     0.63976,     0.64061,     0.64056,     0.64138,     0.64178,      0.6422,     0.64211,     0.64249,       0.643,     0.64364,     0.64455,     0.64591,     0.64612,     0.64731,     0.64738,     0.64771,     0.64854,     0.64952,\n",
      "            0.65093,     0.65111,     0.65181,     0.65262,      0.6534,       0.654,     0.65521,     0.65579,     0.65644,     0.65635,     0.65587,     0.65658,     0.65734,      0.6575,     0.65823,     0.65949,     0.66061,     0.66101,      0.6627,     0.66357,     0.66374,     0.66363,     0.66386,\n",
      "            0.66435,     0.66585,     0.66586,     0.66577,     0.66607,     0.66616,     0.66679,     0.66687,      0.6675,     0.66834,     0.66851,     0.66858,     0.66863,      0.6694,     0.66969,     0.67009,     0.67033,     0.67101,     0.67147,     0.67128,       0.671,     0.67202,     0.67228,\n",
      "            0.67245,      0.6726,     0.67348,     0.67373,     0.67362,     0.67352,     0.67339,       0.674,     0.67384,     0.67435,     0.67506,     0.67622,     0.67627,     0.67627,     0.67734,     0.67783,     0.67842,     0.67956,     0.67999,     0.68019,     0.68021,     0.67992,      0.6805,\n",
      "            0.68058,     0.68167,     0.68242,     0.68306,     0.68436,     0.68435,     0.68605,     0.68657,     0.68746,     0.68766,     0.68801,     0.68798,     0.68967,     0.69022,     0.69107,     0.69095,     0.69128,     0.69191,     0.69275,     0.69348,      0.6934,     0.69472,     0.69527,\n",
      "            0.69549,     0.69623,       0.696,     0.69671,     0.69644,     0.69676,     0.69673,     0.69788,     0.69794,      0.6977,     0.69788,     0.69814,     0.69866,     0.69911,      0.7005,     0.70219,     0.70193,     0.70203,     0.70202,     0.70263,     0.70282,      0.7035,     0.70369,\n",
      "            0.70368,     0.70409,     0.70477,     0.70511,      0.7053,     0.70557,     0.70574,     0.70602,     0.70698,     0.70708,       0.707,      0.7073,     0.70723,     0.70778,     0.70807,     0.70829,     0.70903,     0.70959,     0.70944,     0.70897,     0.70918,     0.70975,     0.71084,\n",
      "            0.71055,     0.71142,     0.71167,     0.71168,     0.71231,     0.71333,     0.71309,     0.71363,     0.71388,     0.71352,     0.71351,     0.71375,      0.7138,     0.71403,     0.71486,     0.71523,     0.71551,     0.71547,     0.71619,     0.71708,     0.71808,      0.7187,     0.71888,\n",
      "            0.71845,     0.71968,     0.72001,      0.7208,     0.72098,      0.7213,     0.72132,     0.72137,     0.72203,     0.72251,     0.72281,     0.72318,     0.72355,     0.72383,     0.72476,     0.72513,     0.72888,     0.72902,     0.72932,     0.73016,     0.73043,     0.73045,     0.73032,\n",
      "            0.73086,     0.73058,     0.73097,     0.73135,     0.73115,     0.73108,     0.73164,     0.73154,     0.73256,     0.73298,     0.73322,     0.73326,     0.73312,     0.73348,     0.73506,     0.73453,     0.73424,     0.73551,     0.73576,     0.73684,     0.73666,     0.73676,     0.73627,\n",
      "            0.73626,     0.73633,     0.73738,     0.73814,     0.73902,     0.74031,     0.74099,     0.74147,      0.7424,     0.74288,     0.74383,     0.74453,     0.74409,     0.74461,     0.74402,     0.74505,     0.74533,     0.74576,     0.74597,     0.74658,     0.74706,     0.74743,     0.74819,\n",
      "            0.74834,     0.74821,     0.74892,     0.74942,     0.74947,     0.74965,     0.74956,     0.74918,     0.74893,     0.74922,     0.74902,     0.74885,     0.74853,     0.74817,     0.74939,     0.74915,     0.75008,     0.75087,     0.75066,     0.75042,     0.75182,     0.75282,     0.75323,\n",
      "            0.75357,     0.75536,       0.756,     0.75655,     0.75608,     0.75714,     0.75723,     0.75728,     0.75816,      0.7593,     0.76117,     0.76166,     0.76308,     0.76295,     0.76269,     0.76233,     0.76205,      0.7616,     0.76179,     0.76214,     0.76216,     0.76253,     0.76216,\n",
      "            0.76211,     0.76261,     0.76318,     0.76349,     0.76317,      0.7642,     0.76407,     0.76473,     0.76496,     0.76485,     0.76602,     0.76627,      0.7667,     0.76621,     0.76648,     0.76855,     0.76825,     0.76771,     0.76759,     0.76779,     0.76768,     0.76743,     0.76819,\n",
      "            0.76836,      0.7686,     0.76895,     0.76899,     0.77057,     0.77041,     0.77137,     0.77174,     0.77274,     0.77322,     0.77463,     0.77403,     0.77389,     0.77311,     0.77357,     0.77342,     0.77603,      0.7762,     0.77757,     0.77797,     0.77869,     0.77989,     0.78167,\n",
      "            0.78143,     0.78188,      0.7829,     0.78358,     0.78521,     0.78551,     0.78496,     0.78562,     0.78523,     0.78629,     0.78598,     0.78707,     0.78779,     0.78767,       0.788,     0.78744,      0.7883,     0.78883,     0.78919,     0.78882,     0.78855,     0.78813,     0.78804,\n",
      "            0.78924,     0.78971,     0.78939,     0.78928,     0.78908,     0.79027,     0.79015,     0.78974,     0.79014,     0.79061,     0.79039,     0.79157,     0.79287,      0.7948,     0.79487,     0.79448,     0.79413,     0.79526,     0.79618,     0.79607,     0.79484,      0.7948,     0.79609,\n",
      "            0.79607,     0.79746,     0.79682,     0.79561,     0.79567,     0.79559,     0.79554,     0.79495,      0.7964,     0.79846,     0.79813,     0.79866,     0.79989,     0.80059,     0.80025,     0.79984,      0.8029,     0.80451,     0.80426,     0.80539,     0.80487,     0.80484,      0.8052,\n",
      "            0.80438,     0.80421,     0.80367,      0.8034,     0.80325,     0.80312,      0.8018,     0.80242,     0.80193,     0.80124,     0.80148,     0.80209,     0.80264,     0.80337,     0.80338,     0.80315,     0.80452,     0.80612,     0.80563,     0.80691,     0.80672,     0.80749,     0.80733,\n",
      "             0.8073,     0.80626,     0.80779,     0.80929,     0.80922,     0.80818,     0.80853,     0.80833,     0.80997,      0.8094,     0.80886,     0.80855,      0.8088,     0.80948,     0.80934,     0.80833,      0.8077,     0.80643,     0.80534,     0.80474,     0.80445,     0.80596,     0.80629,\n",
      "            0.80725,     0.80777,     0.80848,     0.80816,     0.80839,     0.80875,     0.81123,      0.8106,     0.81039,     0.81125,     0.81242,     0.81176,     0.81106,      0.8105,     0.81014,     0.81054,     0.80937,     0.80947,     0.80956,     0.81192,     0.81229,     0.81207,     0.81111,\n",
      "            0.81072,     0.80989,      0.8095,     0.80978,     0.81084,     0.80957,     0.81237,     0.81191,     0.81163,     0.81137,     0.81222,     0.81247,     0.81442,     0.81589,     0.81906,     0.81746,     0.81902,     0.81874,     0.81865,     0.81704,     0.81773,     0.82109,     0.82432,\n",
      "            0.82345,     0.82268,     0.82074,     0.82121,     0.82359,     0.82258,     0.82163,     0.82327,     0.82206,     0.82066,     0.81937,      0.8216,     0.82023,     0.81745,     0.81545,     0.81348,     0.81434,     0.81316,     0.81208,     0.81025,      0.8107,     0.80936,     0.80887,\n",
      "            0.80745,     0.80809,     0.80815,      0.8089,     0.80651,     0.80744,     0.80772,     0.80708,     0.80724,     0.80489,     0.80237,      0.8003,     0.80013,     0.80181,     0.80153,     0.80477,     0.80182,     0.80028,     0.80107,     0.80195,     0.80108,     0.80141,     0.79997,\n",
      "             0.8011,     0.80062,      0.8011,     0.79844,     0.79453,     0.79433,      0.7962,     0.79186,       0.789,     0.78599,     0.78533,     0.78228,     0.78322,     0.78483,     0.78347,     0.78532,     0.78447,     0.78377,     0.78379,     0.78133,     0.78123,      0.7744,     0.77426,\n",
      "            0.77468,     0.77479,     0.77695,     0.77882,     0.77614,     0.77529,     0.77177,     0.77502,     0.78587,     0.78927,      0.7904,     0.79231,     0.78823,     0.78618,      0.7768,     0.77042,     0.77161,     0.77674,     0.78386,     0.79027,      0.7975,     0.79889,     0.80733,\n",
      "            0.80957,     0.80749,     0.79745,     0.81687,     0.81132,     0.81447,     0.80254,     0.81584,     0.81623,     0.80795,     0.78949,     0.77276,     0.76196,      0.7489,     0.71866,     0.82963,     0.85711,     0.87796,     0.92239,           1,           1,           1,           1,\n",
      "                  1,           1,           1,           1,           1,           1,           1,           1,           1,           1,           1]]), 'Confidence', 'Precision'], [array([          0,    0.001001,    0.002002,    0.003003,    0.004004,    0.005005,    0.006006,    0.007007,    0.008008,    0.009009,     0.01001,    0.011011,    0.012012,    0.013013,    0.014014,    0.015015,    0.016016,    0.017017,    0.018018,    0.019019,     0.02002,    0.021021,    0.022022,    0.023023,\n",
      "          0.024024,    0.025025,    0.026026,    0.027027,    0.028028,    0.029029,     0.03003,    0.031031,    0.032032,    0.033033,    0.034034,    0.035035,    0.036036,    0.037037,    0.038038,    0.039039,     0.04004,    0.041041,    0.042042,    0.043043,    0.044044,    0.045045,    0.046046,    0.047047,\n",
      "          0.048048,    0.049049,     0.05005,    0.051051,    0.052052,    0.053053,    0.054054,    0.055055,    0.056056,    0.057057,    0.058058,    0.059059,     0.06006,    0.061061,    0.062062,    0.063063,    0.064064,    0.065065,    0.066066,    0.067067,    0.068068,    0.069069,     0.07007,    0.071071,\n",
      "          0.072072,    0.073073,    0.074074,    0.075075,    0.076076,    0.077077,    0.078078,    0.079079,     0.08008,    0.081081,    0.082082,    0.083083,    0.084084,    0.085085,    0.086086,    0.087087,    0.088088,    0.089089,     0.09009,    0.091091,    0.092092,    0.093093,    0.094094,    0.095095,\n",
      "          0.096096,    0.097097,    0.098098,    0.099099,      0.1001,      0.1011,      0.1021,      0.1031,      0.1041,     0.10511,     0.10611,     0.10711,     0.10811,     0.10911,     0.11011,     0.11111,     0.11211,     0.11311,     0.11411,     0.11512,     0.11612,     0.11712,     0.11812,     0.11912,\n",
      "           0.12012,     0.12112,     0.12212,     0.12312,     0.12412,     0.12513,     0.12613,     0.12713,     0.12813,     0.12913,     0.13013,     0.13113,     0.13213,     0.13313,     0.13413,     0.13514,     0.13614,     0.13714,     0.13814,     0.13914,     0.14014,     0.14114,     0.14214,     0.14314,\n",
      "           0.14414,     0.14515,     0.14615,     0.14715,     0.14815,     0.14915,     0.15015,     0.15115,     0.15215,     0.15315,     0.15415,     0.15516,     0.15616,     0.15716,     0.15816,     0.15916,     0.16016,     0.16116,     0.16216,     0.16316,     0.16416,     0.16517,     0.16617,     0.16717,\n",
      "           0.16817,     0.16917,     0.17017,     0.17117,     0.17217,     0.17317,     0.17417,     0.17518,     0.17618,     0.17718,     0.17818,     0.17918,     0.18018,     0.18118,     0.18218,     0.18318,     0.18418,     0.18519,     0.18619,     0.18719,     0.18819,     0.18919,     0.19019,     0.19119,\n",
      "           0.19219,     0.19319,     0.19419,      0.1952,      0.1962,      0.1972,      0.1982,      0.1992,      0.2002,      0.2012,      0.2022,      0.2032,      0.2042,     0.20521,     0.20621,     0.20721,     0.20821,     0.20921,     0.21021,     0.21121,     0.21221,     0.21321,     0.21421,     0.21522,\n",
      "           0.21622,     0.21722,     0.21822,     0.21922,     0.22022,     0.22122,     0.22222,     0.22322,     0.22422,     0.22523,     0.22623,     0.22723,     0.22823,     0.22923,     0.23023,     0.23123,     0.23223,     0.23323,     0.23423,     0.23524,     0.23624,     0.23724,     0.23824,     0.23924,\n",
      "           0.24024,     0.24124,     0.24224,     0.24324,     0.24424,     0.24525,     0.24625,     0.24725,     0.24825,     0.24925,     0.25025,     0.25125,     0.25225,     0.25325,     0.25425,     0.25526,     0.25626,     0.25726,     0.25826,     0.25926,     0.26026,     0.26126,     0.26226,     0.26326,\n",
      "           0.26426,     0.26527,     0.26627,     0.26727,     0.26827,     0.26927,     0.27027,     0.27127,     0.27227,     0.27327,     0.27427,     0.27528,     0.27628,     0.27728,     0.27828,     0.27928,     0.28028,     0.28128,     0.28228,     0.28328,     0.28428,     0.28529,     0.28629,     0.28729,\n",
      "           0.28829,     0.28929,     0.29029,     0.29129,     0.29229,     0.29329,     0.29429,      0.2953,      0.2963,      0.2973,      0.2983,      0.2993,      0.3003,      0.3013,      0.3023,      0.3033,      0.3043,     0.30531,     0.30631,     0.30731,     0.30831,     0.30931,     0.31031,     0.31131,\n",
      "           0.31231,     0.31331,     0.31431,     0.31532,     0.31632,     0.31732,     0.31832,     0.31932,     0.32032,     0.32132,     0.32232,     0.32332,     0.32432,     0.32533,     0.32633,     0.32733,     0.32833,     0.32933,     0.33033,     0.33133,     0.33233,     0.33333,     0.33433,     0.33534,\n",
      "           0.33634,     0.33734,     0.33834,     0.33934,     0.34034,     0.34134,     0.34234,     0.34334,     0.34434,     0.34535,     0.34635,     0.34735,     0.34835,     0.34935,     0.35035,     0.35135,     0.35235,     0.35335,     0.35435,     0.35536,     0.35636,     0.35736,     0.35836,     0.35936,\n",
      "           0.36036,     0.36136,     0.36236,     0.36336,     0.36436,     0.36537,     0.36637,     0.36737,     0.36837,     0.36937,     0.37037,     0.37137,     0.37237,     0.37337,     0.37437,     0.37538,     0.37638,     0.37738,     0.37838,     0.37938,     0.38038,     0.38138,     0.38238,     0.38338,\n",
      "           0.38438,     0.38539,     0.38639,     0.38739,     0.38839,     0.38939,     0.39039,     0.39139,     0.39239,     0.39339,     0.39439,      0.3954,      0.3964,      0.3974,      0.3984,      0.3994,      0.4004,      0.4014,      0.4024,      0.4034,      0.4044,     0.40541,     0.40641,     0.40741,\n",
      "           0.40841,     0.40941,     0.41041,     0.41141,     0.41241,     0.41341,     0.41441,     0.41542,     0.41642,     0.41742,     0.41842,     0.41942,     0.42042,     0.42142,     0.42242,     0.42342,     0.42442,     0.42543,     0.42643,     0.42743,     0.42843,     0.42943,     0.43043,     0.43143,\n",
      "           0.43243,     0.43343,     0.43443,     0.43544,     0.43644,     0.43744,     0.43844,     0.43944,     0.44044,     0.44144,     0.44244,     0.44344,     0.44444,     0.44545,     0.44645,     0.44745,     0.44845,     0.44945,     0.45045,     0.45145,     0.45245,     0.45345,     0.45445,     0.45546,\n",
      "           0.45646,     0.45746,     0.45846,     0.45946,     0.46046,     0.46146,     0.46246,     0.46346,     0.46446,     0.46547,     0.46647,     0.46747,     0.46847,     0.46947,     0.47047,     0.47147,     0.47247,     0.47347,     0.47447,     0.47548,     0.47648,     0.47748,     0.47848,     0.47948,\n",
      "           0.48048,     0.48148,     0.48248,     0.48348,     0.48448,     0.48549,     0.48649,     0.48749,     0.48849,     0.48949,     0.49049,     0.49149,     0.49249,     0.49349,     0.49449,      0.4955,      0.4965,      0.4975,      0.4985,      0.4995,      0.5005,      0.5015,      0.5025,      0.5035,\n",
      "            0.5045,     0.50551,     0.50651,     0.50751,     0.50851,     0.50951,     0.51051,     0.51151,     0.51251,     0.51351,     0.51451,     0.51552,     0.51652,     0.51752,     0.51852,     0.51952,     0.52052,     0.52152,     0.52252,     0.52352,     0.52452,     0.52553,     0.52653,     0.52753,\n",
      "           0.52853,     0.52953,     0.53053,     0.53153,     0.53253,     0.53353,     0.53453,     0.53554,     0.53654,     0.53754,     0.53854,     0.53954,     0.54054,     0.54154,     0.54254,     0.54354,     0.54454,     0.54555,     0.54655,     0.54755,     0.54855,     0.54955,     0.55055,     0.55155,\n",
      "           0.55255,     0.55355,     0.55455,     0.55556,     0.55656,     0.55756,     0.55856,     0.55956,     0.56056,     0.56156,     0.56256,     0.56356,     0.56456,     0.56557,     0.56657,     0.56757,     0.56857,     0.56957,     0.57057,     0.57157,     0.57257,     0.57357,     0.57457,     0.57558,\n",
      "           0.57658,     0.57758,     0.57858,     0.57958,     0.58058,     0.58158,     0.58258,     0.58358,     0.58458,     0.58559,     0.58659,     0.58759,     0.58859,     0.58959,     0.59059,     0.59159,     0.59259,     0.59359,     0.59459,      0.5956,      0.5966,      0.5976,      0.5986,      0.5996,\n",
      "            0.6006,      0.6016,      0.6026,      0.6036,      0.6046,     0.60561,     0.60661,     0.60761,     0.60861,     0.60961,     0.61061,     0.61161,     0.61261,     0.61361,     0.61461,     0.61562,     0.61662,     0.61762,     0.61862,     0.61962,     0.62062,     0.62162,     0.62262,     0.62362,\n",
      "           0.62462,     0.62563,     0.62663,     0.62763,     0.62863,     0.62963,     0.63063,     0.63163,     0.63263,     0.63363,     0.63463,     0.63564,     0.63664,     0.63764,     0.63864,     0.63964,     0.64064,     0.64164,     0.64264,     0.64364,     0.64464,     0.64565,     0.64665,     0.64765,\n",
      "           0.64865,     0.64965,     0.65065,     0.65165,     0.65265,     0.65365,     0.65465,     0.65566,     0.65666,     0.65766,     0.65866,     0.65966,     0.66066,     0.66166,     0.66266,     0.66366,     0.66466,     0.66567,     0.66667,     0.66767,     0.66867,     0.66967,     0.67067,     0.67167,\n",
      "           0.67267,     0.67367,     0.67467,     0.67568,     0.67668,     0.67768,     0.67868,     0.67968,     0.68068,     0.68168,     0.68268,     0.68368,     0.68468,     0.68569,     0.68669,     0.68769,     0.68869,     0.68969,     0.69069,     0.69169,     0.69269,     0.69369,     0.69469,      0.6957,\n",
      "            0.6967,      0.6977,      0.6987,      0.6997,      0.7007,      0.7017,      0.7027,      0.7037,      0.7047,     0.70571,     0.70671,     0.70771,     0.70871,     0.70971,     0.71071,     0.71171,     0.71271,     0.71371,     0.71471,     0.71572,     0.71672,     0.71772,     0.71872,     0.71972,\n",
      "           0.72072,     0.72172,     0.72272,     0.72372,     0.72472,     0.72573,     0.72673,     0.72773,     0.72873,     0.72973,     0.73073,     0.73173,     0.73273,     0.73373,     0.73473,     0.73574,     0.73674,     0.73774,     0.73874,     0.73974,     0.74074,     0.74174,     0.74274,     0.74374,\n",
      "           0.74474,     0.74575,     0.74675,     0.74775,     0.74875,     0.74975,     0.75075,     0.75175,     0.75275,     0.75375,     0.75475,     0.75576,     0.75676,     0.75776,     0.75876,     0.75976,     0.76076,     0.76176,     0.76276,     0.76376,     0.76476,     0.76577,     0.76677,     0.76777,\n",
      "           0.76877,     0.76977,     0.77077,     0.77177,     0.77277,     0.77377,     0.77477,     0.77578,     0.77678,     0.77778,     0.77878,     0.77978,     0.78078,     0.78178,     0.78278,     0.78378,     0.78478,     0.78579,     0.78679,     0.78779,     0.78879,     0.78979,     0.79079,     0.79179,\n",
      "           0.79279,     0.79379,     0.79479,      0.7958,      0.7968,      0.7978,      0.7988,      0.7998,      0.8008,      0.8018,      0.8028,      0.8038,      0.8048,     0.80581,     0.80681,     0.80781,     0.80881,     0.80981,     0.81081,     0.81181,     0.81281,     0.81381,     0.81481,     0.81582,\n",
      "           0.81682,     0.81782,     0.81882,     0.81982,     0.82082,     0.82182,     0.82282,     0.82382,     0.82482,     0.82583,     0.82683,     0.82783,     0.82883,     0.82983,     0.83083,     0.83183,     0.83283,     0.83383,     0.83483,     0.83584,     0.83684,     0.83784,     0.83884,     0.83984,\n",
      "           0.84084,     0.84184,     0.84284,     0.84384,     0.84484,     0.84585,     0.84685,     0.84785,     0.84885,     0.84985,     0.85085,     0.85185,     0.85285,     0.85385,     0.85485,     0.85586,     0.85686,     0.85786,     0.85886,     0.85986,     0.86086,     0.86186,     0.86286,     0.86386,\n",
      "           0.86486,     0.86587,     0.86687,     0.86787,     0.86887,     0.86987,     0.87087,     0.87187,     0.87287,     0.87387,     0.87487,     0.87588,     0.87688,     0.87788,     0.87888,     0.87988,     0.88088,     0.88188,     0.88288,     0.88388,     0.88488,     0.88589,     0.88689,     0.88789,\n",
      "           0.88889,     0.88989,     0.89089,     0.89189,     0.89289,     0.89389,     0.89489,      0.8959,      0.8969,      0.8979,      0.8989,      0.8999,      0.9009,      0.9019,      0.9029,      0.9039,      0.9049,     0.90591,     0.90691,     0.90791,     0.90891,     0.90991,     0.91091,     0.91191,\n",
      "           0.91291,     0.91391,     0.91491,     0.91592,     0.91692,     0.91792,     0.91892,     0.91992,     0.92092,     0.92192,     0.92292,     0.92392,     0.92492,     0.92593,     0.92693,     0.92793,     0.92893,     0.92993,     0.93093,     0.93193,     0.93293,     0.93393,     0.93493,     0.93594,\n",
      "           0.93694,     0.93794,     0.93894,     0.93994,     0.94094,     0.94194,     0.94294,     0.94394,     0.94494,     0.94595,     0.94695,     0.94795,     0.94895,     0.94995,     0.95095,     0.95195,     0.95295,     0.95395,     0.95495,     0.95596,     0.95696,     0.95796,     0.95896,     0.95996,\n",
      "           0.96096,     0.96196,     0.96296,     0.96396,     0.96496,     0.96597,     0.96697,     0.96797,     0.96897,     0.96997,     0.97097,     0.97197,     0.97297,     0.97397,     0.97497,     0.97598,     0.97698,     0.97798,     0.97898,     0.97998,     0.98098,     0.98198,     0.98298,     0.98398,\n",
      "           0.98498,     0.98599,     0.98699,     0.98799,     0.98899,     0.98999,     0.99099,     0.99199,     0.99299,     0.99399,     0.99499,       0.996,       0.997,       0.998,       0.999,           1]), array([[    0.69594,     0.69594,      0.6825,       0.673,     0.66514,     0.65891,     0.65629,     0.65334,     0.64941,     0.64613,     0.64253,      0.6386,     0.63729,     0.63336,     0.63237,     0.62811,     0.62451,     0.62156,     0.62025,     0.61959,     0.61763,     0.61566,     0.61337,\n",
      "            0.61206,     0.61009,      0.6078,     0.60714,      0.6055,     0.60419,     0.60354,     0.60223,     0.60092,     0.59928,     0.59764,     0.59633,       0.596,     0.59535,     0.59469,     0.59338,     0.59142,      0.5901,     0.58912,     0.58748,     0.58585,     0.58453,      0.5829,\n",
      "            0.58224,     0.58159,     0.58093,      0.5806,     0.58028,     0.57962,     0.57864,     0.57733,       0.577,     0.57602,     0.57536,     0.57471,     0.57405,     0.57307,     0.57176,      0.5711,     0.57077,     0.56979,     0.56913,     0.56848,     0.56782,     0.56782,     0.56586,\n",
      "             0.5652,     0.56422,     0.56422,     0.56291,     0.56193,      0.5603,     0.55931,     0.55832,     0.55734,     0.55668,      0.5557,     0.55537,     0.55406,     0.55308,     0.55275,     0.55148,     0.55046,     0.54915,     0.54915,     0.54849,     0.54784,     0.54751,     0.54685,\n",
      "            0.54653,     0.54587,     0.54554,     0.54489,     0.54489,     0.54391,     0.54325,     0.54292,     0.54292,      0.5426,     0.54161,     0.54046,     0.53866,     0.53866,     0.53801,      0.5367,     0.53637,     0.53604,     0.53539,     0.53473,      0.5344,     0.53342,     0.53244,\n",
      "            0.53178,     0.53178,     0.53111,      0.5308,     0.53047,     0.53047,     0.53014,      0.5295,     0.52949,     0.52851,     0.52785,     0.52785,     0.52752,     0.52752,     0.52687,     0.52654,      0.5251,      0.5249,      0.5249,     0.52392,     0.52392,     0.52359,     0.52326,\n",
      "            0.52261,     0.52163,     0.52031,     0.51999,     0.51966,     0.51966,     0.51966,     0.51868,     0.51816,     0.51769,     0.51737,     0.51704,     0.51671,     0.51638,     0.51573,     0.51573,      0.5154,      0.5154,     0.51442,     0.51343,     0.51311,     0.51278,     0.51278,\n",
      "            0.51212,      0.5118,      0.5118,     0.51114,     0.51114,     0.51048,     0.50983,     0.50885,     0.50885,     0.50885,     0.50819,     0.50786,     0.50721,     0.50721,     0.50655,      0.5059,     0.50557,     0.50524,     0.50491,     0.50491,     0.50466,     0.50393,     0.50328,\n",
      "            0.50295,     0.50295,     0.50262,     0.50262,     0.50229,     0.50164,     0.50066,     0.50066,     0.50028,     0.49934,     0.49902,     0.49902,     0.49869,     0.49836,     0.49836,     0.49771,     0.49738,     0.49738,     0.49705,     0.49705,     0.49673,     0.49574,     0.49574,\n",
      "            0.49574,     0.49509,     0.49509,     0.49476,      0.4941,     0.49377,     0.49345,     0.49345,     0.49312,     0.49246,     0.49246,     0.49181,     0.49068,      0.4905,      0.4905,     0.49017,     0.48953,     0.48853,     0.48835,      0.4882,     0.48755,     0.48624,     0.48591,\n",
      "            0.48558,     0.48558,     0.48493,     0.48466,     0.48427,     0.48394,     0.48369,     0.48362,     0.48329,     0.48329,     0.48263,      0.4819,       0.481,       0.481,       0.481,     0.48034,     0.48034,     0.48034,     0.47936,      0.4787,     0.47805,     0.47706,     0.47706,\n",
      "            0.47608,     0.47608,     0.47575,     0.47575,     0.47543,     0.47543,     0.47477,     0.47444,     0.47412,     0.47346,     0.47346,     0.47308,      0.4728,      0.4728,     0.47215,     0.47182,     0.47182,     0.47168,     0.47117,     0.47051,     0.47051,     0.47008,     0.46986,\n",
      "            0.46986,     0.46986,     0.46986,     0.46953,     0.46953,     0.46887,     0.46822,     0.46702,     0.46631,      0.4659,     0.46494,     0.46469,     0.46363,      0.4633,     0.46298,     0.46298,     0.46248,     0.46199,     0.46166,     0.46121,     0.46068,     0.46068,     0.46051,\n",
      "             0.4597,      0.4597,      0.4597,     0.45904,     0.45904,     0.45872,     0.45872,     0.45839,     0.45799,      0.4574,     0.45723,     0.45708,     0.45675,     0.45675,     0.45642,     0.45642,     0.45642,     0.45544,     0.45511,     0.45511,     0.45511,     0.45511,     0.45511,\n",
      "            0.45478,     0.45413,      0.4538,      0.4538,     0.45347,     0.45315,     0.45282,     0.45282,     0.45216,     0.45151,     0.45076,      0.4502,      0.4502,      0.4502,     0.44954,     0.44954,     0.44921,       0.449,     0.44827,      0.4479,     0.44725,     0.44686,     0.44659,\n",
      "            0.44658,     0.44569,     0.44528,     0.44528,     0.44528,     0.44495,     0.44482,     0.44463,     0.44463,      0.4443,     0.44364,     0.44364,     0.44332,     0.44246,     0.44168,     0.44158,     0.44102,     0.44069,     0.44004,     0.43971,     0.43971,     0.43906,     0.43783,\n",
      "            0.43709,     0.43676,     0.43644,     0.43644,     0.43629,     0.43584,     0.43545,     0.43414,     0.43381,     0.43381,     0.43342,     0.43325,     0.43316,     0.43283,     0.43283,      0.4325,     0.43213,     0.43152,     0.43152,     0.43119,     0.43119,     0.43108,     0.43054,\n",
      "            0.43054,     0.43021,     0.43021,     0.42988,     0.42988,     0.42988,     0.42955,     0.42857,     0.42824,     0.42742,     0.42628,     0.42595,     0.42595,     0.42583,     0.42562,     0.42529,     0.42529,     0.42529,     0.42529,     0.42524,     0.42497,     0.42464,      0.4245,\n",
      "            0.42431,     0.42431,     0.42376,     0.42294,      0.4222,     0.42171,      0.4216,      0.4211,     0.42005,     0.41972,     0.41972,      0.4194,     0.41916,     0.41864,     0.41809,     0.41776,     0.41743,     0.41743,     0.41743,     0.41685,     0.41632,     0.41612,     0.41579,\n",
      "            0.41481,     0.41415,      0.4135,     0.41339,     0.41252,     0.41232,     0.41186,      0.4112,     0.41089,     0.41022,     0.40979,     0.40922,     0.40891,     0.40858,     0.40858,     0.40811,     0.40793,     0.40793,     0.40793,     0.40793,      0.4077,     0.40695,     0.40686,\n",
      "            0.40662,     0.40564,     0.40555,     0.40531,     0.40531,     0.40491,     0.40454,     0.40409,     0.40367,     0.40334,     0.40318,      0.4024,     0.40236,     0.40203,      0.4017,     0.40105,     0.40059,     0.40007,     0.39974,     0.39955,     0.39908,     0.39891,     0.39875,\n",
      "            0.39843,      0.3981,     0.39758,     0.39744,     0.39616,     0.39613,     0.39515,     0.39508,      0.3945,     0.39399,     0.39356,     0.39253,     0.39199,     0.39155,     0.39155,     0.39091,     0.39043,     0.39024,     0.38982,     0.38941,     0.38925,     0.38925,     0.38925,\n",
      "            0.38826,     0.38761,     0.38761,     0.38761,     0.38738,     0.38631,     0.38584,     0.38559,     0.38532,     0.38519,     0.38503,     0.38499,     0.38468,     0.38434,     0.38368,     0.38346,     0.38324,     0.38268,     0.38241,     0.38153,     0.38113,     0.38106,     0.38099,\n",
      "            0.37965,     0.37942,      0.3793,     0.37877,     0.37844,     0.37844,     0.37785,     0.37779,     0.37768,     0.37702,      0.3768,      0.3768,     0.37582,     0.37549,      0.3754,     0.37516,     0.37516,     0.37484,     0.37484,     0.37418,     0.37418,     0.37385,     0.37369,\n",
      "            0.37289,     0.37254,     0.37254,     0.37189,     0.37168,     0.37142,     0.37058,     0.36985,     0.36927,     0.36927,     0.36927,     0.36894,     0.36861,     0.36861,      0.3684,     0.36763,      0.3673,     0.36671,     0.36664,     0.36617,     0.36578,     0.36493,     0.36469,\n",
      "            0.36402,     0.36339,     0.36323,     0.36303,     0.36267,     0.36206,     0.36206,     0.36107,     0.36042,     0.36009,     0.35976,     0.35938,     0.35912,     0.35878,      0.3578,     0.35629,     0.35518,     0.35518,     0.35518,     0.35504,     0.35419,     0.35399,     0.35309,\n",
      "            0.35223,      0.3519,      0.3519,     0.35097,     0.35092,     0.35092,     0.34961,     0.34957,     0.34895,     0.34838,      0.3483,     0.34759,     0.34678,     0.34581,     0.34476,     0.34436,     0.34436,     0.34436,     0.34404,     0.34364,     0.34258,     0.34228,     0.34172,\n",
      "            0.34142,     0.34077,     0.34011,     0.34003,     0.33978,     0.33948,     0.33833,     0.33764,     0.33719,     0.33674,     0.33637,     0.33511,     0.33452,     0.33388,     0.33313,     0.33269,     0.33257,     0.33181,     0.33144,     0.33093,     0.33093,     0.33028,     0.32904,\n",
      "            0.32864,     0.32831,     0.32733,       0.327,       0.325,     0.32405,     0.32307,     0.32202,      0.3215,     0.32077,     0.32077,     0.32012,     0.31976,     0.31952,     0.31907,     0.31845,     0.31794,     0.31715,     0.31684,     0.31651,     0.31586,     0.31563,       0.315,\n",
      "            0.31455,     0.31422,     0.31422,     0.31422,     0.31359,     0.31291,     0.31197,     0.31127,     0.31032,     0.30931,     0.30894,     0.30865,     0.30832,     0.30712,      0.3065,     0.30603,     0.30521,     0.30429,     0.30408,     0.30334,     0.30316,     0.30242,      0.3021,\n",
      "            0.30106,     0.30079,     0.30046,     0.29995,     0.29933,     0.29849,     0.29817,     0.29784,     0.29747,     0.29685,     0.29618,     0.29517,     0.29493,     0.29358,     0.29328,     0.29302,      0.2929,     0.29194,     0.29194,     0.29194,     0.29161,      0.2914,     0.29092,\n",
      "             0.2903,      0.2903,     0.28899,     0.28866,     0.28834,     0.28799,     0.28702,     0.28698,     0.28631,      0.2857,     0.28518,     0.28462,     0.28342,      0.2832,     0.28255,     0.28161,     0.28062,     0.28029,     0.27967,     0.27904,     0.27859,      0.2779,     0.27653,\n",
      "            0.27556,      0.2749,     0.27387,     0.27369,     0.27335,     0.27162,     0.27141,     0.27075,     0.27018,      0.2697,     0.26935,     0.26879,      0.2684,     0.26778,     0.26662,     0.26599,     0.26542,     0.26507,     0.26494,     0.26476,     0.26278,     0.26114,     0.26096,\n",
      "            0.25965,     0.25931,     0.25828,     0.25637,     0.25557,     0.25262,     0.25242,     0.25151,      0.2512,     0.25098,     0.25002,     0.24967,     0.24869,     0.24771,     0.24677,     0.24484,     0.24443,     0.24406,     0.24312,     0.24273,     0.24191,     0.24052,     0.23972,\n",
      "            0.23847,     0.23821,      0.2374,     0.23699,     0.23677,     0.23658,     0.23461,      0.2342,     0.23348,     0.23247,     0.23149,     0.23106,     0.23053,     0.22969,     0.22894,      0.2286,     0.22837,     0.22751,     0.22679,     0.22593,     0.22565,      0.2254,     0.22516,\n",
      "            0.22374,     0.22225,      0.2217,     0.22108,     0.21958,     0.21812,     0.21722,     0.21557,     0.21527,     0.21428,     0.21353,     0.21232,     0.21134,     0.21021,     0.20863,     0.20727,     0.20643,     0.20476,     0.20334,     0.20256,     0.20218,     0.20142,     0.20048,\n",
      "            0.19987,     0.19987,     0.19917,      0.1979,     0.19767,     0.19675,     0.19573,     0.19492,     0.19465,     0.19434,       0.193,     0.19075,     0.18988,     0.18919,     0.18875,     0.18784,     0.18642,     0.18515,     0.18386,     0.18283,     0.18149,     0.18123,      0.1801,\n",
      "            0.17964,     0.17867,     0.17821,     0.17792,     0.17697,     0.17552,     0.17497,     0.17396,     0.17224,     0.17136,     0.17007,     0.16892,     0.16824,     0.16698,     0.16611,     0.16434,     0.16311,      0.1628,     0.16123,     0.15949,     0.15876,      0.1579,     0.15695,\n",
      "            0.15588,     0.15506,     0.15301,       0.152,     0.15143,     0.15039,     0.14942,     0.14805,     0.14683,     0.14543,     0.14269,     0.14184,     0.14053,     0.13792,     0.13609,     0.13433,     0.13365,     0.13262,     0.13027,     0.12872,     0.12769,     0.12658,     0.12619,\n",
      "            0.12504,     0.12418,     0.12146,     0.12066,     0.11882,     0.11816,     0.11697,     0.11514,     0.11389,     0.11219,     0.11041,     0.10898,      0.1078,     0.10737,     0.10718,     0.10535,      0.1034,     0.10241,     0.10157,    0.099507,     0.09896,    0.097844,    0.096658,\n",
      "           0.096337,    0.094731,    0.092378,    0.090855,    0.088691,    0.087318,    0.085765,    0.083519,    0.082088,    0.080626,    0.079114,    0.077701,    0.076948,    0.076487,    0.074691,    0.074377,    0.072746,    0.071258,    0.070081,    0.069076,    0.067863,    0.065234,     0.06422,\n",
      "           0.063085,    0.061998,    0.060944,    0.059996,    0.059073,    0.056525,    0.055399,    0.054179,    0.054063,     0.05277,    0.051769,    0.051248,    0.050004,    0.048189,    0.045615,    0.043983,    0.042065,    0.041039,    0.040402,    0.039508,    0.038711,    0.037747,     0.03707,\n",
      "           0.034824,    0.032986,    0.030144,     0.02923,    0.026769,     0.02589,    0.023591,    0.023224,     0.02183,    0.019298,    0.017205,    0.015601,    0.012451,     0.01075,   0.0092076,    0.007536,   0.0058962,   0.0047192,   0.0038968,   0.0016529,  0.00067915,           0,           0,\n",
      "                  0,           0,           0,           0,           0,           0,           0,           0,           0,           0,           0]]), 'Confidence', 'Recall']]\n",
      "fitness: 0.689863069511802\n",
      "keys: ['metrics/precision(B)', 'metrics/recall(B)', 'metrics/mAP50(B)', 'metrics/mAP50-95(B)', 'metrics/precision(M)', 'metrics/recall(M)', 'metrics/mAP50(M)', 'metrics/mAP50-95(M)']\n",
      "maps: array([     0.6483])\n",
      "names: {0: 'haul_road'}\n",
      "plot: True\n",
      "results_dict: {'metrics/precision(B)': 0.728749386155872, 'metrics/recall(B)': 0.5655307994757536, 'metrics/mAP50(B)': 0.6384965740946444, 'metrics/mAP50-95(B)': 0.5054805715927071, 'metrics/precision(M)': 0.6338961803657099, 'metrics/recall(M)': 0.4397116644823067, 'metrics/mAP50(M)': 0.42547512426408685, 'metrics/mAP50-95(M)': 0.14281487249165825, 'fitness': 0.689863069511802}\n",
      "save_dir: PosixPath('runs/segment/val')\n",
      "seg: ultralytics.utils.metrics.Metric object\n",
      "speed: {'preprocess': 0.3213499751940585, 'inference': 17.646741713987687, 'loss': 0.002666422873017876, 'postprocess': 2.3677106079664885}\n",
      "task: 'segment'\n"
     ]
    }
   ],
   "source": [
    "validate_yolo_segmentation()"
   ]
  },
  {
   "cell_type": "code",
   "execution_count": 17,
   "metadata": {},
   "outputs": [
    {
     "name": "stdout",
     "output_type": "stream",
     "text": [
      "\n",
      "image 1/1 /mnt/e/pekerjaan/simas/road/data/raw/deepglobe-road-extraction-dataset/valid/988215_sat.jpg: 640x640 2 haul_roads, 36.0ms\n",
      "Speed: 4.0ms preprocess, 36.0ms inference, 4.5ms postprocess per image at shape (1, 3, 640, 640)\n",
      "Results saved to \u001b[1mruns/segment/predict6\u001b[0m\n",
      "1 label saved to runs/segment/predict6/labels\n",
      "Inference Complete. Check runs/predict directory.\n"
     ]
    }
   ],
   "source": [
    "infer_image(\"data/test_samples/Screenshot 2025-01-03 at 15.47.55.png\")"
   ]
  }
 ],
 "metadata": {
  "kernelspec": {
   "display_name": "base",
   "language": "python",
   "name": "python3"
  },
  "language_info": {
   "codemirror_mode": {
    "name": "ipython",
    "version": 3
   },
   "file_extension": ".py",
   "mimetype": "text/x-python",
   "name": "python",
   "nbconvert_exporter": "python",
   "pygments_lexer": "ipython3",
   "version": "3.12.8"
  }
 },
 "nbformat": 4,
 "nbformat_minor": 2
}
