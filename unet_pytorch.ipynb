{
 "cells": [
  {
   "cell_type": "markdown",
   "metadata": {},
   "source": [
    "## Dataset Preparation\n",
    "1. Download and Explore the Dataset:  \n",
    "- Download the dataset from the provided Codalab competition link.\n",
    "- Explore the data structure, including image dimensions, file formats, and corresponding labels.\n",
    "\n",
    "2. Data Augmentation:  \n",
    "- Use augmentations like rotations, flips, and brightness adjustments to increase the dataset's variety. Leverage libraries like `torchvision.transforms` or `Albumentations`.\n",
    "\n",
    "3. Dataset Class:  \n",
    "- Create a PyTorch dataset class that loads images and masks, applies augmentations, and prepares data for model training:"
   ]
  },
  {
   "cell_type": "code",
   "execution_count": null,
   "metadata": {},
   "outputs": [],
   "source": [
    "import os\n",
    "\n",
    "from PIL import Image\n",
    "import numpy as np\n",
    "\n",
    "from torch.utils.data import Dataset\n",
    "from torchvision.transforms import Compose, ToTensor, Normalize\n",
    "\n",
    "class HaulRoadDataset(Dataset):\n",
    "    def __init__(self, images_dir, masks_dir, transform=None):\n",
    "        \"\"\"\n",
    "        Args:\n",
    "            images_dir (str): Path to the directory containing images.\n",
    "            masks_dir (str): Path to the directory containing masks.\n",
    "            transform (callable, optional): Transformation to apply to both images and masks.\n",
    "        \"\"\"\n",
    "        self.images_dir = images_dir\n",
    "        self.masks_dir = masks_dir\n",
    "        self.transform = transform\n",
    "        self.images = sorted(os.listdir(images_dir))\n",
    "        self.masks = sorted(os.listdir(masks_dir))\n",
    "\n",
    "    def __len__(self):\n",
    "        return len(self.images)\n",
    "\n",
    "    def __getitem__(self, idx):\n",
    "        # Load image and mask\n",
    "        img_path = os.path.join(self.images_dir, self.images[idx])\n",
    "        mask_path = os.path.join(self.masks_dir, self.masks[idx])\n",
    "        image = Image.open(img_path).convert(\"RGB\")\n",
    "        mask = Image.open(mask_path).convert(\"L\")  # Grayscale for binary mask\n",
    "\n",
    "        # Convert mask to binary (0 and 1)\n",
    "        mask = np.array(mask) / 255.0  # Scale mask to range [0, 1]\n",
    "        mask = Image.fromarray((mask > 0.5).astype(np.uint8))  # Threshold mask to binary\n",
    "\n",
    "        # Apply transformations\n",
    "        if self.transform:\n",
    "            transformed = self.transform(image=np.array(image), mask=np.array(mask))\n",
    "            image = transformed['image']\n",
    "            mask = transformed['mask']\n",
    "\n",
    "        # Convert to tensors\n",
    "        image = ToTensor()(image)\n",
    "        mask = ToTensor()(mask)\n",
    "\n",
    "        return image, mask\n"
   ]
  },
  {
   "cell_type": "markdown",
   "metadata": {},
   "source": [
    "## Model Selection\n",
    "1. Backbone Model:  \n",
    "Use a segmentation model like U-Net, DeepLabV3, or SegFormer. Libraries like segmentation_models_pytorch can help simplify this step.\n",
    "\n",
    "2. Customize for Road Segmentation:  \n",
    "Choose an appropriate backbone (e.g., ResNet, EfficientNet) and adjust output classes for binary segmentation (road vs. background).\n",
    "\n",
    "3. PyTorch Lightning Module:  \n",
    "Wrap your model into a Lightning module for better structure:"
   ]
  },
  {
   "cell_type": "code",
   "execution_count": 2,
   "metadata": {},
   "outputs": [],
   "source": [
    "import pytorch_lightning as pl\n",
    "import torch.nn as nn\n",
    "import torch.optim as optim\n",
    "\n",
    "class RoadSegmentationModel(pl.LightningModule):\n",
    "    def __init__(self, model, learning_rate=1e-3):\n",
    "        super().__init__()\n",
    "        self.model = model\n",
    "        self.learning_rate = learning_rate\n",
    "        self.criterion = nn.BCEWithLogitsLoss()\n",
    "\n",
    "    def forward(self, x):\n",
    "        return self.model(x)\n",
    "\n",
    "    def training_step(self, batch, batch_idx):\n",
    "        images, masks = batch\n",
    "        outputs = self(images)\n",
    "        loss = self.criterion(outputs, masks)\n",
    "        self.log(\"train_loss\", loss)\n",
    "        return loss\n",
    "\n",
    "    def configure_optimizers(self):\n",
    "        return optim.Adam(self.parameters(), lr=self.learning_rate)\n"
   ]
  },
  {
   "cell_type": "code",
   "execution_count": 4,
   "metadata": {},
   "outputs": [],
   "source": [
    "from scipy.ndimage import label\n",
    "\n",
    "def calculate_road_size(mask, pixel_to_meter_ratio):\n",
    "    labeled_array, num_features = label(mask)\n",
    "    road_sizes = []\n",
    "    for i in range(1, num_features + 1):\n",
    "        component = (labeled_array == i).astype(np.uint8)\n",
    "        road_size = component.sum() * pixel_to_meter_ratio**2\n",
    "        road_sizes.append(road_size)\n",
    "    return road_sizes\n"
   ]
  },
  {
   "cell_type": "markdown",
   "metadata": {},
   "source": [
    "## Training\n",
    "\n",
    "1. Data Loaders:  \n",
    "- Create PyTorch data loaders for train, validation, and test splits.\n",
    "\n",
    "2. Training Loop:  \n",
    "- Use PyTorch Lightning’s Trainer to handle the training loop and evaluation:"
   ]
  },
  {
   "cell_type": "code",
   "execution_count": 5,
   "metadata": {},
   "outputs": [
    {
     "name": "stderr",
     "output_type": "stream",
     "text": [
      "Downloading: \"https://download.pytorch.org/models/resnet34-333f7ec4.pth\" to /home/asrulsibaoel/.cache/torch/hub/checkpoints/resnet34-333f7ec4.pth\n",
      "100%|██████████| 83.3M/83.3M [03:20<00:00, 436kB/s]\n"
     ]
    }
   ],
   "source": [
    "import segmentation_models_pytorch as smp\n",
    "\n",
    "# Define the base segmentation model\n",
    "base_model = smp.Unet(\n",
    "    encoder_name=\"resnet34\",  # Choose your backbone\n",
    "    encoder_weights=\"imagenet\",  # Pre-trained on ImageNet\n",
    "    in_channels=3,  # Input channels (e.g., RGB images)\n",
    "    classes=1,  # Output channels (binary segmentation)\n",
    ")"
   ]
  },
  {
   "cell_type": "code",
   "execution_count": null,
   "metadata": {},
   "outputs": [],
   "source": [
    "from torchvision.transforms import Normalize\n",
    "\n",
    "# Define augmentations or transformations (if any)\n",
    "transform = Compose([\n",
    "    Normalize(mean=[0.485, 0.456, 0.406], std=[0.229, 0.224, 0.225]),  # Normalize images\n",
    "])\n",
    "\n",
    "# Create dataset instances\n",
    "train_dataset = HaulRoadDataset(\n",
    "    images_dir=\"data/train/images\",\n",
    "    masks_dir=\"data/train/masks\",\n",
    "    transform=transform\n",
    ")\n",
    "val_dataset = HaulRoadDataset(\n",
    "    images_dir=\"data/val/images\",\n",
    "    masks_dir=\"data/val/masks\",\n",
    "    transform=transform\n",
    ")\n"
   ]
  },
  {
   "cell_type": "code",
   "execution_count": null,
   "metadata": {},
   "outputs": [],
   "source": [
    "from pytorch_lightning import Trainer\n",
    "from torch.utils.data import DataLoader\n",
    "\n",
    "trainer = Trainer(max_epochs=50, gpus=1)\n",
    "road_segmentation_model = RoadSegmentationModel(model=base_model)\n",
    "\n",
    "\n",
    "# Define your data loaders (train and validation)\n",
    "train_dataloader = DataLoader(train_dataset, batch_size=16, shuffle=True)\n",
    "val_dataloader = DataLoader(val_dataset, batch_size=16)\n",
    "\n",
    "# Instantiate the PyTorch Lightning trainer\n",
    "trainer = Trainer(max_epochs=50, gpus=1)  # Adjust gpus to 0 if no GPU is available\n",
    "\n",
    "# Fit the model\n",
    "trainer.fit(road_segmentation_model, train_dataloader, val_dataloader)\n",
    "\n"
   ]
  }
 ],
 "metadata": {
  "kernelspec": {
   "display_name": "base",
   "language": "python",
   "name": "python3"
  },
  "language_info": {
   "codemirror_mode": {
    "name": "ipython",
    "version": 3
   },
   "file_extension": ".py",
   "mimetype": "text/x-python",
   "name": "python",
   "nbconvert_exporter": "python",
   "pygments_lexer": "ipython3",
   "version": "3.12.4"
  }
 },
 "nbformat": 4,
 "nbformat_minor": 2
}
